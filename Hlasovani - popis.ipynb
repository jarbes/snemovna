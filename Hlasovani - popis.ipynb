{
 "cells": [
  {
   "cell_type": "markdown",
   "metadata": {},
   "source": [
    "# Hlasování"
   ]
  },
  {
   "cell_type": "markdown",
   "metadata": {},
   "source": [
    "<b>Zdroj dat: https://www.psp.cz/eknih/cdrom/opendata/</b>\n",
    "\n",
    "Formát dat\n",
    "Data jsou dostupná ve formátu UNL, tj. každý řádek v souboru odpovídá jednomu řádku v databázi, oddělovačem je znak roury (|), pokud je sloupec prázdný, je jeho hodnota typu null. V sloupcích jsou používány tzv. escape sekvence k zápisu speciálních znaků s úvodním znakem \\ (backslash) následovaný znakem.\n",
    "\n",
    "Kódování je windows-1250. \\[edit: až na výjimky\\]\n",
    "\n",
    "Pokud bude strunktura dat doplňována, budou nové sloupce přidávány na konec.\n",
    "\n",
    "Data jsou poskytována bezplatně, využití dat je <b>podmíněno uvedením zdroje dat a případně datem zpracování dat</b>.\n"
   ]
  },
  {
   "cell_type": "markdown",
   "metadata": {},
   "source": [
    "<b>Jmenné konvence:</b>\n",
    "* tabulky a sloupce tabulek česky dle konvence v zdrojových datech\n",
    "* proměnné, které se semanticky vztahují k dění v poslanecké sněmovně, česky bez diakritiky nebo anglicky\n",
    "* ostatní proměnné anglicky\n",
    "* komentáře a vysvětlení česky s diakritikou\n",
    "* funkce anglicky"
   ]
  },
  {
   "cell_type": "markdown",
   "metadata": {
    "id": "vvHadIMuaEdn"
   },
   "source": [
    "# Parametry"
   ]
  },
  {
   "cell_type": "code",
   "execution_count": null,
   "metadata": {},
   "outputs": [],
   "source": [
    "volebni_obdobi = '2017'\n",
    "data_dir = './data/'"
   ]
  },
  {
   "cell_type": "markdown",
   "metadata": {
    "id": "LqbC3QodaH-V"
   },
   "source": [
    "# Instalace závislostí"
   ]
  },
  {
   "cell_type": "code",
   "execution_count": null,
   "metadata": {
    "colab": {
     "base_uri": "https://localhost:8080/"
    },
    "id": "FetXjgBWZ5w2",
    "outputId": "722a0c2a-ed6d-49d7-d166-9151cb9b6afc"
   },
   "outputs": [],
   "source": [
    "!pip install jupyter-dash -q"
   ]
  },
  {
   "cell_type": "code",
   "execution_count": null,
   "metadata": {},
   "outputs": [],
   "source": [
    "%load_ext autoreload\n",
    "%autoreload 2"
   ]
  },
  {
   "cell_type": "markdown",
   "metadata": {
    "id": "LqbC3QodaH-V"
   },
   "source": [
    "# Importy"
   ]
  },
  {
   "cell_type": "code",
   "execution_count": null,
   "metadata": {},
   "outputs": [],
   "source": [
    "from setup_logger import log"
   ]
  },
  {
   "cell_type": "code",
   "execution_count": null,
   "metadata": {
    "id": "X0Qa9TMbZGRJ"
   },
   "outputs": [],
   "source": [
    "from os import path\n",
    "\n",
    "from datetime import timezone, datetime\n",
    "import pytz\n",
    "\n",
    "import pandas as pd\n",
    "import numpy as np\n",
    "\n",
    "import plotly.express as px\n",
    "import plotly.graph_objects as go\n",
    "import plotly.figure_factory as ff\n",
    "\n",
    "import dash\n",
    "from jupyter_dash import JupyterDash\n",
    "import dash_core_components as dcc\n",
    "import dash_html_components as html\n",
    "from dash.dependencies import Input, Output"
   ]
  },
  {
   "cell_type": "code",
   "execution_count": 5,
   "metadata": {},
   "outputs": [],
   "source": [
    "from utility import *\n",
    "from Snemovna import *\n",
    "from Osoby import *\n",
    "from Hlasovani import *\n",
    "from Schuze import *"
   ]
  },
  {
   "cell_type": "code",
   "execution_count": 6,
   "metadata": {},
   "outputs": [
    {
     "name": "stdout",
     "output_type": "stream",
     "text": [
      "test7/schuze.zip\n",
      "Checking for: ['test7/schuze.unl']\n",
      "Missing files: []\n",
      "Tabulka schuze:\n",
      "Přetypovávám sloupec: 'id_schuze'.\n",
      "Přetypovávám sloupec: 'id_org'.\n",
      "Přetypovávám sloupec: 'schuze'.\n"
     ]
    },
    {
     "ename": "TypeError",
     "evalue": "data type \"Int\" not understood",
     "output_type": "error",
     "traceback": [
      "\u001b[0;31m---------------------------------------------------------------------------\u001b[0m",
      "\u001b[0;31mTypeError\u001b[0m                                 Traceback (most recent call last)",
      "\u001b[0;32m<ipython-input-6-25d25c1bd90a>\u001b[0m in \u001b[0;36m<module>\u001b[0;34m\u001b[0m\n\u001b[0;32m----> 1\u001b[0;31m \u001b[0ms\u001b[0m \u001b[0;34m=\u001b[0m \u001b[0mSchuze\u001b[0m\u001b[0;34m(\u001b[0m\u001b[0mvolebni_obdobi\u001b[0m\u001b[0;34m=\u001b[0m\u001b[0;36m2017\u001b[0m\u001b[0;34m,\u001b[0m \u001b[0mdata_dir\u001b[0m\u001b[0;34m=\u001b[0m\u001b[0;34m\"test7\"\u001b[0m\u001b[0;34m,\u001b[0m \u001b[0mstahni\u001b[0m\u001b[0;34m=\u001b[0m\u001b[0;32mTrue\u001b[0m\u001b[0;34m)\u001b[0m\u001b[0;34m\u001b[0m\u001b[0;34m\u001b[0m\u001b[0m\n\u001b[0m",
      "\u001b[0;32m~/experiments/hlasovani/Schuze.py\u001b[0m in \u001b[0;36m__init__\u001b[0;34m(self, volebni_obdobi, data_dir, stahni)\u001b[0m\n\u001b[1;32m     22\u001b[0m         \u001b[0mself\u001b[0m\u001b[0;34m.\u001b[0m\u001b[0mstahni_data\u001b[0m\u001b[0;34m(\u001b[0m\u001b[0;34m)\u001b[0m\u001b[0;34m\u001b[0m\u001b[0;34m\u001b[0m\u001b[0m\n\u001b[1;32m     23\u001b[0m \u001b[0;34m\u001b[0m\u001b[0m\n\u001b[0;32m---> 24\u001b[0;31m         \u001b[0mself\u001b[0m\u001b[0;34m.\u001b[0m\u001b[0mschuze\u001b[0m\u001b[0;34m,\u001b[0m \u001b[0mself\u001b[0m\u001b[0;34m.\u001b[0m\u001b[0m_schuze\u001b[0m \u001b[0;34m=\u001b[0m \u001b[0mself\u001b[0m\u001b[0;34m.\u001b[0m\u001b[0mnacti_schuze\u001b[0m\u001b[0;34m(\u001b[0m\u001b[0;34m)\u001b[0m\u001b[0;34m\u001b[0m\u001b[0;34m\u001b[0m\u001b[0m\n\u001b[0m\u001b[1;32m     25\u001b[0m \u001b[0;34m\u001b[0m\u001b[0m\n\u001b[1;32m     26\u001b[0m     \u001b[0;32mdef\u001b[0m \u001b[0mnacti_schuze\u001b[0m\u001b[0;34m(\u001b[0m\u001b[0mself\u001b[0m\u001b[0;34m)\u001b[0m\u001b[0;34m:\u001b[0m\u001b[0;34m\u001b[0m\u001b[0;34m\u001b[0m\u001b[0m\n",
      "\u001b[0;32m~/experiments/hlasovani/Schuze.py\u001b[0m in \u001b[0;36mnacti_schuze\u001b[0;34m(self)\u001b[0m\n\u001b[1;32m     46\u001b[0m \u001b[0;34m\u001b[0m\u001b[0m\n\u001b[1;32m     47\u001b[0m         \u001b[0m_df\u001b[0m \u001b[0;34m=\u001b[0m \u001b[0mpd\u001b[0m\u001b[0;34m.\u001b[0m\u001b[0mread_csv\u001b[0m\u001b[0;34m(\u001b[0m\u001b[0mself\u001b[0m\u001b[0;34m.\u001b[0m\u001b[0mpaths\u001b[0m\u001b[0;34m[\u001b[0m\u001b[0;34m'schuze'\u001b[0m\u001b[0;34m]\u001b[0m\u001b[0;34m,\u001b[0m \u001b[0msep\u001b[0m\u001b[0;34m=\u001b[0m\u001b[0;34m\"|\"\u001b[0m\u001b[0;34m,\u001b[0m \u001b[0mnames\u001b[0m \u001b[0;34m=\u001b[0m \u001b[0mheader\u001b[0m\u001b[0;34m,\u001b[0m  \u001b[0mindex_col\u001b[0m\u001b[0;34m=\u001b[0m\u001b[0;32mFalse\u001b[0m\u001b[0;34m,\u001b[0m \u001b[0mencoding\u001b[0m\u001b[0;34m=\u001b[0m\u001b[0;34m'cp1250'\u001b[0m\u001b[0;34m)\u001b[0m\u001b[0;34m\u001b[0m\u001b[0;34m\u001b[0m\u001b[0m\n\u001b[0;32m---> 48\u001b[0;31m         \u001b[0mdf\u001b[0m \u001b[0;34m=\u001b[0m \u001b[0mself\u001b[0m\u001b[0;34m.\u001b[0m\u001b[0mpretipuj\u001b[0m\u001b[0;34m(\u001b[0m\u001b[0m_df\u001b[0m\u001b[0;34m,\u001b[0m \u001b[0mheader\u001b[0m\u001b[0;34m,\u001b[0m \u001b[0;34m'schuze'\u001b[0m\u001b[0;34m)\u001b[0m\u001b[0;34m\u001b[0m\u001b[0;34m\u001b[0m\u001b[0m\n\u001b[0m\u001b[1;32m     49\u001b[0m \u001b[0;34m\u001b[0m\u001b[0m\n\u001b[1;32m     50\u001b[0m         \u001b[0;32mreturn\u001b[0m \u001b[0mdf\u001b[0m\u001b[0;34m,\u001b[0m \u001b[0m_df\u001b[0m\u001b[0;34m\u001b[0m\u001b[0;34m\u001b[0m\u001b[0m\n",
      "\u001b[0;32m~/experiments/hlasovani/Snemovna.py\u001b[0m in \u001b[0;36mpretipuj\u001b[0;34m(self, df, header, name)\u001b[0m\n\u001b[1;32m     62\u001b[0m             \u001b[0;32mif\u001b[0m \u001b[0mcol\u001b[0m \u001b[0;32min\u001b[0m \u001b[0mheader\u001b[0m\u001b[0;34m:\u001b[0m\u001b[0;34m\u001b[0m\u001b[0;34m\u001b[0m\u001b[0m\n\u001b[1;32m     63\u001b[0m                 \u001b[0mprint\u001b[0m\u001b[0;34m(\u001b[0m\u001b[0;34mf\"Přetypovávám sloupec: '{col}'.\"\u001b[0m\u001b[0;34m)\u001b[0m\u001b[0;34m\u001b[0m\u001b[0;34m\u001b[0m\u001b[0m\n\u001b[0;32m---> 64\u001b[0;31m                 \u001b[0mnew_df\u001b[0m\u001b[0;34m[\u001b[0m\u001b[0mcol\u001b[0m\u001b[0;34m]\u001b[0m \u001b[0;34m=\u001b[0m \u001b[0mdf\u001b[0m\u001b[0;34m[\u001b[0m\u001b[0mcol\u001b[0m\u001b[0;34m]\u001b[0m\u001b[0;34m.\u001b[0m\u001b[0mastype\u001b[0m\u001b[0;34m(\u001b[0m\u001b[0mheader\u001b[0m\u001b[0;34m[\u001b[0m\u001b[0mcol\u001b[0m\u001b[0;34m]\u001b[0m\u001b[0;34m)\u001b[0m\u001b[0;34m\u001b[0m\u001b[0;34m\u001b[0m\u001b[0m\n\u001b[0m\u001b[1;32m     65\u001b[0m         \u001b[0;32mreturn\u001b[0m \u001b[0mnew_df\u001b[0m\u001b[0;34m\u001b[0m\u001b[0;34m\u001b[0m\u001b[0m\n\u001b[1;32m     66\u001b[0m \u001b[0;34m\u001b[0m\u001b[0m\n",
      "\u001b[0;32m~/.venv/finance/lib/python3.7/site-packages/pandas/core/generic.py\u001b[0m in \u001b[0;36mastype\u001b[0;34m(self, dtype, copy, errors)\u001b[0m\n\u001b[1;32m   5546\u001b[0m         \u001b[0;32melse\u001b[0m\u001b[0;34m:\u001b[0m\u001b[0;34m\u001b[0m\u001b[0;34m\u001b[0m\u001b[0m\n\u001b[1;32m   5547\u001b[0m             \u001b[0;31m# else, only a single dtype is given\u001b[0m\u001b[0;34m\u001b[0m\u001b[0;34m\u001b[0m\u001b[0;34m\u001b[0m\u001b[0m\n\u001b[0;32m-> 5548\u001b[0;31m             \u001b[0mnew_data\u001b[0m \u001b[0;34m=\u001b[0m \u001b[0mself\u001b[0m\u001b[0;34m.\u001b[0m\u001b[0m_mgr\u001b[0m\u001b[0;34m.\u001b[0m\u001b[0mastype\u001b[0m\u001b[0;34m(\u001b[0m\u001b[0mdtype\u001b[0m\u001b[0;34m=\u001b[0m\u001b[0mdtype\u001b[0m\u001b[0;34m,\u001b[0m \u001b[0mcopy\u001b[0m\u001b[0;34m=\u001b[0m\u001b[0mcopy\u001b[0m\u001b[0;34m,\u001b[0m \u001b[0merrors\u001b[0m\u001b[0;34m=\u001b[0m\u001b[0merrors\u001b[0m\u001b[0;34m,\u001b[0m\u001b[0;34m)\u001b[0m\u001b[0;34m\u001b[0m\u001b[0;34m\u001b[0m\u001b[0m\n\u001b[0m\u001b[1;32m   5549\u001b[0m             \u001b[0;32mreturn\u001b[0m \u001b[0mself\u001b[0m\u001b[0;34m.\u001b[0m\u001b[0m_constructor\u001b[0m\u001b[0;34m(\u001b[0m\u001b[0mnew_data\u001b[0m\u001b[0;34m)\u001b[0m\u001b[0;34m.\u001b[0m\u001b[0m__finalize__\u001b[0m\u001b[0;34m(\u001b[0m\u001b[0mself\u001b[0m\u001b[0;34m,\u001b[0m \u001b[0mmethod\u001b[0m\u001b[0;34m=\u001b[0m\u001b[0;34m\"astype\"\u001b[0m\u001b[0;34m)\u001b[0m\u001b[0;34m\u001b[0m\u001b[0;34m\u001b[0m\u001b[0m\n\u001b[1;32m   5550\u001b[0m \u001b[0;34m\u001b[0m\u001b[0m\n",
      "\u001b[0;32m~/.venv/finance/lib/python3.7/site-packages/pandas/core/internals/managers.py\u001b[0m in \u001b[0;36mastype\u001b[0;34m(self, dtype, copy, errors)\u001b[0m\n\u001b[1;32m    602\u001b[0m         \u001b[0mself\u001b[0m\u001b[0;34m,\u001b[0m \u001b[0mdtype\u001b[0m\u001b[0;34m,\u001b[0m \u001b[0mcopy\u001b[0m\u001b[0;34m:\u001b[0m \u001b[0mbool\u001b[0m \u001b[0;34m=\u001b[0m \u001b[0;32mFalse\u001b[0m\u001b[0;34m,\u001b[0m \u001b[0merrors\u001b[0m\u001b[0;34m:\u001b[0m \u001b[0mstr\u001b[0m \u001b[0;34m=\u001b[0m \u001b[0;34m\"raise\"\u001b[0m\u001b[0;34m\u001b[0m\u001b[0;34m\u001b[0m\u001b[0m\n\u001b[1;32m    603\u001b[0m     ) -> \"BlockManager\":\n\u001b[0;32m--> 604\u001b[0;31m         \u001b[0;32mreturn\u001b[0m \u001b[0mself\u001b[0m\u001b[0;34m.\u001b[0m\u001b[0mapply\u001b[0m\u001b[0;34m(\u001b[0m\u001b[0;34m\"astype\"\u001b[0m\u001b[0;34m,\u001b[0m \u001b[0mdtype\u001b[0m\u001b[0;34m=\u001b[0m\u001b[0mdtype\u001b[0m\u001b[0;34m,\u001b[0m \u001b[0mcopy\u001b[0m\u001b[0;34m=\u001b[0m\u001b[0mcopy\u001b[0m\u001b[0;34m,\u001b[0m \u001b[0merrors\u001b[0m\u001b[0;34m=\u001b[0m\u001b[0merrors\u001b[0m\u001b[0;34m)\u001b[0m\u001b[0;34m\u001b[0m\u001b[0;34m\u001b[0m\u001b[0m\n\u001b[0m\u001b[1;32m    605\u001b[0m \u001b[0;34m\u001b[0m\u001b[0m\n\u001b[1;32m    606\u001b[0m     def convert(\n",
      "\u001b[0;32m~/.venv/finance/lib/python3.7/site-packages/pandas/core/internals/managers.py\u001b[0m in \u001b[0;36mapply\u001b[0;34m(self, f, align_keys, **kwargs)\u001b[0m\n\u001b[1;32m    407\u001b[0m                 \u001b[0mapplied\u001b[0m \u001b[0;34m=\u001b[0m \u001b[0mb\u001b[0m\u001b[0;34m.\u001b[0m\u001b[0mapply\u001b[0m\u001b[0;34m(\u001b[0m\u001b[0mf\u001b[0m\u001b[0;34m,\u001b[0m \u001b[0;34m**\u001b[0m\u001b[0mkwargs\u001b[0m\u001b[0;34m)\u001b[0m\u001b[0;34m\u001b[0m\u001b[0;34m\u001b[0m\u001b[0m\n\u001b[1;32m    408\u001b[0m             \u001b[0;32melse\u001b[0m\u001b[0;34m:\u001b[0m\u001b[0;34m\u001b[0m\u001b[0;34m\u001b[0m\u001b[0m\n\u001b[0;32m--> 409\u001b[0;31m                 \u001b[0mapplied\u001b[0m \u001b[0;34m=\u001b[0m \u001b[0mgetattr\u001b[0m\u001b[0;34m(\u001b[0m\u001b[0mb\u001b[0m\u001b[0;34m,\u001b[0m \u001b[0mf\u001b[0m\u001b[0;34m)\u001b[0m\u001b[0;34m(\u001b[0m\u001b[0;34m**\u001b[0m\u001b[0mkwargs\u001b[0m\u001b[0;34m)\u001b[0m\u001b[0;34m\u001b[0m\u001b[0;34m\u001b[0m\u001b[0m\n\u001b[0m\u001b[1;32m    410\u001b[0m             \u001b[0mresult_blocks\u001b[0m \u001b[0;34m=\u001b[0m \u001b[0m_extend_blocks\u001b[0m\u001b[0;34m(\u001b[0m\u001b[0mapplied\u001b[0m\u001b[0;34m,\u001b[0m \u001b[0mresult_blocks\u001b[0m\u001b[0;34m)\u001b[0m\u001b[0;34m\u001b[0m\u001b[0;34m\u001b[0m\u001b[0m\n\u001b[1;32m    411\u001b[0m \u001b[0;34m\u001b[0m\u001b[0m\n",
      "\u001b[0;32m~/.venv/finance/lib/python3.7/site-packages/pandas/core/internals/blocks.py\u001b[0m in \u001b[0;36mastype\u001b[0;34m(self, dtype, copy, errors)\u001b[0m\n\u001b[1;32m    546\u001b[0m \u001b[0;34m\u001b[0m\u001b[0m\n\u001b[1;32m    547\u001b[0m         \u001b[0;32mif\u001b[0m \u001b[0mdtype\u001b[0m \u001b[0;32mis\u001b[0m \u001b[0;32mnot\u001b[0m \u001b[0;32mNone\u001b[0m\u001b[0;34m:\u001b[0m\u001b[0;34m\u001b[0m\u001b[0;34m\u001b[0m\u001b[0m\n\u001b[0;32m--> 548\u001b[0;31m             \u001b[0mdtype\u001b[0m \u001b[0;34m=\u001b[0m \u001b[0mpandas_dtype\u001b[0m\u001b[0;34m(\u001b[0m\u001b[0mdtype\u001b[0m\u001b[0;34m)\u001b[0m\u001b[0;34m\u001b[0m\u001b[0;34m\u001b[0m\u001b[0m\n\u001b[0m\u001b[1;32m    549\u001b[0m \u001b[0;34m\u001b[0m\u001b[0m\n\u001b[1;32m    550\u001b[0m         \u001b[0;31m# may need to convert to categorical\u001b[0m\u001b[0;34m\u001b[0m\u001b[0;34m\u001b[0m\u001b[0;34m\u001b[0m\u001b[0m\n",
      "\u001b[0;32m~/.venv/finance/lib/python3.7/site-packages/pandas/core/dtypes/common.py\u001b[0m in \u001b[0;36mpandas_dtype\u001b[0;34m(dtype)\u001b[0m\n\u001b[1;32m   1761\u001b[0m     \u001b[0;31m# raise a consistent TypeError if failed\u001b[0m\u001b[0;34m\u001b[0m\u001b[0;34m\u001b[0m\u001b[0;34m\u001b[0m\u001b[0m\n\u001b[1;32m   1762\u001b[0m     \u001b[0;32mtry\u001b[0m\u001b[0;34m:\u001b[0m\u001b[0;34m\u001b[0m\u001b[0;34m\u001b[0m\u001b[0m\n\u001b[0;32m-> 1763\u001b[0;31m         \u001b[0mnpdtype\u001b[0m \u001b[0;34m=\u001b[0m \u001b[0mnp\u001b[0m\u001b[0;34m.\u001b[0m\u001b[0mdtype\u001b[0m\u001b[0;34m(\u001b[0m\u001b[0mdtype\u001b[0m\u001b[0;34m)\u001b[0m\u001b[0;34m\u001b[0m\u001b[0;34m\u001b[0m\u001b[0m\n\u001b[0m\u001b[1;32m   1764\u001b[0m     \u001b[0;32mexcept\u001b[0m \u001b[0mSyntaxError\u001b[0m \u001b[0;32mas\u001b[0m \u001b[0merr\u001b[0m\u001b[0;34m:\u001b[0m\u001b[0;34m\u001b[0m\u001b[0;34m\u001b[0m\u001b[0m\n\u001b[1;32m   1765\u001b[0m         \u001b[0;31m# np.dtype uses `eval` which can raise SyntaxError\u001b[0m\u001b[0;34m\u001b[0m\u001b[0;34m\u001b[0m\u001b[0;34m\u001b[0m\u001b[0m\n",
      "\u001b[0;31mTypeError\u001b[0m: data type \"Int\" not understood"
     ]
    }
   ],
   "source": [
    "s = Schuze(volebni_obdobi=2017, data_dir=\"test7\", stahni=True)"
   ]
  },
  {
   "cell_type": "code",
   "execution_count": null,
   "metadata": {},
   "outputs": [],
   "source": [
    "s.df"
   ]
  },
  {
   "cell_type": "markdown",
   "metadata": {
    "id": "wMxyPaRWZGRP"
   },
   "source": [
    "# Tabulka hlasování"
   ]
  },
  {
   "cell_type": "code",
   "execution_count": null,
   "metadata": {},
   "outputs": [],
   "source": [
    "hl = Poslanec(2017, data_dir=\"data_test/\", stahni=True)"
   ]
  },
  {
   "cell_type": "markdown",
   "metadata": {},
   "source": [
    "## Načtení tabulky hlasování (hlasovani_df)"
   ]
  },
  {
   "cell_type": "code",
   "execution_count": null,
   "metadata": {},
   "outputs": [],
   "source": [
    "hlasovani_df = hl.df"
   ]
  },
  {
   "cell_type": "code",
   "execution_count": null,
   "metadata": {},
   "outputs": [],
   "source": [
    "hlasovani_df.head()"
   ]
  },
  {
   "cell_type": "markdown",
   "metadata": {},
   "source": [
    "## Analýza tabulky hlasování (hlasovani_df)"
   ]
  },
  {
   "cell_type": "code",
   "execution_count": null,
   "metadata": {},
   "outputs": [],
   "source": [
    "popis_tabulku(hl.df)"
   ]
  },
  {
   "cell_type": "code",
   "execution_count": null,
   "metadata": {},
   "outputs": [],
   "source": [
    "popis_sloupec(hlasovani_df, 'bod')"
   ]
  },
  {
   "cell_type": "code",
   "execution_count": null,
   "metadata": {},
   "outputs": [],
   "source": [
    "# Bod pořadu schůze; je-li menší než 1, pak jde o procedurální hlasování nebo o hlasování k bodům, které v době hlasování neměly přiděleno číslo.\n",
    "fig = groupby_bar(hlasovani_df, by=['bod_CAT'], xlabel='bod hlasování', ylabel='počet', title=\"Počet hlasování dle bodu\")\n",
    "fig.show()"
   ]
  },
  {
   "cell_type": "code",
   "execution_count": null,
   "metadata": {},
   "outputs": [],
   "source": [
    "popis_sloupec(hlasovani_df, 'vysledek_CAT')"
   ]
  },
  {
   "cell_type": "code",
   "execution_count": null,
   "metadata": {},
   "outputs": [],
   "source": [
    "fig = groupby_bar(hlasovani_df, by=['vysledek_CAT'], xlabel='výsledek hlasování', ylabel='počet hlasování', title=\"Počet hlasování dle výsledku\")\n",
    "fig.show()"
   ]
  },
  {
   "cell_type": "code",
   "execution_count": null,
   "metadata": {},
   "outputs": [],
   "source": [
    "popis_sloupec(hlasovani_df, 'druh_hlasovani_CAT')"
   ]
  },
  {
   "cell_type": "code",
   "execution_count": null,
   "metadata": {},
   "outputs": [],
   "source": [
    "fig = groupby_bar(hlasovani_df, by=['druh_hlasovani_CAT'], xlabel='druh hlasování', ylabel='počet hlasování', title=\"Počet hlasování dle druhu hlasování\")\n",
    "fig.show()"
   ]
  },
  {
   "cell_type": "code",
   "execution_count": null,
   "metadata": {},
   "outputs": [],
   "source": [
    "popis_sloupec(hlasovani_df, 'datetime')"
   ]
  },
  {
   "cell_type": "code",
   "execution_count": null,
   "metadata": {},
   "outputs": [],
   "source": [
    "# hlasovani dle hodiny\n",
    "\n",
    "df = hlasovani_df.groupby(hlasovani_df.datetime.dt.hour).size()\n",
    "max_idx = df.sort_values().index[-1]\n",
    "min_idx = df.sort_values().index[0]\n",
    "print(f\"Nejvíce hlasování ({df.loc[max_idx]}) se uskutečnilo mezi {max_idx}:00 a {max_idx}:59.\")\n",
    "print(f\"Nejméně hlasování ({df.loc[min_idx]}) se uskutečnilo mezi {min_idx}:00 a {min_idx}:59.\")\n",
    "\n",
    "fig = go.Figure()\n",
    "\n",
    "fig.add_trace(go.Bar(\n",
    "    x=df.index,\n",
    "    y=df.values,\n",
    "    text=[f\"{t}:00 - {t}:59\" for t in df.index],\n",
    "    hovertemplate=\"Interval: %{text}<br>Počet hlasování:%{y}<extra></extra>\",\n",
    "))\n",
    "\n",
    "fig.update_layout(\n",
    "    title=\"Počet hlasování dle času [v hodinách]\",\n",
    "    xaxis_title=\"čas v hodinách\",\n",
    "    yaxis_title=\"počet hlasování\",\n",
    "    width=600,\n",
    "    height=400\n",
    ")\n",
    "\n",
    "fig.show()"
   ]
  },
  {
   "cell_type": "code",
   "execution_count": null,
   "metadata": {},
   "outputs": [],
   "source": [
    "# hlasovani dle dne z týdne\n",
    "\n",
    "day_dict = {'Monday':'pondělí', \"Tuesday\":'úterý', \"Wednesday\":'středa', \"Thursday\":'čtvrtek', \"Friday\":'pátek', \"Saturday\":'sobota', \"Sunday\":'neděle'}\n",
    "\n",
    "df = hlasovani_df.groupby(hlasovani_df.datetime.dt.strftime('%A').map(day_dict)).size()\n",
    "max_idx = df.sort_values().index[-1]\n",
    "min_idx = df.sort_values().index[0]\n",
    "print(f\"Nejvíce hlasování ({df.loc[max_idx]}) se uskutečnilo během dne: {max_idx}.\")\n",
    "print(f\"Nejméně hlasování ({df.loc[min_idx]}) se uskutečnilo během dne: {min_idx}.\")\n",
    "\n",
    "fig = go.Figure()\n",
    "\n",
    "index = list(day_dict.values())[:5] # pondělí ... pátek\n",
    "values = [df.loc[d] for d in index]\n",
    "text = index\n",
    "fig.add_trace(go.Bar(\n",
    "    x=index,\n",
    "    y=values,\n",
    "    text=text,\n",
    "    hovertemplate=\"Den: %{text}<br>Počet hlasování:%{y}<extra></extra>\",\n",
    "))\n",
    "\n",
    "fig.update_layout(\n",
    "    title=\"Počet hlasování dle dne v týdnu\",\n",
    "    xaxis_title=\"den\",\n",
    "    yaxis_title=\"počet hlasování\",\n",
    "    width=600,\n",
    "    height=400\n",
    ")\n",
    "\n",
    "fig.show()"
   ]
  },
  {
   "cell_type": "code",
   "execution_count": null,
   "metadata": {},
   "outputs": [],
   "source": [
    "# Všechna pondělní hlasování\n",
    "# V pondělí se hlasuje velmi zřídka, zřejmě jen na 1. schůzi\n",
    "\n",
    "hlasovani_df[hlasovani_df.datetime.dt.strftime(\"%A\") == 'Monday']"
   ]
  },
  {
   "cell_type": "code",
   "execution_count": null,
   "metadata": {},
   "outputs": [],
   "source": [
    "def pocet_hlasovani_dle_data(df, resample_to, resample_str, resample_label):\n",
    "    frame = df.set_index('datetime').resample(resample_to).size()\n",
    "    frame = frame.mask(frame == 0, None).dropna()\n",
    "\n",
    "    max_idx = frame.sort_values().index[-1]\n",
    "    min_idx = frame.sort_values().index[0]\n",
    "    print(f\"Nejvíce hlasování ({frame.loc[max_idx]}) se uskutečnilo {max_idx.strftime(resample_str)}.\")\n",
    "    print(f\"Nejméně hlasování ({frame.loc[min_idx]}) se uskutečnilo {min_idx.strftime(resample_str)}.\")\n",
    "\n",
    "    fig = go.Figure()\n",
    "    fig.add_trace(go.Bar(\n",
    "        x=frame.index,\n",
    "        y=frame.values,\n",
    "        hovertemplate=\"%{x}<br>počet hlasování: %{y}<extra></extra>\"\n",
    "    ))\n",
    "    \n",
    "    fig.update_layout(\n",
    "        title=f\"Počet hlasování dle data ({resample_label})\",\n",
    "        xaxis_title=f\"datum ({resample_label})\",\n",
    "        yaxis_title=\"počet hlasování\",\n",
    "        width=1200,\n",
    "        height=500\n",
    "    )\n",
    "\n",
    "    dt_all = pd.date_range(start=frame.index[0],end=frame.index[-1])\n",
    "    dt_obs = [d.strftime(resample_str) for d in frame.index]\n",
    "    dt_breaks = [d for d in dt_all.strftime(resample_str).tolist() if not d in dt_obs]\n",
    "    # nezobrazuj data bez hlasování\n",
    "    #dt_all = pd.date_range(start=df.index[0], end=df.index[-1])\n",
    "    #dt_obs = [d.strftime(resample_str) for d in df.index]\n",
    "    #dt_breaks = [d for d in dt_all.strftime(resample_str).tolist() if not d in dt_obs]\n",
    "\n",
    "    fig.update_xaxes(\n",
    "        rangebreaks=[dict(values=dt_breaks)]\n",
    "    )\n",
    "    \n",
    "    fig.show()"
   ]
  },
  {
   "cell_type": "code",
   "execution_count": null,
   "metadata": {},
   "outputs": [],
   "source": [
    "pocet_hlasovani_dle_data(hlasovani_df, \"D\", \"%Y-%m-%d\", \"den\")"
   ]
  },
  {
   "cell_type": "code",
   "execution_count": null,
   "metadata": {},
   "outputs": [],
   "source": [
    "pocet_hlasovani_dle_data(hlasovani_df, \"M\", \"%Y-%m\", \"měsíc\")"
   ]
  },
  {
   "cell_type": "code",
   "execution_count": null,
   "metadata": {},
   "outputs": [],
   "source": [
    "# Přidej kontrolní sloupec pro součet hlasování\n",
    "hlasovani_df['soucet_hlasovani'] =  hlasovani_df.pro + hlasovani_df.proti + hlasovani_df.nehlasoval + hlasovani_df.zdrzel"
   ]
  },
  {
   "cell_type": "code",
   "execution_count": null,
   "metadata": {},
   "outputs": [],
   "source": [
    "def resampled_bar(df, field, interval=\"D\", date_format=\"%Y-%m-%d\", operation='sum', name=None, type='scatter'):\n",
    "    name = name if name is not None else field    \n",
    "    #frame = df[field].groupby(df[\"datetime\"].dt.strftime(date_format)).size()\n",
    "    frame = df.set_index(\"datetime\")[field].resample(interval).agg(operation)\n",
    "    trace = go.Bar(x=frame.index, y=frame.values, name=name)\n",
    "    return trace\n",
    "\n",
    "interval = 'M'\n",
    "fig = go.Figure()\n",
    "fig.add_trace(resampled_bar(hlasovani_df, field=\"proti\", interval=interval))\n",
    "fig.add_trace(resampled_bar(hlasovani_df, field=\"pro\", interval=interval))\n",
    "fig.add_trace(resampled_bar(hlasovani_df, field=\"zdrzel\", interval=interval))\n",
    "fig.add_trace(resampled_bar(hlasovani_df, field=\"nehlasoval\", interval=interval))\n",
    "#fig.add_trace(resampled_bar(hlasovani_df, field=\"soucet_hlasovani\", interval=interval))\n",
    "fig.add_trace(resampled_bar(hlasovani_df, field=\"prihlaseno\", interval=interval))\n",
    "fig.add_trace(resampled_bar(hlasovani_df, field=\"kvorum\", interval=interval))\n",
    "\n",
    "fig.show()"
   ]
  },
  {
   "cell_type": "code",
   "execution_count": null,
   "metadata": {},
   "outputs": [],
   "source": [
    "# Najdi nekonzistentní součty vysledků hlasování, tj. případy, kdy hlasoval jiný počet poslanců, než kolik jich bylo přihlášeno k hlasování.\n",
    "# TODO: Ověř, že poslanci mají právo hlasovat, i když nejsou přihlášeni.\n",
    "\n",
    "fields = [\"schuze\", \"bod\", \"nazev_dlouhy\", \"pro\", \"proti\", \"nehlasoval\", \"zdrzel\", \"prihlaseno\", \"vysledek_CAT\", \"zmatecne_IND\"]\n",
    "hlasovani_df[hlasovani_df.soucet_hlasovani != hlasovani_df.prihlaseno][fields]"
   ]
  },
  {
   "cell_type": "code",
   "execution_count": null,
   "metadata": {},
   "outputs": [],
   "source": [
    "hlasovani_df[\"mira_jednomyslnosti\"] = (hlasovani_df.pro - hlasovani_df.proti).abs() / (hlasovani_df.pro + hlasovani_df.proti)\n",
    "hlasovani_df[\"mira_jednomyslnosti\"].describe()"
   ]
  },
  {
   "cell_type": "code",
   "execution_count": null,
   "metadata": {},
   "outputs": [],
   "source": [
    "interval = 'W'\n",
    "fig = go.Figure()\n",
    "fig.add_trace(resampled_bar(hlasovani_df, field=\"mira_jednomyslnosti\", interval=interval, operation=\"mean\"))\n",
    "fig.show()"
   ]
  },
  {
   "cell_type": "code",
   "execution_count": null,
   "metadata": {},
   "outputs": [],
   "source": [
    "# denní míra jednomyslnosti\n",
    "\n",
    "precision = 3 \n",
    "\n",
    "def A_razeno_dle_B(x, A, B):\n",
    "    df = x.groupby(A)[B].mean().sort_values(ascending=True)\n",
    "    return(\"<br>\".join(map(str, df.index.astype(str) + ': ' + df.values.round(precision).astype(str))))\n",
    "\n",
    "days = 7\n",
    "interval = f\"{days}D\"\n",
    "\n",
    "df = pd.DataFrame()\n",
    "df['mira_jednomyslnosti_za_den_mean'] = hlasovani_df.groupby(hlasovani_df.datetime.dt.date).mira_jednomyslnosti.mean()\n",
    "df['nazev_dlouhy_za_den'] = hlasovani_df.groupby(hlasovani_df.datetime.dt.date)[['nazev_dlouhy', 'mira_jednomyslnosti']].apply(\n",
    "    lambda x: A_razeno_dle_B(x, \"nazev_dlouhy\", \"mira_jednomyslnosti\")\n",
    ") \n",
    "df.index = pd.to_datetime(df.index)\n",
    "\n",
    "fig = go.Figure()\n",
    "\n",
    "fig.add_trace(go.Scatter(\n",
    "    x=df.index,\n",
    "    y=df.mira_jednomyslnosti_za_den_mean,\n",
    "    text=df.nazev_dlouhy_za_den,\n",
    "    name=\"míra jednomyslnosti za den\",\n",
    "    mode=\"markers\",\n",
    "     marker=dict(\n",
    "        size=5,\n",
    "        color=df.mira_jednomyslnosti_za_den_mean,\n",
    "        colorscale='RdYlGn', # one of plotly colorscales\n",
    "        showscale=True\n",
    "    ),\n",
    "    hovertemplate =\n",
    "        '<b>%{x}</b>'+\n",
    "        '<br><br><b>Průměrná míra jednomyslnosti</b>: <i>%{y:.3f}</i>'+\n",
    "        '<br><br><b>Hlasování dle míry jednomyslnosti (vzestupně):</b><br>%{text}<extra></extra>',\n",
    "    hoverlabel=dict(\n",
    "        bgcolor='white',\n",
    "        font=dict(color='black')\n",
    "    )\n",
    "))\n",
    "\n",
    "fig.update_layout(title=\"Denní míra jednomyslnosti\", xaxis=dict(title=\"datum [jednotlivé dny]\"), yaxis=dict(title=\"míra jednomyslnosti\"))\n",
    "\n",
    "fig.show()"
   ]
  },
  {
   "cell_type": "code",
   "execution_count": null,
   "metadata": {},
   "outputs": [],
   "source": [
    "fig = go.Figure(go.Histogram(x=hlasovani_df.mira_jednomyslnosti, hovertemplate=\"míra jednomyslnosti: %{x}<br>počet hlasování: %{y}<extra></extra>\"))\n",
    "fig.update_layout(width=700, height=400, xaxis=dict(title=\"míra jednomyslnosti\"), yaxis=dict(title=\"počet hlasování\"))\n",
    "fig.show()"
   ]
  },
  {
   "cell_type": "code",
   "execution_count": null,
   "metadata": {},
   "outputs": [],
   "source": [
    "print(f\"Jednomyslně schválená hlasování (vysoká míra jednomyslnosti): {hlasovani_df[hlasovani_df.mira_jednomyslnosti == 1].index.size}\")\n",
    "jednomyslna_temata = hlasovani_df[hlasovani_df.mira_jednomyslnosti == 1].groupby('nazev_dlouhy').size().sort_values(ascending=False)\n",
    "print(jednomyslna_temata.head(20))"
   ]
  },
  {
   "cell_type": "code",
   "execution_count": null,
   "metadata": {},
   "outputs": [],
   "source": [
    "print(f\"Hlasování se zcela vyrovnaným pro a proti (nízká míra jednomyslnosti): {hlasovani_df[hlasovani_df.mira_jednomyslnosti == 0].index.size}\")\n",
    "nejednomyslna_temata = hlasovani_df[hlasovani_df.mira_jednomyslnosti == 0].groupby('nazev_dlouhy').size().sort_values(ascending=False)\n",
    "print(nejednomyslna_temata.head(20))"
   ]
  },
  {
   "cell_type": "code",
   "execution_count": null,
   "metadata": {},
   "outputs": [],
   "source": [
    "# Témata hlasování s nejvyšší mírou jednomyslnosti a jejich počty\n",
    "\n",
    "cnt = 20\n",
    "x = pd.DataFrame()\n",
    "x['celkovy_pocet_hlasovani_dle_tematu'] =  hlasovani_df.groupby('nazev_dlouhy').size()\n",
    "x['prumerna_mira_jednomyslnosti_dle_tematu'] = hlasovani_df.groupby('nazev_dlouhy')['mira_jednomyslnosti'].mean()\n",
    "x.sort_values(by='prumerna_mira_jednomyslnosti_dle_tematu', ascending=False).head(cnt)"
   ]
  },
  {
   "cell_type": "code",
   "execution_count": null,
   "metadata": {},
   "outputs": [],
   "source": [
    "# Témata hlasování s nízkou mírou jednomyslnosti a jejich počty\n",
    "\n",
    "cnt = 20\n",
    "x = pd.DataFrame()\n",
    "x['celkovy_pocet_hlasovani_dle_tematu'] =  hlasovani_df.groupby('nazev_dlouhy').size()\n",
    "x['prumerna_mira_jednomyslnosti_dle_tematu'] = hlasovani_df.groupby('nazev_dlouhy')['mira_jednomyslnosti'].mean()\n",
    "x.sort_values(by='prumerna_mira_jednomyslnosti_dle_tematu', ascending=False).tail(cnt)"
   ]
  },
  {
   "cell_type": "markdown",
   "metadata": {},
   "source": [
    "## Tabulka stenozáznamů hlasování"
   ]
  },
  {
   "cell_type": "code",
   "execution_count": null,
   "metadata": {},
   "outputs": [],
   "source": [
    "popis_tabulku(hl.stenozaznam)"
   ]
  },
  {
   "cell_type": "code",
   "execution_count": null,
   "metadata": {},
   "outputs": [],
   "source": [
    "hl.stenozaznam.typ_CAT.value_counts()"
   ]
  },
  {
   "cell_type": "code",
   "execution_count": null,
   "metadata": {},
   "outputs": [],
   "source": [
    "# Jak se stenozáznam promítá do tabulky hlasování?\n",
    "\n",
    "popis_sloupec(hlasovani_df, column= \"stenozaznam_IND\")\n",
    "print()\n",
    "\n",
    "# Hodnoty z tabulky stenozáznam\n",
    "print(\"Hodnoty z tabulky stenozáznam - nemusí nutně patřit do aktuální sněmovny:\") # TODO: vynech hodnoty, které nepatří do aktuální sněmovny \n",
    "hl.stenozaznam.set_index('id_hlasovani').typ_CAT.value_counts()"
   ]
  },
  {
   "cell_type": "markdown",
   "metadata": {},
   "source": [
    "## Tabulka zpochybnění hlasování (zpochybneni_hlasovani_df)"
   ]
  },
  {
   "cell_type": "code",
   "execution_count": null,
   "metadata": {},
   "outputs": [],
   "source": [
    "zp = ZpochybneniHlasovani(2017)"
   ]
  },
  {
   "cell_type": "code",
   "execution_count": null,
   "metadata": {},
   "outputs": [],
   "source": [
    "zp.df"
   ]
  },
  {
   "cell_type": "code",
   "execution_count": null,
   "metadata": {},
   "outputs": [],
   "source": [
    "# 0 - žádost o opakování hlasování - v tomto případě se o této žádosti neprodleně hlasuje a teprve je-li tato žádost přijata, je hlasování opakováno;\n",
    "# 1 - pouze sdělení pro stenozáznam, není požadováno opakování hlasování.\n",
    "\n",
    "zp.df[\"mode_CAT\"].value_counts()"
   ]
  },
  {
   "cell_type": "code",
   "execution_count": null,
   "metadata": {},
   "outputs": [],
   "source": [
    "# TODO: pridej hlášení o neinterpretovatelných sloupcích\n",
    "#column = 'mode'\n",
    "#df = zp.df\n",
    "#h = list(set(df[column].unique()) - set(semanticka_maska.keys()))\n",
    "#print(f\"Neinterpretovatelné hodnoty v sloupci: '{column}': {h}\")"
   ]
  },
  {
   "cell_type": "code",
   "execution_count": null,
   "metadata": {},
   "outputs": [],
   "source": [
    "# Jsou zpochybněná hlasování uvedená v tabulce hlasovani_df? \n",
    "\n",
    "h_ids = set(hl.df.id_hlasovani)\n",
    "zp_all_ids = set(zp.df.id_hlasovani)\n",
    "zp_opak_ids = set(zp.df[zp.df.mode_CAT == \"žádost o opakování hlasování\"].id_hlasovani)\n",
    "zp_bez_opak_ids = set(zp.df[zp.df.mode_CAT == \"pouze sdělení pro stenozáznam\"].id_hlasovani)\n",
    "print(f\"Všechna hlasování: {len(h_ids)}\")\n",
    "print(f\"Všechna zpochybněná hlasování = {len(h_ids.intersection(zp_all_ids))}\")\n",
    "print(f\"Všechna zpochybněná hlasování s opakováním hlasování = {len(h_ids.intersection(zp_opak_ids))}\")\n",
    "print(f\"Všechna zpochybněná hlasování bez opakování hlasování = {len(h_ids.intersection(zp_bez_opak_ids))}\")"
   ]
  },
  {
   "cell_type": "code",
   "execution_count": null,
   "metadata": {},
   "outputs": [],
   "source": [
    "# příklad zpochybněných hlasování\n",
    "fields = ['nazev_dlouhy', 'schuze', 'cislo', 'bod', 'datum', 'cas', 'pro', 'proti', 'zdrzel', 'nehlasoval', 'prihlaseno', 'kvorum', 'vysledek']\n",
    "hlasovani_df[hlasovani_df.id_hlasovani.isin(zp_all_ids)][fields].head()"
   ]
  },
  {
   "cell_type": "code",
   "execution_count": null,
   "metadata": {},
   "outputs": [],
   "source": [
    "# Nejčastěji zpochybňovaná hlasování\n",
    "cnt = 10\n",
    "hlasovani_df[hlasovani_df.id_hlasovani.isin(zp_all_ids)].groupby(\"nazev_dlouhy\").size().sort_values(ascending=False).head(cnt)"
   ]
  },
  {
   "cell_type": "markdown",
   "metadata": {},
   "source": [
    "## Tabulka zpochybnění hlasování poslancem"
   ]
  },
  {
   "cell_type": "code",
   "execution_count": null,
   "metadata": {},
   "outputs": [],
   "source": [
    "zpp = ZpochybneniPoslancem(2017)"
   ]
  },
  {
   "cell_type": "code",
   "execution_count": null,
   "metadata": {},
   "outputs": [],
   "source": [
    "popis_tabulku(zpp.df)"
   ]
  },
  {
   "cell_type": "code",
   "execution_count": null,
   "metadata": {},
   "outputs": [],
   "source": [
    "zpp.df.head()"
   ]
  },
  {
   "cell_type": "code",
   "execution_count": null,
   "metadata": {},
   "outputs": [],
   "source": [
    "zm = ZmatecneHlasovani(2017)"
   ]
  },
  {
   "cell_type": "code",
   "execution_count": null,
   "metadata": {},
   "outputs": [],
   "source": [
    "zm.df.columns"
   ]
  },
  {
   "cell_type": "code",
   "execution_count": null,
   "metadata": {},
   "outputs": [],
   "source": [
    "hl2013 = Hlasovani(2013)"
   ]
  },
  {
   "cell_type": "code",
   "execution_count": null,
   "metadata": {},
   "outputs": [],
   "source": [
    "# Vizualizace id_hlasovani pro různé tabulky\n",
    "\n",
    "# Z dat lze usoudit, že pro současnou sněmovnu (2017) neexistuje zmatečné hlasování, které by nebylo uvedeno v tabulce hlasování,\n",
    "# protože všechny záznamy 'zmatecne_bez_hlasovani_ids' mají ids menší než je začátek ids hlasovani současné směnovny.\n",
    "\n",
    "# Z dat lze usoudit, že hlasování nemůže být současně zmatečné a zpochybněné poslancem.\n",
    "\n",
    "# Divné: Pro současnou sněmovnu existují ids zpochybnění hlasování, která jsou nižší než ids v tabulce hlasování.\n",
    "\n",
    "id_hlasovani_threshold = hl.df.id_hlasovani.min()\n",
    "\n",
    "hl2017_ids = sorted(list(set(hl.df.id_hlasovani)))\n",
    "hl2013_ids = sorted(list(set(hl2013.df.id_hlasovani)))\n",
    "                    \n",
    "zp_ids = sorted(list(set(zp.df.id_hlasovani)))\n",
    "zpp_ids = sorted(list(set(zpp.df.id_hlasovani)))\n",
    "zm_ids = sorted(list(set(zm.df.id_hlasovani)))\n",
    "                \n",
    "zpochybneni_bez_poslance_ids = list(set(zp_ids) - set(zpp_ids))\n",
    "zpochybneni_a_zmatecne_ids = list(set(zp_ids).intersection(zm_ids))\n",
    "zmatecne_bez_hlasovani_ids = list(set(zm_ids) - set(hl2017_ids))\n",
    "\n",
    "marker=dict(size=1, line=dict(width=0))\n",
    "fig = go.Figure()\n",
    "\n",
    "fig.add_trace(go.Scatter(\n",
    "    x=hl2017_ids,\n",
    "    y = [3]*len(hl2017_ids),\n",
    "    name = \"hlasovani_df (současná sněmovna)\",\n",
    "    hovertemplate=\"hlasovani_df (současná sněmovna)<br>%{x:.0}<extra></extra>\",\n",
    "    mode=\"markers\"\n",
    "))\n",
    "\n",
    "fig.add_trace(go.Scatter(\n",
    "    x=hl2013_ids,\n",
    "    y = [2.8]*len(hl2017_ids),\n",
    "    name = \"hlasovani_df (sněmovna 2013)\",\n",
    "    hovertemplate=\"hlasovani_df (sněmovna 2013)<br>%{x:.0}<extra></extra>\",\n",
    "    mode=\"markers\"\n",
    "))\n",
    "\n",
    "fig.add_trace(go.Scatter(\n",
    "    x=zp_ids, \n",
    "    y = [2]*len(zp_ids),\n",
    "    name=\"zpochybneni_hlasovani_df (současná sněmovna)\",\n",
    "    hovertemplate=\"zpochybneni_hlasovani_df (současná sněmovna)<br>%{x:.0}<extra></extra>\",\n",
    "    mode=\"markers\"\n",
    "))\n",
    "\n",
    "fig.add_trace(go.Scatter(\n",
    "    x=zpochybneni_bez_poslance_ids,\n",
    "    y = [1.5]*len(zpochybneni_bez_poslance_ids),\n",
    "    name=\"zpochybnění bez asociovaného poslance (současná sněmovna)\",\n",
    "    hovertemplate=\"zpochybnění bez uvedeného poslance (současná sněmovna)<br>%{x:.0}<extra></extra>\",\n",
    "    mode=\"markers\"\n",
    "))\n",
    "\n",
    "fig.add_trace(go.Scatter(\n",
    "    x=zpp_ids,\n",
    "    y = [1]*len(zpp_ids),\n",
    "    name=\"zpochybneni_poslancem_df (současná sněmovna)\",\n",
    "    hovertemplate=\"zpochybneni_poslancem_df (současná sněmovna)<br>%{x:.0}<extra></extra>\",\n",
    "    mode=\"markers\"\n",
    "))\n",
    "\n",
    "\n",
    "fig.add_trace(go.Scatter(\n",
    "    x=zm_ids,\n",
    "    y = [0]*len(zm_ids),\n",
    "    name=\"zmatecne_hlasovani_df (všechny sněmovny)\",\n",
    "    hovertemplate=\"zmatecne_hlasovani_df (všechny sněmovny)<br>%{x:.0}<extra></extra>\",\n",
    "    mode=\"markers\"\n",
    "))\n",
    "\n",
    "fig.add_trace(go.Scatter(\n",
    "    x=zmatecne_bez_hlasovani_ids,\n",
    "    y = [-0.5]*len(zmatecne_bez_hlasovani_ids),\n",
    "    name=\"zmatečné, ale není v tabulce hlasování\",\n",
    "    hovertemplate=\"zmatečné, ale není v tabulce hlasování<br>%{x:.0}<extra></extra>\",\n",
    "    mode=\"markers\"\n",
    "))\n",
    "\n",
    "fig.add_trace(go.Scatter(\n",
    "    x=[id_hlasovani_threshold]*2,\n",
    "    y=[-1, 3.5],\n",
    "    name=\"hranice záznamů v tabulce hlasování\",\n",
    "    hovertemplate=\"hranice záznamů v tabulce hlasování<extra></extra>\",\n",
    "    mode=\"lines\",\n",
    "    line=dict(width=1, dash='dash')\n",
    "))\n",
    "\n",
    "fig.update_layout(title=\"Číselné hodnoty identifikátorů hlasování v různých tabulkách\",  yaxis=dict(title='Tabulka', showticklabels=False), xaxis=dict(title='Identifikátor hlasování (jako integer)'))\n",
    "fig.show()"
   ]
  },
  {
   "cell_type": "code",
   "execution_count": null,
   "metadata": {},
   "outputs": [],
   "source": [
    "# více osob může zpochybnit jedno hlasování, tj. 'id_hlasování' není pro každý řádek unikátní\n",
    "print(zpp.df.id_hlasovani.nunique(), zpp.df.index.size)\n",
    "zpp.df.groupby([\"id_hlasovani\", \"jmeno\", \"prijmeni\"]).size().sort_values()"
   ]
  },
  {
   "cell_type": "code",
   "execution_count": null,
   "metadata": {},
   "outputs": [],
   "source": [
    "#zpp.df.groupby('id_hlasovani')[\"prijmeni\"].apply(list).apply(len).sort_values()\n",
    "pocet_zpochybnujicich_osob_na_hlasovani = zpp.df.groupby('id_hlasovani')[\"id_osoba\"].apply(list).apply(len).sort_values(ascending=False)\n",
    "x = pocet_zpochybnujicich_osob_na_hlasovani[pocet_zpochybnujicich_osob_na_hlasovani > 1]\n",
    "res = pd.DataFrame()\n",
    "if x.count() > 0:\n",
    "    res = zpp.df[zpp.df.id_hlasovani == x.index[0]]\n",
    "res"
   ]
  },
  {
   "cell_type": "markdown",
   "metadata": {},
   "source": [
    "## Tabulka zmatečného hlasování"
   ]
  },
  {
   "cell_type": "markdown",
   "metadata": {},
   "source": [
    "## Tabulka zarazení osob (osoby_zarazeni_df)"
   ]
  },
  {
   "cell_type": "code",
   "execution_count": null,
   "metadata": {},
   "outputs": [],
   "source": [
    "header = {\n",
    "    # Identifikátor osoby, viz osoba:id_osoba\n",
    "    \"id_osoba\": 'Int64',\n",
    "    # Identifikátor orgánu či funkce: pokud je zároveň nastaveno zarazeni:cl_funkce == 0, pak id_o odpovídá organy:id_organ, pokud cl_funkce == 1, pak odpovídá funkce:id_funkce.\n",
    "    \"id_of\":  'Int64', \n",
    "    # Status členství nebo funce: pokud je rovno 0, pak jde o členství, pokud 1, pak jde o funkci.\n",
    "    \"cl_funkce\":  'Int64',\n",
    "    # Zařazení od\n",
    "    \"od_o\":   'datetime64[ns]',\n",
    "    # Zařazení do\n",
    "    \"do_o\":   'datetime64[ns]',  \n",
    "    # Mandát od. Nemusí být vyplněno a pokud je vyplněno, pak určuje datum vzniku mandátu a zarazeni:od_o obsahuje datum volby.\n",
    "    \"od_f\":   'datetime64[ns]',\n",
    "    # Mandát do. Nemusí být vyplněno a pokud je vyplněno, určuje datum konce mandátu a zarazeni:do_o obsahuje datum ukončení zařazení.\n",
    "    \"do_f\":   'datetime64[ns]' \n",
    "}\n",
    "\n",
    "osoby_zarazeni_df = pd.read_csv(osoby_zarazeni_path, sep=\"|\", names = header.keys(), index_col=False, encoding='cp1250')\n",
    "\n",
    "# načti datová pole a oprav případné chyby\n",
    "df = osoby_zarazeni_df\n",
    "correct_dict = {'0205-06-09 00': '2005-06-09 00'} # slovnik manuálních oprav pro preklepy\n",
    "date_strings = {\"od_o\": '%Y-%m-%d %H', \"do_o\": '%Y-%m-%d %H', \"od_f\": \"%d.%m.%Y\", \"do_f\": \"%d.%m.%Y\" }\n",
    "for col in date_strings.keys():\n",
    "    new_col = pd.to_datetime(df[col], format=date_strings[col], errors='coerce')\n",
    "    errors = df.loc[new_col.isnull()][col].unique().tolist()\n",
    "    df[col] = new_col.fillna(pd.to_datetime(df[col].map(correct_dict)))\n",
    "\n",
    "osoby_zarazeni_df = osoby_zarazeni_df.astype(header)"
   ]
  },
  {
   "cell_type": "code",
   "execution_count": null,
   "metadata": {},
   "outputs": [],
   "source": [
    "popis_tabulku(osoby_zarazeni_df)"
   ]
  },
  {
   "cell_type": "code",
   "execution_count": null,
   "metadata": {},
   "outputs": [],
   "source": [
    "zarazeni_osoby_df = pd.merge(osoby_zarazeni_df, osoby_df,  on='id_osoba')\n",
    "#zarazeni_osoby_df = pd.merge(osoby_zarazeni_df, organy_df,  on='id_osoba') # pripoj i organy\n",
    "zarazeni_osoby_df.groupby([\"id_osoba\", \"jmeno\", \"prijmeni\"]).size().sort_values(ascending=False)"
   ]
  },
  {
   "cell_type": "markdown",
   "metadata": {},
   "source": [
    "## Tabulka poslanců (poslanci_df)"
   ]
  },
  {
   "cell_type": "code",
   "execution_count": null,
   "metadata": {},
   "outputs": [],
   "source": [
    "header = { \"id_poslanec\": 'Int64', \"id_osoba\":  'Int64', \"id_kraj\":  'Int64', \"id_kandidatka\":  'Int64', \"id_obdobi\":  'Int64',\n",
    "    \"web\": 'string', \"ulice\": 'string', \"obec\": 'string', \"psc\": 'string',\n",
    "    \"email\": 'string', \"telefon\": 'string', \"fax\": 'string', \"psp_telefon\": 'string', \"facebook\": 'string',\n",
    "    \"foto\":  'Int64'\n",
    "}\n",
    " \n",
    "poslanci_df = pd.read_csv(poslanec_path, sep=\"|\", names = header.keys(), index_col=False, encoding='cp1250')\n",
    "poslanci_df = poslanci_df.astype(header)\n",
    "poslanci_df = pd.merge(poslanci_df, osoby_df,  on='id_osoba')\n",
    "#poslanci_df = pd.merge(poslanci_df, osoby_zarazeni_df,  on='id_osoba')\n",
    "\n",
    "posledni_volebni_obdobi = poslanci_df.id_obdobi.max()\n",
    "poslanci_df = poslanci_df[poslanci_df.id_obdobi == posledni_volebni_obdobi]\n",
    "\n",
    "print(f\"Velikost tabulky poslanců pro poslední volební období: {len(poslanci_df)}\")\n",
    "poslanci_df.head()"
   ]
  },
  {
   "cell_type": "markdown",
   "metadata": {},
   "source": [
    "## Tabulka omluv ze schůzí PS (omluvy_df)"
   ]
  },
  {
   "cell_type": "code",
   "execution_count": null,
   "metadata": {},
   "outputs": [],
   "source": [
    "# načti tabulku omluv\n",
    "header = [ \"id_organ\", \"id_poslanec\", \"den\", \"od\", \"do\"]\n",
    "\n",
    "omluvy_df = pd.read_csv(omluvy_path, sep=\"|\", names = header,  index_col=False, encoding='cp1250')\n",
    "omluvy_df = pd.merge(omluvy_df, poslanci_df, on='id_poslanec')\n",
    "omluvy_df = omluvy_df[omluvy_df.id_obdobi==posledni_volebni_obdobi]\n",
    "\n",
    "omluvy_df.head()"
   ]
  },
  {
   "cell_type": "code",
   "execution_count": null,
   "metadata": {},
   "outputs": [],
   "source": [
    "cnt = 20\n",
    "omluvy_na_poslance = omluvy_df.groupby([\"id_poslanec\", \"jmeno\", \"prijmeni\"]).size().sort_values(ascending=False)\n",
    "omluvy_na_poslance.head(cnt)"
   ]
  },
  {
   "cell_type": "code",
   "execution_count": null,
   "metadata": {},
   "outputs": [],
   "source": [
    "cnt = 20\n",
    "omluvy_na_poslance.tail(cnt)"
   ]
  },
  {
   "cell_type": "code",
   "execution_count": null,
   "metadata": {},
   "outputs": [],
   "source": [
    "omluvy_na_poslance.describe()"
   ]
  },
  {
   "cell_type": "markdown",
   "metadata": {
    "id": "8J8Qnh0AZGRQ"
   },
   "source": [
    "## Check for Nans"
   ]
  },
  {
   "cell_type": "markdown",
   "metadata": {
    "id": "Pn7yJPMTZGRQ"
   },
   "source": [
    "## Analyze Categorical Data"
   ]
  },
  {
   "cell_type": "code",
   "execution_count": null,
   "metadata": {},
   "outputs": [],
   "source": []
  },
  {
   "cell_type": "code",
   "execution_count": null,
   "metadata": {
    "colab": {
     "base_uri": "https://localhost:8080/"
    },
    "id": "h4g3gkL2ZGRQ",
    "outputId": "9c235a27-0aa5-4dc1-b0a1-f9674f3f2692"
   },
   "outputs": [],
   "source": [
    "pocet_schuzi = hlasovani_df.schuze.max()\n",
    "\n",
    "print(f\"Počet schůzí: {pocet_schuzi}.\")"
   ]
  },
  {
   "cell_type": "code",
   "execution_count": null,
   "metadata": {
    "colab": {
     "base_uri": "https://localhost:8080/",
     "height": 542
    },
    "id": "60CFgWHIZGRR",
    "outputId": "36ed1064-970c-45c1-f5b6-cf118774ce7a"
   },
   "outputs": [],
   "source": [
    "go.Figure(go.Box(y=hlasovani_df.groupby(\"schuze\").size(), name=\"počet hlasování na schůzi\"))"
   ]
  },
  {
   "cell_type": "code",
   "execution_count": null,
   "metadata": {
    "colab": {
     "base_uri": "https://localhost:8080/",
     "height": 542
    },
    "id": "S4AILScjZGRR",
    "outputId": "3c3afc55-36b9-43a6-e919-7c2ff07b5459"
   },
   "outputs": [],
   "source": [
    "hlasovani_dle_bodu_srs = hlasovani_df[hlasovani_df.bod >= 1].groupby(\"nazev_dlouhy\").size().sort_values(ascending=False)\n",
    "cnt = 20\n",
    "y=hlasovani_dle_bodu_srs[:cnt].index[::-1]\n",
    "x=hlasovani_dle_bodu_srs[:cnt].values[::-1]\n",
    "px.bar(x=x, y=y, orientation='h')"
   ]
  },
  {
   "cell_type": "code",
   "execution_count": null,
   "metadata": {
    "colab": {
     "base_uri": "https://localhost:8080/"
    },
    "id": "R81j6Oc5ZGRS",
    "outputId": "115d82f1-77eb-46cc-af5b-162a52bfcdb9"
   },
   "outputs": [],
   "source": [
    "def pocet_dni_na_schuzi(id_schuze):\n",
    "    return len(hlasovani_df[hlasovani_df.schuze == id_schuze].groupby('datum').size().index)\n",
    "\n",
    "cnt = 10\n",
    "schuze_dle_poctu_hlasovani = hlasovani_df.groupby(\"schuze\").count().id_hlasovani.sort_values(ascending=False)\n",
    "schuze_dle_poctu_hlasovani_str = [f\"Během {schuze}. schůze ({pocet_dni_na_schuzi(schuze)} dní) proběhlo {pocet_hlasovani} hlasování, průměrně {pocet_hlasovani/pocet_dni_na_schuzi(schuze):.0f} hlasování za den.\" \n",
    "    for (schuze, pocet_hlasovani) in schuze_dle_poctu_hlasovani.iteritems()]\n",
    "x = \"\\n\".join(schuze_dle_poctu_hlasovani_str[:cnt])\n",
    "\n",
    "print(f\"Prvních {cnt} schůzí s největším počtem hlasování:\\n{x}\")"
   ]
  },
  {
   "cell_type": "code",
   "execution_count": null,
   "metadata": {
    "colab": {
     "base_uri": "https://localhost:8080/"
    },
    "id": "CwnwBoVBZGRT",
    "outputId": "b8d05d9a-475c-4dd6-8630-6da8617d0a05"
   },
   "outputs": [],
   "source": [
    "id_schuze_s_nejvetsim_poctem_hlasovani = schuze_dle_poctu_hlasovani.index[0]\n",
    "#id_schuze_s_nejvetsim_poctem_hlasovani.groupby('datum')\n",
    "#pocet_dni = len(hlasovani_df[hlasovani_df.schuze == id_schuze_s_nejvetsim_poctem_hlasovani].groupby('datum').count().index)\n",
    "                \n",
    "print(f\"Největší počet hlasování ({schuze_dle_poctu_hlasovani.iloc[0]}) proběhl během {id_schuze_s_nejvetsim_poctem_hlasovani}. schůze ({pocet_dni_na_schuzi(id_schuze_s_nejvetsim_poctem_hlasovani)} dní).\")\n",
    "d = hlasovani_df[(hlasovani_df.schuze == id_schuze_s_nejvetsim_poctem_hlasovani) & (hlasovani_df.bod >= 1)].groupby(\"nazev_dlouhy\").size().sort_values(ascending=False)\n",
    "\n",
    "d"
   ]
  },
  {
   "cell_type": "code",
   "execution_count": null,
   "metadata": {
    "colab": {
     "base_uri": "https://localhost:8080/"
    },
    "id": "MVyUQuHlZGRT",
    "outputId": "1ad419fa-cb39-4efe-ecdc-5e84dabae958"
   },
   "outputs": [],
   "source": [
    "x = 100 * len(hlasovani_df[hlasovani_df.bod < 1]) / len(hlasovani_df)\n",
    "\n",
    "print(f\"{x:.2f}% z hlasování bylo procedurální nebo nemělo přiděleno číslo.\")"
   ]
  },
  {
   "cell_type": "code",
   "execution_count": null,
   "metadata": {
    "colab": {
     "base_uri": "https://localhost:8080/",
     "height": 235
    },
    "id": "lOPO-MtlZGRU",
    "outputId": "d6b3163b-3818-4ac8-c06f-6228df6ff977"
   },
   "outputs": [],
   "source": [
    "hlasovani_df[hlasovani_df.prihlaseno < hlasovani_df.kvorum]"
   ]
  },
  {
   "cell_type": "code",
   "execution_count": null,
   "metadata": {
    "colab": {
     "base_uri": "https://localhost:8080/"
    },
    "id": "nvAi6KUhZGRU",
    "outputId": "9c4f8eb8-6e4f-41da-d1b1-44c13a01b9c7"
   },
   "outputs": [],
   "source": [
    "hlasovani_df.groupby('druh_hlasovani').size()"
   ]
  },
  {
   "cell_type": "code",
   "execution_count": null,
   "metadata": {
    "colab": {
     "base_uri": "https://localhost:8080/",
     "height": 542
    },
    "id": "gS8VrQ3ZdPeN",
    "outputId": "c6c29fff-e0df-415a-f688-efa094cd21f2"
   },
   "outputs": [],
   "source": [
    "# Počet hlasování na schůzi\n",
    "\n",
    "s = hlasovani_df.groupby('schuze').size().sort_values()\n",
    "y = s.index\n",
    "x = s\n",
    "\n",
    "go.Figure(go.Histogram(x=x, nbinsx=60))"
   ]
  },
  {
   "cell_type": "code",
   "execution_count": null,
   "metadata": {
    "colab": {
     "base_uri": "https://localhost:8080/",
     "height": 542
    },
    "id": "taSoQ7X-qIcC",
    "outputId": "d70c56be-c477-4f5b-9cb7-f61ed4295634"
   },
   "outputs": [],
   "source": [
    "# Počet hlasování na den\n",
    "\n",
    "s = hlasovani_df.groupby('datum').size().sort_values()\n",
    "y = s.index\n",
    "x = s\n",
    "\n",
    "go.Figure(go.Histogram(x=x, nbinsx=60))"
   ]
  },
  {
   "cell_type": "code",
   "execution_count": null,
   "metadata": {
    "colab": {
     "base_uri": "https://localhost:8080/"
    },
    "id": "JKja-ErJebdD",
    "outputId": "c7fa0140-8158-4b85-ad47-be02c4be62fd"
   },
   "outputs": [],
   "source": [
    "hlasovani_df[\"pocet_dni_na_schuzi\"] = hlasovani_df.groupby([\"schuze\"]).datum.transform('nunique')\n",
    "\n",
    "hlasovani_df[\"den_schuze\"] = hlasovani_df.groupby([\"schuze\", \"datum\"]).ngroup()\n",
    "hlasovani_df[\"den_schuze_min\"] = hlasovani_df.groupby([\"schuze\"]).den_schuze.transform(min)\n",
    "hlasovani_df[\"den_schuze_rank\"] = (hlasovani_df[\"den_schuze\"] - hlasovani_df[\"den_schuze_min\"] + 1)\n",
    "\n",
    "x1 = hlasovani_df.groupby([\"schuze\", \"datum\", \"den_schuze_rank\"]).size()\n",
    "z1 = x1.reset_index(name=\"pocet_hlasovani\")\n",
    "z2 = x1.reset_index(name=\"pocet_hlasovani\").set_index(\"datum\")\n",
    "\n",
    "print(f\"Na schůzích {sorted(set(range(z2.schuze.max() + 1)) - set(z2.schuze.unique()) - set([0]))} se nehlasovalo.\")\n",
    "px.bar(z1, x=\"schuze\", y=\"pocet_hlasovani\", color=\"den_schuze_rank\", title=\"Long-Form Input\")"
   ]
  },
  {
   "cell_type": "code",
   "execution_count": null,
   "metadata": {},
   "outputs": [],
   "source": [
    "print(f\"Poslední běh notebooku: {datetime.now().strftime('%d.%m.%Y %H:%M:%S')}.\")"
   ]
  },
  {
   "cell_type": "code",
   "execution_count": null,
   "metadata": {
    "id": "8E9ls4N8rVL2"
   },
   "outputs": [],
   "source": []
  },
  {
   "cell_type": "code",
   "execution_count": null,
   "metadata": {},
   "outputs": [],
   "source": []
  }
 ],
 "metadata": {
  "kernelspec": {
   "display_name": "finance",
   "language": "python",
   "name": "finance"
  },
  "language_info": {
   "codemirror_mode": {
    "name": "ipython",
    "version": 3
   },
   "file_extension": ".py",
   "mimetype": "text/x-python",
   "name": "python",
   "nbconvert_exporter": "python",
   "pygments_lexer": "ipython3",
   "version": "3.7.7"
  }
 },
 "nbformat": 4,
 "nbformat_minor": 4
}
