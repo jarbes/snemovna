{
 "cells": [
  {
   "cell_type": "markdown",
   "metadata": {},
   "source": [
    "# Stenotexty - popis tabulek"
   ]
  },
  {
   "cell_type": "markdown",
   "metadata": {
    "id": "vvHadIMuaEdn"
   },
   "source": [
    "# Parametry"
   ]
  },
  {
   "cell_type": "markdown",
   "metadata": {
    "id": "LqbC3QodaH-V"
   },
   "source": [
    "# Závislosti"
   ]
  },
  {
   "cell_type": "code",
   "execution_count": 1,
   "metadata": {
    "colab": {
     "base_uri": "https://localhost:8080/"
    },
    "id": "FetXjgBWZ5w2",
    "outputId": "722a0c2a-ed6d-49d7-d166-9151cb9b6afc"
   },
   "outputs": [
    {
     "name": "stdout",
     "output_type": "stream",
     "text": [
      "\u001b[33mWARNING: You are using pip version 20.2.4; however, version 21.0.1 is available.\n",
      "You should consider upgrading via the '/home/borjana/.venv/finance/bin/python3.7 -m pip install --upgrade pip' command.\u001b[0m\n"
     ]
    }
   ],
   "source": [
    "!pip install jupyter-dash -q"
   ]
  },
  {
   "cell_type": "code",
   "execution_count": 2,
   "metadata": {},
   "outputs": [],
   "source": [
    "%load_ext autoreload\n",
    "%autoreload 2"
   ]
  },
  {
   "cell_type": "markdown",
   "metadata": {
    "id": "LqbC3QodaH-V"
   },
   "source": [
    "# Importy"
   ]
  },
  {
   "cell_type": "code",
   "execution_count": 3,
   "metadata": {
    "id": "X0Qa9TMbZGRJ"
   },
   "outputs": [],
   "source": [
    "from datetime import timedelta, datetime\n",
    "\n",
    "import pandas as pd\n",
    "import numpy as np\n",
    "\n",
    "import plotly.express as px\n",
    "import plotly.graph_objects as go\n",
    "import plotly.figure_factory as ff\n",
    "\n",
    "import dash\n",
    "from jupyter_dash import JupyterDash\n",
    "import dash_core_components as dcc\n",
    "import dash_html_components as html\n",
    "from dash.dependencies import Input, Output"
   ]
  },
  {
   "cell_type": "code",
   "execution_count": 4,
   "metadata": {},
   "outputs": [],
   "source": [
    "from snemovna.Stenotexty import *"
   ]
  },
  {
   "cell_type": "code",
   "execution_count": 5,
   "metadata": {},
   "outputs": [
    {
     "name": "stderr",
     "output_type": "stream",
     "text": [
      "2021-02-18:10:13:22 WARNING  [Snemovna.py:82] While merging 'typ_funkce' with 'typ_organu': Columns 'priorita' and 'priorita__typ_organu' differ in 129 values from 129, inconsistency ratio: 1.00\n",
      "2021-02-18:10:13:22 WARNING  [Snemovna.py:88] While merging 'typ_funkce' with 'typ_organu': Dropping ['priorita'] because of big inconsistency.\n",
      "2021-02-18:10:13:22 WARNING  [Snemovna.py:92] While merging 'typ_funkce' with 'typ_organu': Dropping ['priorita__typ_organu'] because of abundance.\n",
      "2021-02-18:10:13:22 INFO     [PoslanciOsoby.py:90] Nastavuji začátek volebního období na: 2017.\n",
      "2021-02-18:10:13:22 WARNING  [Snemovna.py:82] While merging 'funkce' with 'typ_funkce': Columns 'id_typ_org' and 'id_typ_org__typ_funkce' differ in 1 values from 2546, inconsistency ratio: 0.00\n",
      "2021-02-18:10:13:22 WARNING  [Snemovna.py:82] While merging 'funkce' with 'typ_funkce': Columns 'typ_id_typ_org' and 'typ_id_typ_org__typ_funkce' differ in 1 values from 2546, inconsistency ratio: 0.00\n",
      "2021-02-18:10:13:22 WARNING  [Snemovna.py:82] While merging 'funkce' with 'typ_funkce': Columns 'nazev_typ_org_cz' and 'nazev_typ_org_cz__typ_funkce' differ in 1 values from 2546, inconsistency ratio: 0.00\n",
      "2021-02-18:10:13:22 WARNING  [Snemovna.py:82] While merging 'funkce' with 'typ_funkce': Columns 'nazev_typ_org_en' and 'nazev_typ_org_en__typ_funkce' differ in 1 values from 2546, inconsistency ratio: 0.00\n",
      "2021-02-18:10:13:22 WARNING  [Snemovna.py:92] While merging 'funkce' with 'typ_funkce': Dropping ['nazev_typ_org_en__typ_funkce', 'id_typ_org__typ_funkce', 'nazev_typ_org_cz__typ_funkce', 'typ_org_obecny__typ_funkce', 'typ_id_typ_org__typ_funkce'] because of abundance.\n",
      "2021-02-18:10:13:23 WARNING  [utility.py:208] Skipped 1 values while formatting 'do_o' to datetime. Using format '%Y-%m-%d %H'. Example of skipped rows: ['0205-06-09 00'].\n",
      "2021-02-18:10:13:25 WARNING  [Snemovna.py:92] While merging 'steno_texty' with 'steno_rec': Dropping ['id_osoba__steno_rec'] because of abundance.\n",
      "2021-02-18:10:13:26 WARNING  [Snemovna.py:92] While merging 'steno_texty' with 'osoby': Dropping ['zmena__osoby', 'narozeni__osoby', 'prijmeni__osoby', 'jmeno__osoby', 'umrti__osoby', 'za__osoby', 'pohlavi__osoby', 'pred__osoby', 'pohlavi__ORIG__osoby'] because of abundance.\n",
      "2021-02-18:10:13:26 WARNING  [Snemovna.py:111] Pro sloupec turn_surrogate nebyla nalezena metadata!\n",
      "2021-02-18:10:13:26 WARNING  [Snemovna.py:111] Pro sloupec id_rec_surrogate nebyla nalezena metadata!\n"
     ]
    },
    {
     "name": "stdout",
     "output_type": "stream",
     "text": [
      "prebehlici:  Series([], dtype: int64)\n"
     ]
    }
   ],
   "source": [
    "st = StenoTexty(stahni=False)"
   ]
  },
  {
   "cell_type": "code",
   "execution_count": 11,
   "metadata": {},
   "outputs": [
    {
     "data": {
      "text/plain": [
       "Index(['id_bod_stav', 'popis', 'id_bod_stav__KAT', 'id_bod', 'id_schuze',\n",
       "       'id_tisk', 'id_typ', 'bod', 'uplny_naz', 'uplny_kon', 'poznamka',\n",
       "       'pozvanka', 'rj', 'pozn2', 'druh_bodu', 'id_sd', 'zkratka', 'id_osoba',\n",
       "       'id_org', 'typ', 'obvod', 'strana', 'id_external', 'pred', 'prijmeni',\n",
       "       'jmeno', 'za', 'narozeni', 'pohlavi__ORIG', 'zmena', 'umrti', 'pohlavi',\n",
       "       'id_typ_org', 'typ_id_typ_org', 'nazev_typ_org_cz', 'nazev_typ_org_en',\n",
       "       'typ_org_obecny', 'priorita', 'id_typ_funkce', 'typ_funkce_cz',\n",
       "       'typ_funkce_en', 'typ_funkce_obecny__ORIG', 'typ_funkce_obecny',\n",
       "       'id_organ', 'organ_id_organ', 'id_typ_organu', 'nazev_organu_cz',\n",
       "       'nazev_organu_en', 'od_organ', 'do_organ', 'cl_organ_base', 'id_funkce',\n",
       "       'nazev_funkce_cz', 'id_of', 'cl_funkce__ORIG', 'od_o', 'do_o', 'od_f',\n",
       "       'do_f', 'cl_funkce', 'id_steno', 'schuze', 'turn', 'od_steno', 'jd',\n",
       "       'od_t', 'do_t', 'aname', 'druh__ORIG', 'druh', 'text',\n",
       "       'text_s_poznamkami', 'id_rec', 'je_poznamka', 'cas', 'typ_casu',\n",
       "       'date'],\n",
       "      dtype='object', name='sloupec')"
      ]
     },
     "execution_count": 11,
     "metadata": {},
     "output_type": "execute_result"
    }
   ],
   "source": [
    "st.meta.data.index"
   ]
  },
  {
   "cell_type": "code",
   "execution_count": 12,
   "metadata": {},
   "outputs": [
    {
     "name": "stdout",
     "output_type": "stream",
     "text": [
      "<class 'pandas.core.frame.DataFrame'>\n",
      "Int64Index: 183391 entries, 0 to 183390\n",
      "Data columns (total 31 columns):\n",
      " #   Column             Non-Null Count   Dtype                        \n",
      "---  ------             --------------   -----                        \n",
      " 0   text               183391 non-null  string                       \n",
      " 1   text_s_poznamkami  183391 non-null  string                       \n",
      " 2   schuze             183391 non-null  Int64                        \n",
      " 3   id_rec             153059 non-null  Int64                        \n",
      " 4   poznamka           17549 non-null   object                       \n",
      " 5   je_poznamka        183391 non-null  bool                         \n",
      " 6   cas                1366 non-null    string                       \n",
      " 7   typ_casu           1366 non-null    string                       \n",
      " 8   date               183391 non-null  datetime64[ns, Europe/Prague]\n",
      " 9   turn_surrogate     183309 non-null  Int64                        \n",
      " 10  id_rec_surrogate   183309 non-null  Int64                        \n",
      " 11  id_osoba           183280 non-null  Int64                        \n",
      " 12  turn               183391 non-null  Int64                        \n",
      " 13  id_steno           183280 non-null  Int64                        \n",
      " 14  aname              183280 non-null  Int64                        \n",
      " 15  id_bod             152625 non-null  Int64                        \n",
      " 16  druh__ORIG         183280 non-null  Int64                        \n",
      " 17  druh               183280 non-null  string                       \n",
      " 18  od_steno           183280 non-null  datetime64[ns, Europe/Prague]\n",
      " 19  jd                 183280 non-null  Int64                        \n",
      " 20  od_t               183280 non-null  Int64                        \n",
      " 21  do_t               183280 non-null  Int64                        \n",
      " 22  pred               183280 non-null  string                       \n",
      " 23  prijmeni           183280 non-null  string                       \n",
      " 24  jmeno              183280 non-null  string                       \n",
      " 25  za                 183280 non-null  string                       \n",
      " 26  narozeni           183280 non-null  datetime64[ns]               \n",
      " 27  pohlavi__ORIG      183280 non-null  string                       \n",
      " 28  umrti              0 non-null       datetime64[ns]               \n",
      " 29  pohlavi            183280 non-null  string                       \n",
      " 30  zkratka            0 non-null       string                       \n",
      "dtypes: Int64(13), bool(1), datetime64[ns, Europe/Prague](2), datetime64[ns](2), object(1), string(12)\n",
      "memory usage: 45.8+ MB\n"
     ]
    }
   ],
   "source": [
    "df = st.df\n",
    "df.info()"
   ]
  },
  {
   "cell_type": "code",
   "execution_count": 13,
   "metadata": {},
   "outputs": [
    {
     "data": {
      "text/html": [
       "<div>\n",
       "<style scoped>\n",
       "    .dataframe tbody tr th:only-of-type {\n",
       "        vertical-align: middle;\n",
       "    }\n",
       "\n",
       "    .dataframe tbody tr th {\n",
       "        vertical-align: top;\n",
       "    }\n",
       "\n",
       "    .dataframe thead th {\n",
       "        text-align: right;\n",
       "    }\n",
       "</style>\n",
       "<table border=\"1\" class=\"dataframe\">\n",
       "  <thead>\n",
       "    <tr style=\"text-align: right;\">\n",
       "      <th></th>\n",
       "      <th>text</th>\n",
       "      <th>text_s_poznamkami</th>\n",
       "      <th>schuze</th>\n",
       "      <th>id_rec</th>\n",
       "      <th>poznamka</th>\n",
       "      <th>je_poznamka</th>\n",
       "      <th>cas</th>\n",
       "      <th>typ_casu</th>\n",
       "      <th>date</th>\n",
       "      <th>turn_surrogate</th>\n",
       "      <th>...</th>\n",
       "      <th>do_t</th>\n",
       "      <th>pred</th>\n",
       "      <th>prijmeni</th>\n",
       "      <th>jmeno</th>\n",
       "      <th>za</th>\n",
       "      <th>narozeni</th>\n",
       "      <th>pohlavi__ORIG</th>\n",
       "      <th>umrti</th>\n",
       "      <th>pohlavi</th>\n",
       "      <th>zkratka</th>\n",
       "    </tr>\n",
       "  </thead>\n",
       "  <tbody>\n",
       "    <tr>\n",
       "      <th>0</th>\n",
       "      <td></td>\n",
       "      <td>(Schůze zahájena ve 13.00 hodin.)</td>\n",
       "      <td>1</td>\n",
       "      <td>&lt;NA&gt;</td>\n",
       "      <td>[Schůze zahájena ve 13.00 hodin.]</td>\n",
       "      <td>True</td>\n",
       "      <td>13:00</td>\n",
       "      <td>zahájení</td>\n",
       "      <td>2017-11-20 00:00:00+01:00</td>\n",
       "      <td>&lt;NA&gt;</td>\n",
       "      <td>...</td>\n",
       "      <td>&lt;NA&gt;</td>\n",
       "      <td>&lt;NA&gt;</td>\n",
       "      <td>&lt;NA&gt;</td>\n",
       "      <td>&lt;NA&gt;</td>\n",
       "      <td>&lt;NA&gt;</td>\n",
       "      <td>NaT</td>\n",
       "      <td>&lt;NA&gt;</td>\n",
       "      <td>NaT</td>\n",
       "      <td>&lt;NA&gt;</td>\n",
       "      <td>&lt;NA&gt;</td>\n",
       "    </tr>\n",
       "    <tr>\n",
       "      <th>1</th>\n",
       "      <td>Vážené paní poslankyně, vážení páni poslanci, ...</td>\n",
       "      <td>Vážené paní poslankyně, vážení páni poslanci, ...</td>\n",
       "      <td>1</td>\n",
       "      <td>1</td>\n",
       "      <td>None</td>\n",
       "      <td>False</td>\n",
       "      <td>&lt;NA&gt;</td>\n",
       "      <td>&lt;NA&gt;</td>\n",
       "      <td>2017-11-20 00:00:00+01:00</td>\n",
       "      <td>1</td>\n",
       "      <td>...</td>\n",
       "      <td>790</td>\n",
       "      <td></td>\n",
       "      <td>Hamáček</td>\n",
       "      <td>Jan</td>\n",
       "      <td></td>\n",
       "      <td>1978-04-11</td>\n",
       "      <td>M</td>\n",
       "      <td>NaT</td>\n",
       "      <td>muž</td>\n",
       "      <td>&lt;NA&gt;</td>\n",
       "    </tr>\n",
       "    <tr>\n",
       "      <th>2</th>\n",
       "      <td>Prosím, abychom všichni povstali. Naše jednání...</td>\n",
       "      <td>Prosím, abychom všichni povstali. Naše jednání...</td>\n",
       "      <td>1</td>\n",
       "      <td>1</td>\n",
       "      <td>[Děje se. Zazněla státní hymna České republiky.]</td>\n",
       "      <td>False</td>\n",
       "      <td>&lt;NA&gt;</td>\n",
       "      <td>&lt;NA&gt;</td>\n",
       "      <td>2017-11-20 00:00:00+01:00</td>\n",
       "      <td>1</td>\n",
       "      <td>...</td>\n",
       "      <td>790</td>\n",
       "      <td></td>\n",
       "      <td>Hamáček</td>\n",
       "      <td>Jan</td>\n",
       "      <td></td>\n",
       "      <td>1978-04-11</td>\n",
       "      <td>M</td>\n",
       "      <td>NaT</td>\n",
       "      <td>muž</td>\n",
       "      <td>&lt;NA&gt;</td>\n",
       "    </tr>\n",
       "    <tr>\n",
       "      <th>3</th>\n",
       "      <td>Vážené paní poslankyně, vážení páni poslanci, ...</td>\n",
       "      <td>Vážené paní poslankyně, vážení páni poslanci, ...</td>\n",
       "      <td>1</td>\n",
       "      <td>1</td>\n",
       "      <td>None</td>\n",
       "      <td>False</td>\n",
       "      <td>&lt;NA&gt;</td>\n",
       "      <td>&lt;NA&gt;</td>\n",
       "      <td>2017-11-20 00:00:00+01:00</td>\n",
       "      <td>1</td>\n",
       "      <td>...</td>\n",
       "      <td>790</td>\n",
       "      <td></td>\n",
       "      <td>Hamáček</td>\n",
       "      <td>Jan</td>\n",
       "      <td></td>\n",
       "      <td>1978-04-11</td>\n",
       "      <td>M</td>\n",
       "      <td>NaT</td>\n",
       "      <td>muž</td>\n",
       "      <td>&lt;NA&gt;</td>\n",
       "    </tr>\n",
       "    <tr>\n",
       "      <th>4</th>\n",
       "      <td>Pořad ustavující schůze je dán příslušnými ust...</td>\n",
       "      <td>Pořad ustavující schůze je dán příslušnými ust...</td>\n",
       "      <td>1</td>\n",
       "      <td>1</td>\n",
       "      <td>None</td>\n",
       "      <td>False</td>\n",
       "      <td>&lt;NA&gt;</td>\n",
       "      <td>&lt;NA&gt;</td>\n",
       "      <td>2017-11-20 00:00:00+01:00</td>\n",
       "      <td>1</td>\n",
       "      <td>...</td>\n",
       "      <td>790</td>\n",
       "      <td></td>\n",
       "      <td>Hamáček</td>\n",
       "      <td>Jan</td>\n",
       "      <td></td>\n",
       "      <td>1978-04-11</td>\n",
       "      <td>M</td>\n",
       "      <td>NaT</td>\n",
       "      <td>muž</td>\n",
       "      <td>&lt;NA&gt;</td>\n",
       "    </tr>\n",
       "  </tbody>\n",
       "</table>\n",
       "<p>5 rows × 31 columns</p>\n",
       "</div>"
      ],
      "text/plain": [
       "                                                text  \\\n",
       "0                                                      \n",
       "1  Vážené paní poslankyně, vážení páni poslanci, ...   \n",
       "2  Prosím, abychom všichni povstali. Naše jednání...   \n",
       "3  Vážené paní poslankyně, vážení páni poslanci, ...   \n",
       "4  Pořad ustavující schůze je dán příslušnými ust...   \n",
       "\n",
       "                                   text_s_poznamkami  schuze  id_rec  \\\n",
       "0                  (Schůze zahájena ve 13.00 hodin.)       1    <NA>   \n",
       "1  Vážené paní poslankyně, vážení páni poslanci, ...       1       1   \n",
       "2  Prosím, abychom všichni povstali. Naše jednání...       1       1   \n",
       "3  Vážené paní poslankyně, vážení páni poslanci, ...       1       1   \n",
       "4  Pořad ustavující schůze je dán příslušnými ust...       1       1   \n",
       "\n",
       "                                           poznamka  je_poznamka    cas  \\\n",
       "0                 [Schůze zahájena ve 13.00 hodin.]         True  13:00   \n",
       "1                                              None        False   <NA>   \n",
       "2  [Děje se. Zazněla státní hymna České republiky.]        False   <NA>   \n",
       "3                                              None        False   <NA>   \n",
       "4                                              None        False   <NA>   \n",
       "\n",
       "   typ_casu                      date  turn_surrogate  ...  do_t  pred  \\\n",
       "0  zahájení 2017-11-20 00:00:00+01:00            <NA>  ...  <NA>  <NA>   \n",
       "1      <NA> 2017-11-20 00:00:00+01:00               1  ...   790         \n",
       "2      <NA> 2017-11-20 00:00:00+01:00               1  ...   790         \n",
       "3      <NA> 2017-11-20 00:00:00+01:00               1  ...   790         \n",
       "4      <NA> 2017-11-20 00:00:00+01:00               1  ...   790         \n",
       "\n",
       "   prijmeni  jmeno    za   narozeni  pohlavi__ORIG umrti pohlavi  zkratka  \n",
       "0      <NA>   <NA>  <NA>        NaT           <NA>   NaT    <NA>     <NA>  \n",
       "1   Hamáček    Jan       1978-04-11              M   NaT     muž     <NA>  \n",
       "2   Hamáček    Jan       1978-04-11              M   NaT     muž     <NA>  \n",
       "3   Hamáček    Jan       1978-04-11              M   NaT     muž     <NA>  \n",
       "4   Hamáček    Jan       1978-04-11              M   NaT     muž     <NA>  \n",
       "\n",
       "[5 rows x 31 columns]"
      ]
     },
     "execution_count": 13,
     "metadata": {},
     "output_type": "execute_result"
    }
   ],
   "source": [
    "df.head()"
   ]
  },
  {
   "cell_type": "code",
   "execution_count": 16,
   "metadata": {},
   "outputs": [
    {
     "name": "stdout",
     "output_type": "stream",
     "text": [
      "druh_CAT\n",
      "nezpracováno                  20\n",
      "předsedající               70098\n",
      "předsedající (ověřeno)       678\n",
      "řečník                    107596\n",
      "řečník (ověřeno)            4888\n",
      "dtype: int64\n"
     ]
    },
    {
     "data": {
      "application/vnd.plotly.v1+json": {
       "config": {
        "plotlyServerURL": "https://plot.ly"
       },
       "data": [
        {
         "type": "bar",
         "x": [
          "nezpracováno",
          "předsedající",
          "předsedající (ověřeno)",
          "řečník",
          "řečník (ověřeno)"
         ],
         "y": [
          20,
          70098,
          678,
          107596,
          4888
         ]
        }
       ],
       "layout": {
        "autosize": true,
        "template": {
         "data": {
          "bar": [
           {
            "error_x": {
             "color": "#2a3f5f"
            },
            "error_y": {
             "color": "#2a3f5f"
            },
            "marker": {
             "line": {
              "color": "#E5ECF6",
              "width": 0.5
             }
            },
            "type": "bar"
           }
          ],
          "barpolar": [
           {
            "marker": {
             "line": {
              "color": "#E5ECF6",
              "width": 0.5
             }
            },
            "type": "barpolar"
           }
          ],
          "carpet": [
           {
            "aaxis": {
             "endlinecolor": "#2a3f5f",
             "gridcolor": "white",
             "linecolor": "white",
             "minorgridcolor": "white",
             "startlinecolor": "#2a3f5f"
            },
            "baxis": {
             "endlinecolor": "#2a3f5f",
             "gridcolor": "white",
             "linecolor": "white",
             "minorgridcolor": "white",
             "startlinecolor": "#2a3f5f"
            },
            "type": "carpet"
           }
          ],
          "choropleth": [
           {
            "colorbar": {
             "outlinewidth": 0,
             "ticks": ""
            },
            "type": "choropleth"
           }
          ],
          "contour": [
           {
            "colorbar": {
             "outlinewidth": 0,
             "ticks": ""
            },
            "colorscale": [
             [
              0,
              "#0d0887"
             ],
             [
              0.1111111111111111,
              "#46039f"
             ],
             [
              0.2222222222222222,
              "#7201a8"
             ],
             [
              0.3333333333333333,
              "#9c179e"
             ],
             [
              0.4444444444444444,
              "#bd3786"
             ],
             [
              0.5555555555555556,
              "#d8576b"
             ],
             [
              0.6666666666666666,
              "#ed7953"
             ],
             [
              0.7777777777777778,
              "#fb9f3a"
             ],
             [
              0.8888888888888888,
              "#fdca26"
             ],
             [
              1,
              "#f0f921"
             ]
            ],
            "type": "contour"
           }
          ],
          "contourcarpet": [
           {
            "colorbar": {
             "outlinewidth": 0,
             "ticks": ""
            },
            "type": "contourcarpet"
           }
          ],
          "heatmap": [
           {
            "colorbar": {
             "outlinewidth": 0,
             "ticks": ""
            },
            "colorscale": [
             [
              0,
              "#0d0887"
             ],
             [
              0.1111111111111111,
              "#46039f"
             ],
             [
              0.2222222222222222,
              "#7201a8"
             ],
             [
              0.3333333333333333,
              "#9c179e"
             ],
             [
              0.4444444444444444,
              "#bd3786"
             ],
             [
              0.5555555555555556,
              "#d8576b"
             ],
             [
              0.6666666666666666,
              "#ed7953"
             ],
             [
              0.7777777777777778,
              "#fb9f3a"
             ],
             [
              0.8888888888888888,
              "#fdca26"
             ],
             [
              1,
              "#f0f921"
             ]
            ],
            "type": "heatmap"
           }
          ],
          "heatmapgl": [
           {
            "colorbar": {
             "outlinewidth": 0,
             "ticks": ""
            },
            "colorscale": [
             [
              0,
              "#0d0887"
             ],
             [
              0.1111111111111111,
              "#46039f"
             ],
             [
              0.2222222222222222,
              "#7201a8"
             ],
             [
              0.3333333333333333,
              "#9c179e"
             ],
             [
              0.4444444444444444,
              "#bd3786"
             ],
             [
              0.5555555555555556,
              "#d8576b"
             ],
             [
              0.6666666666666666,
              "#ed7953"
             ],
             [
              0.7777777777777778,
              "#fb9f3a"
             ],
             [
              0.8888888888888888,
              "#fdca26"
             ],
             [
              1,
              "#f0f921"
             ]
            ],
            "type": "heatmapgl"
           }
          ],
          "histogram": [
           {
            "marker": {
             "colorbar": {
              "outlinewidth": 0,
              "ticks": ""
             }
            },
            "type": "histogram"
           }
          ],
          "histogram2d": [
           {
            "colorbar": {
             "outlinewidth": 0,
             "ticks": ""
            },
            "colorscale": [
             [
              0,
              "#0d0887"
             ],
             [
              0.1111111111111111,
              "#46039f"
             ],
             [
              0.2222222222222222,
              "#7201a8"
             ],
             [
              0.3333333333333333,
              "#9c179e"
             ],
             [
              0.4444444444444444,
              "#bd3786"
             ],
             [
              0.5555555555555556,
              "#d8576b"
             ],
             [
              0.6666666666666666,
              "#ed7953"
             ],
             [
              0.7777777777777778,
              "#fb9f3a"
             ],
             [
              0.8888888888888888,
              "#fdca26"
             ],
             [
              1,
              "#f0f921"
             ]
            ],
            "type": "histogram2d"
           }
          ],
          "histogram2dcontour": [
           {
            "colorbar": {
             "outlinewidth": 0,
             "ticks": ""
            },
            "colorscale": [
             [
              0,
              "#0d0887"
             ],
             [
              0.1111111111111111,
              "#46039f"
             ],
             [
              0.2222222222222222,
              "#7201a8"
             ],
             [
              0.3333333333333333,
              "#9c179e"
             ],
             [
              0.4444444444444444,
              "#bd3786"
             ],
             [
              0.5555555555555556,
              "#d8576b"
             ],
             [
              0.6666666666666666,
              "#ed7953"
             ],
             [
              0.7777777777777778,
              "#fb9f3a"
             ],
             [
              0.8888888888888888,
              "#fdca26"
             ],
             [
              1,
              "#f0f921"
             ]
            ],
            "type": "histogram2dcontour"
           }
          ],
          "mesh3d": [
           {
            "colorbar": {
             "outlinewidth": 0,
             "ticks": ""
            },
            "type": "mesh3d"
           }
          ],
          "parcoords": [
           {
            "line": {
             "colorbar": {
              "outlinewidth": 0,
              "ticks": ""
             }
            },
            "type": "parcoords"
           }
          ],
          "pie": [
           {
            "automargin": true,
            "type": "pie"
           }
          ],
          "scatter": [
           {
            "marker": {
             "colorbar": {
              "outlinewidth": 0,
              "ticks": ""
             }
            },
            "type": "scatter"
           }
          ],
          "scatter3d": [
           {
            "line": {
             "colorbar": {
              "outlinewidth": 0,
              "ticks": ""
             }
            },
            "marker": {
             "colorbar": {
              "outlinewidth": 0,
              "ticks": ""
             }
            },
            "type": "scatter3d"
           }
          ],
          "scattercarpet": [
           {
            "marker": {
             "colorbar": {
              "outlinewidth": 0,
              "ticks": ""
             }
            },
            "type": "scattercarpet"
           }
          ],
          "scattergeo": [
           {
            "marker": {
             "colorbar": {
              "outlinewidth": 0,
              "ticks": ""
             }
            },
            "type": "scattergeo"
           }
          ],
          "scattergl": [
           {
            "marker": {
             "colorbar": {
              "outlinewidth": 0,
              "ticks": ""
             }
            },
            "type": "scattergl"
           }
          ],
          "scattermapbox": [
           {
            "marker": {
             "colorbar": {
              "outlinewidth": 0,
              "ticks": ""
             }
            },
            "type": "scattermapbox"
           }
          ],
          "scatterpolar": [
           {
            "marker": {
             "colorbar": {
              "outlinewidth": 0,
              "ticks": ""
             }
            },
            "type": "scatterpolar"
           }
          ],
          "scatterpolargl": [
           {
            "marker": {
             "colorbar": {
              "outlinewidth": 0,
              "ticks": ""
             }
            },
            "type": "scatterpolargl"
           }
          ],
          "scatterternary": [
           {
            "marker": {
             "colorbar": {
              "outlinewidth": 0,
              "ticks": ""
             }
            },
            "type": "scatterternary"
           }
          ],
          "surface": [
           {
            "colorbar": {
             "outlinewidth": 0,
             "ticks": ""
            },
            "colorscale": [
             [
              0,
              "#0d0887"
             ],
             [
              0.1111111111111111,
              "#46039f"
             ],
             [
              0.2222222222222222,
              "#7201a8"
             ],
             [
              0.3333333333333333,
              "#9c179e"
             ],
             [
              0.4444444444444444,
              "#bd3786"
             ],
             [
              0.5555555555555556,
              "#d8576b"
             ],
             [
              0.6666666666666666,
              "#ed7953"
             ],
             [
              0.7777777777777778,
              "#fb9f3a"
             ],
             [
              0.8888888888888888,
              "#fdca26"
             ],
             [
              1,
              "#f0f921"
             ]
            ],
            "type": "surface"
           }
          ],
          "table": [
           {
            "cells": {
             "fill": {
              "color": "#EBF0F8"
             },
             "line": {
              "color": "white"
             }
            },
            "header": {
             "fill": {
              "color": "#C8D4E3"
             },
             "line": {
              "color": "white"
             }
            },
            "type": "table"
           }
          ]
         },
         "layout": {
          "annotationdefaults": {
           "arrowcolor": "#2a3f5f",
           "arrowhead": 0,
           "arrowwidth": 1
          },
          "coloraxis": {
           "colorbar": {
            "outlinewidth": 0,
            "ticks": ""
           }
          },
          "colorscale": {
           "diverging": [
            [
             0,
             "#8e0152"
            ],
            [
             0.1,
             "#c51b7d"
            ],
            [
             0.2,
             "#de77ae"
            ],
            [
             0.3,
             "#f1b6da"
            ],
            [
             0.4,
             "#fde0ef"
            ],
            [
             0.5,
             "#f7f7f7"
            ],
            [
             0.6,
             "#e6f5d0"
            ],
            [
             0.7,
             "#b8e186"
            ],
            [
             0.8,
             "#7fbc41"
            ],
            [
             0.9,
             "#4d9221"
            ],
            [
             1,
             "#276419"
            ]
           ],
           "sequential": [
            [
             0,
             "#0d0887"
            ],
            [
             0.1111111111111111,
             "#46039f"
            ],
            [
             0.2222222222222222,
             "#7201a8"
            ],
            [
             0.3333333333333333,
             "#9c179e"
            ],
            [
             0.4444444444444444,
             "#bd3786"
            ],
            [
             0.5555555555555556,
             "#d8576b"
            ],
            [
             0.6666666666666666,
             "#ed7953"
            ],
            [
             0.7777777777777778,
             "#fb9f3a"
            ],
            [
             0.8888888888888888,
             "#fdca26"
            ],
            [
             1,
             "#f0f921"
            ]
           ],
           "sequentialminus": [
            [
             0,
             "#0d0887"
            ],
            [
             0.1111111111111111,
             "#46039f"
            ],
            [
             0.2222222222222222,
             "#7201a8"
            ],
            [
             0.3333333333333333,
             "#9c179e"
            ],
            [
             0.4444444444444444,
             "#bd3786"
            ],
            [
             0.5555555555555556,
             "#d8576b"
            ],
            [
             0.6666666666666666,
             "#ed7953"
            ],
            [
             0.7777777777777778,
             "#fb9f3a"
            ],
            [
             0.8888888888888888,
             "#fdca26"
            ],
            [
             1,
             "#f0f921"
            ]
           ]
          },
          "colorway": [
           "#636efa",
           "#EF553B",
           "#00cc96",
           "#ab63fa",
           "#FFA15A",
           "#19d3f3",
           "#FF6692",
           "#B6E880",
           "#FF97FF",
           "#FECB52"
          ],
          "font": {
           "color": "#2a3f5f"
          },
          "geo": {
           "bgcolor": "white",
           "lakecolor": "white",
           "landcolor": "#E5ECF6",
           "showlakes": true,
           "showland": true,
           "subunitcolor": "white"
          },
          "hoverlabel": {
           "align": "left"
          },
          "hovermode": "closest",
          "mapbox": {
           "style": "light"
          },
          "paper_bgcolor": "white",
          "plot_bgcolor": "#E5ECF6",
          "polar": {
           "angularaxis": {
            "gridcolor": "white",
            "linecolor": "white",
            "ticks": ""
           },
           "bgcolor": "#E5ECF6",
           "radialaxis": {
            "gridcolor": "white",
            "linecolor": "white",
            "ticks": ""
           }
          },
          "scene": {
           "xaxis": {
            "backgroundcolor": "#E5ECF6",
            "gridcolor": "white",
            "gridwidth": 2,
            "linecolor": "white",
            "showbackground": true,
            "ticks": "",
            "zerolinecolor": "white"
           },
           "yaxis": {
            "backgroundcolor": "#E5ECF6",
            "gridcolor": "white",
            "gridwidth": 2,
            "linecolor": "white",
            "showbackground": true,
            "ticks": "",
            "zerolinecolor": "white"
           },
           "zaxis": {
            "backgroundcolor": "#E5ECF6",
            "gridcolor": "white",
            "gridwidth": 2,
            "linecolor": "white",
            "showbackground": true,
            "ticks": "",
            "zerolinecolor": "white"
           }
          },
          "shapedefaults": {
           "line": {
            "color": "#2a3f5f"
           }
          },
          "ternary": {
           "aaxis": {
            "gridcolor": "white",
            "linecolor": "white",
            "ticks": ""
           },
           "baxis": {
            "gridcolor": "white",
            "linecolor": "white",
            "ticks": ""
           },
           "bgcolor": "#E5ECF6",
           "caxis": {
            "gridcolor": "white",
            "linecolor": "white",
            "ticks": ""
           }
          },
          "title": {
           "x": 0.05
          },
          "xaxis": {
           "automargin": true,
           "gridcolor": "white",
           "linecolor": "white",
           "ticks": "",
           "title": {
            "standoff": 15
           },
           "zerolinecolor": "white",
           "zerolinewidth": 2
          },
          "yaxis": {
           "automargin": true,
           "gridcolor": "white",
           "linecolor": "white",
           "ticks": "",
           "title": {
            "standoff": 15
           },
           "zerolinecolor": "white",
           "zerolinewidth": 2
          }
         }
        },
        "xaxis": {
         "autorange": true,
         "range": [
          -0.5,
          4.5
         ],
         "type": "category"
        },
        "yaxis": {
         "autorange": true,
         "range": [
          0,
          113258.94736842105
         ],
         "type": "linear"
        }
       }
      },
      "image/png": "[encoded data removed]",
      "text/html": [
       "<div>\n",
       "        \n",
       "        \n",
       "            <div id=\"82715b47-7794-4aa2-9132-4ae248b42d5f\" class=\"plotly-graph-div\" style=\"height:525px; width:100%;\"></div>\n",
       "            <script type=\"text/javascript\">\n",
       "                require([\"plotly\"], function(Plotly) {\n",
       "                    window.PLOTLYENV=window.PLOTLYENV || {};\n",
       "                    \n",
       "                if (document.getElementById(\"82715b47-7794-4aa2-9132-4ae248b42d5f\")) {\n",
       "                    Plotly.newPlot(\n",
       "                        '82715b47-7794-4aa2-9132-4ae248b42d5f',\n",
       "                        [{\"type\": \"bar\", \"x\": [\"nezpracov\\u00e1no\", \"p\\u0159edsedaj\\u00edc\\u00ed\", \"p\\u0159edsedaj\\u00edc\\u00ed (ov\\u011b\\u0159eno)\", \"\\u0159e\\u010dn\\u00edk\", \"\\u0159e\\u010dn\\u00edk (ov\\u011b\\u0159eno)\"], \"y\": [20, 70098, 678, 107596, 4888]}],\n",
       "                        {\"template\": {\"data\": {\"bar\": [{\"error_x\": {\"color\": \"#2a3f5f\"}, \"error_y\": {\"color\": \"#2a3f5f\"}, \"marker\": {\"line\": {\"color\": \"#E5ECF6\", \"width\": 0.5}}, \"type\": \"bar\"}], \"barpolar\": [{\"marker\": {\"line\": {\"color\": \"#E5ECF6\", \"width\": 0.5}}, \"type\": \"barpolar\"}], \"carpet\": [{\"aaxis\": {\"endlinecolor\": \"#2a3f5f\", \"gridcolor\": \"white\", \"linecolor\": \"white\", \"minorgridcolor\": \"white\", \"startlinecolor\": \"#2a3f5f\"}, \"baxis\": {\"endlinecolor\": \"#2a3f5f\", \"gridcolor\": \"white\", \"linecolor\": \"white\", \"minorgridcolor\": \"white\", \"startlinecolor\": \"#2a3f5f\"}, \"type\": \"carpet\"}], \"choropleth\": [{\"colorbar\": {\"outlinewidth\": 0, \"ticks\": \"\"}, \"type\": \"choropleth\"}], \"contour\": [{\"colorbar\": {\"outlinewidth\": 0, \"ticks\": \"\"}, \"colorscale\": [[0.0, \"#0d0887\"], [0.1111111111111111, \"#46039f\"], [0.2222222222222222, \"#7201a8\"], [0.3333333333333333, \"#9c179e\"], [0.4444444444444444, \"#bd3786\"], [0.5555555555555556, \"#d8576b\"], [0.6666666666666666, \"#ed7953\"], [0.7777777777777778, \"#fb9f3a\"], [0.8888888888888888, \"#fdca26\"], [1.0, \"#f0f921\"]], \"type\": \"contour\"}], \"contourcarpet\": [{\"colorbar\": {\"outlinewidth\": 0, \"ticks\": \"\"}, \"type\": \"contourcarpet\"}], \"heatmap\": [{\"colorbar\": {\"outlinewidth\": 0, \"ticks\": \"\"}, \"colorscale\": [[0.0, \"#0d0887\"], [0.1111111111111111, \"#46039f\"], [0.2222222222222222, \"#7201a8\"], [0.3333333333333333, \"#9c179e\"], [0.4444444444444444, \"#bd3786\"], [0.5555555555555556, \"#d8576b\"], [0.6666666666666666, \"#ed7953\"], [0.7777777777777778, \"#fb9f3a\"], [0.8888888888888888, \"#fdca26\"], [1.0, \"#f0f921\"]], \"type\": \"heatmap\"}], \"heatmapgl\": [{\"colorbar\": {\"outlinewidth\": 0, \"ticks\": \"\"}, \"colorscale\": [[0.0, \"#0d0887\"], [0.1111111111111111, \"#46039f\"], [0.2222222222222222, \"#7201a8\"], [0.3333333333333333, \"#9c179e\"], [0.4444444444444444, \"#bd3786\"], [0.5555555555555556, \"#d8576b\"], [0.6666666666666666, \"#ed7953\"], [0.7777777777777778, \"#fb9f3a\"], [0.8888888888888888, \"#fdca26\"], [1.0, \"#f0f921\"]], \"type\": \"heatmapgl\"}], \"histogram\": [{\"marker\": {\"colorbar\": {\"outlinewidth\": 0, \"ticks\": \"\"}}, \"type\": \"histogram\"}], \"histogram2d\": [{\"colorbar\": {\"outlinewidth\": 0, \"ticks\": \"\"}, \"colorscale\": [[0.0, \"#0d0887\"], [0.1111111111111111, \"#46039f\"], [0.2222222222222222, \"#7201a8\"], [0.3333333333333333, \"#9c179e\"], [0.4444444444444444, \"#bd3786\"], [0.5555555555555556, \"#d8576b\"], [0.6666666666666666, \"#ed7953\"], [0.7777777777777778, \"#fb9f3a\"], [0.8888888888888888, \"#fdca26\"], [1.0, \"#f0f921\"]], \"type\": \"histogram2d\"}], \"histogram2dcontour\": [{\"colorbar\": {\"outlinewidth\": 0, \"ticks\": \"\"}, \"colorscale\": [[0.0, \"#0d0887\"], [0.1111111111111111, \"#46039f\"], [0.2222222222222222, \"#7201a8\"], [0.3333333333333333, \"#9c179e\"], [0.4444444444444444, \"#bd3786\"], [0.5555555555555556, \"#d8576b\"], [0.6666666666666666, \"#ed7953\"], [0.7777777777777778, \"#fb9f3a\"], [0.8888888888888888, \"#fdca26\"], [1.0, \"#f0f921\"]], \"type\": \"histogram2dcontour\"}], \"mesh3d\": [{\"colorbar\": {\"outlinewidth\": 0, \"ticks\": \"\"}, \"type\": \"mesh3d\"}], \"parcoords\": [{\"line\": {\"colorbar\": {\"outlinewidth\": 0, \"ticks\": \"\"}}, \"type\": \"parcoords\"}], \"pie\": [{\"automargin\": true, \"type\": \"pie\"}], \"scatter\": [{\"marker\": {\"colorbar\": {\"outlinewidth\": 0, \"ticks\": \"\"}}, \"type\": \"scatter\"}], \"scatter3d\": [{\"line\": {\"colorbar\": {\"outlinewidth\": 0, \"ticks\": \"\"}}, \"marker\": {\"colorbar\": {\"outlinewidth\": 0, \"ticks\": \"\"}}, \"type\": \"scatter3d\"}], \"scattercarpet\": [{\"marker\": {\"colorbar\": {\"outlinewidth\": 0, \"ticks\": \"\"}}, \"type\": \"scattercarpet\"}], \"scattergeo\": [{\"marker\": {\"colorbar\": {\"outlinewidth\": 0, \"ticks\": \"\"}}, \"type\": \"scattergeo\"}], \"scattergl\": [{\"marker\": {\"colorbar\": {\"outlinewidth\": 0, \"ticks\": \"\"}}, \"type\": \"scattergl\"}], \"scattermapbox\": [{\"marker\": {\"colorbar\": {\"outlinewidth\": 0, \"ticks\": \"\"}}, \"type\": \"scattermapbox\"}], \"scatterpolar\": [{\"marker\": {\"colorbar\": {\"outlinewidth\": 0, \"ticks\": \"\"}}, \"type\": \"scatterpolar\"}], \"scatterpolargl\": [{\"marker\": {\"colorbar\": {\"outlinewidth\": 0, \"ticks\": \"\"}}, \"type\": \"scatterpolargl\"}], \"scatterternary\": [{\"marker\": {\"colorbar\": {\"outlinewidth\": 0, \"ticks\": \"\"}}, \"type\": \"scatterternary\"}], \"surface\": [{\"colorbar\": {\"outlinewidth\": 0, \"ticks\": \"\"}, \"colorscale\": [[0.0, \"#0d0887\"], [0.1111111111111111, \"#46039f\"], [0.2222222222222222, \"#7201a8\"], [0.3333333333333333, \"#9c179e\"], [0.4444444444444444, \"#bd3786\"], [0.5555555555555556, \"#d8576b\"], [0.6666666666666666, \"#ed7953\"], [0.7777777777777778, \"#fb9f3a\"], [0.8888888888888888, \"#fdca26\"], [1.0, \"#f0f921\"]], \"type\": \"surface\"}], \"table\": [{\"cells\": {\"fill\": {\"color\": \"#EBF0F8\"}, \"line\": {\"color\": \"white\"}}, \"header\": {\"fill\": {\"color\": \"#C8D4E3\"}, \"line\": {\"color\": \"white\"}}, \"type\": \"table\"}]}, \"layout\": {\"annotationdefaults\": {\"arrowcolor\": \"#2a3f5f\", \"arrowhead\": 0, \"arrowwidth\": 1}, \"coloraxis\": {\"colorbar\": {\"outlinewidth\": 0, \"ticks\": \"\"}}, \"colorscale\": {\"diverging\": [[0, \"#8e0152\"], [0.1, \"#c51b7d\"], [0.2, \"#de77ae\"], [0.3, \"#f1b6da\"], [0.4, \"#fde0ef\"], [0.5, \"#f7f7f7\"], [0.6, \"#e6f5d0\"], [0.7, \"#b8e186\"], [0.8, \"#7fbc41\"], [0.9, \"#4d9221\"], [1, \"#276419\"]], \"sequential\": [[0.0, \"#0d0887\"], [0.1111111111111111, \"#46039f\"], [0.2222222222222222, \"#7201a8\"], [0.3333333333333333, \"#9c179e\"], [0.4444444444444444, \"#bd3786\"], [0.5555555555555556, \"#d8576b\"], [0.6666666666666666, \"#ed7953\"], [0.7777777777777778, \"#fb9f3a\"], [0.8888888888888888, \"#fdca26\"], [1.0, \"#f0f921\"]], \"sequentialminus\": [[0.0, \"#0d0887\"], [0.1111111111111111, \"#46039f\"], [0.2222222222222222, \"#7201a8\"], [0.3333333333333333, \"#9c179e\"], [0.4444444444444444, \"#bd3786\"], [0.5555555555555556, \"#d8576b\"], [0.6666666666666666, \"#ed7953\"], [0.7777777777777778, \"#fb9f3a\"], [0.8888888888888888, \"#fdca26\"], [1.0, \"#f0f921\"]]}, \"colorway\": [\"#636efa\", \"#EF553B\", \"#00cc96\", \"#ab63fa\", \"#FFA15A\", \"#19d3f3\", \"#FF6692\", \"#B6E880\", \"#FF97FF\", \"#FECB52\"], \"font\": {\"color\": \"#2a3f5f\"}, \"geo\": {\"bgcolor\": \"white\", \"lakecolor\": \"white\", \"landcolor\": \"#E5ECF6\", \"showlakes\": true, \"showland\": true, \"subunitcolor\": \"white\"}, \"hoverlabel\": {\"align\": \"left\"}, \"hovermode\": \"closest\", \"mapbox\": {\"style\": \"light\"}, \"paper_bgcolor\": \"white\", \"plot_bgcolor\": \"#E5ECF6\", \"polar\": {\"angularaxis\": {\"gridcolor\": \"white\", \"linecolor\": \"white\", \"ticks\": \"\"}, \"bgcolor\": \"#E5ECF6\", \"radialaxis\": {\"gridcolor\": \"white\", \"linecolor\": \"white\", \"ticks\": \"\"}}, \"scene\": {\"xaxis\": {\"backgroundcolor\": \"#E5ECF6\", \"gridcolor\": \"white\", \"gridwidth\": 2, \"linecolor\": \"white\", \"showbackground\": true, \"ticks\": \"\", \"zerolinecolor\": \"white\"}, \"yaxis\": {\"backgroundcolor\": \"#E5ECF6\", \"gridcolor\": \"white\", \"gridwidth\": 2, \"linecolor\": \"white\", \"showbackground\": true, \"ticks\": \"\", \"zerolinecolor\": \"white\"}, \"zaxis\": {\"backgroundcolor\": \"#E5ECF6\", \"gridcolor\": \"white\", \"gridwidth\": 2, \"linecolor\": \"white\", \"showbackground\": true, \"ticks\": \"\", \"zerolinecolor\": \"white\"}}, \"shapedefaults\": {\"line\": {\"color\": \"#2a3f5f\"}}, \"ternary\": {\"aaxis\": {\"gridcolor\": \"white\", \"linecolor\": \"white\", \"ticks\": \"\"}, \"baxis\": {\"gridcolor\": \"white\", \"linecolor\": \"white\", \"ticks\": \"\"}, \"bgcolor\": \"#E5ECF6\", \"caxis\": {\"gridcolor\": \"white\", \"linecolor\": \"white\", \"ticks\": \"\"}}, \"title\": {\"x\": 0.05}, \"xaxis\": {\"automargin\": true, \"gridcolor\": \"white\", \"linecolor\": \"white\", \"ticks\": \"\", \"title\": {\"standoff\": 15}, \"zerolinecolor\": \"white\", \"zerolinewidth\": 2}, \"yaxis\": {\"automargin\": true, \"gridcolor\": \"white\", \"linecolor\": \"white\", \"ticks\": \"\", \"title\": {\"standoff\": 15}, \"zerolinecolor\": \"white\", \"zerolinewidth\": 2}}}},\n",
       "                        {\"responsive\": true}\n",
       "                    ).then(function(){\n",
       "                            \n",
       "var gd = document.getElementById('82715b47-7794-4aa2-9132-4ae248b42d5f');\n",
       "var x = new MutationObserver(function (mutations, observer) {{\n",
       "        var display = window.getComputedStyle(gd).display;\n",
       "        if (!display || display === 'none') {{\n",
       "            console.log([gd, 'removed!']);\n",
       "            Plotly.purge(gd);\n",
       "            observer.disconnect();\n",
       "        }}\n",
       "}});\n",
       "\n",
       "// Listen for the removal of the full notebook cells\n",
       "var notebookContainer = gd.closest('#notebook-container');\n",
       "if (notebookContainer) {{\n",
       "    x.observe(notebookContainer, {childList: true});\n",
       "}}\n",
       "\n",
       "// Listen for the clearing of the current output cell\n",
       "var outputEl = gd.closest('.output');\n",
       "if (outputEl) {{\n",
       "    x.observe(outputEl, {childList: true});\n",
       "}}\n",
       "\n",
       "                        })\n",
       "                };\n",
       "                });\n",
       "            </script>\n",
       "        </div>"
      ]
     },
     "metadata": {},
     "output_type": "display_data"
    }
   ],
   "source": [
    "data = df.groupby('druh_CAT').size()\n",
    "x = data.index\n",
    "y=data.values\n",
    "print(data)\n",
    "go.Figure(go.Bar(x=x, y=y))"
   ]
  },
  {
   "cell_type": "code",
   "execution_count": 17,
   "metadata": {},
   "outputs": [
    {
     "data": {
      "text/html": [
       "<div>\n",
       "<style scoped>\n",
       "    .dataframe tbody tr th:only-of-type {\n",
       "        vertical-align: middle;\n",
       "    }\n",
       "\n",
       "    .dataframe tbody tr th {\n",
       "        vertical-align: top;\n",
       "    }\n",
       "\n",
       "    .dataframe thead th {\n",
       "        text-align: right;\n",
       "    }\n",
       "</style>\n",
       "<table border=\"1\" class=\"dataframe\">\n",
       "  <thead>\n",
       "    <tr style=\"text-align: right;\">\n",
       "      <th></th>\n",
       "      <th>id_osoba</th>\n",
       "      <th>id_of</th>\n",
       "      <th>cl_funkce</th>\n",
       "      <th>od_o</th>\n",
       "      <th>do_o</th>\n",
       "      <th>od_f</th>\n",
       "      <th>do_f</th>\n",
       "      <th>cl_funkce_CAT</th>\n",
       "      <th>od_o_DT</th>\n",
       "      <th>do_o_DT</th>\n",
       "      <th>...</th>\n",
       "      <th>nazev_typ_org_en</th>\n",
       "      <th>typ_org_obecny</th>\n",
       "      <th>id_funkce</th>\n",
       "      <th>id_typ_funkce</th>\n",
       "      <th>nazev_funkce_cz</th>\n",
       "      <th>priorita</th>\n",
       "      <th>typ_funkce_cz</th>\n",
       "      <th>typ_funkce_en</th>\n",
       "      <th>typ_funkce_obecny</th>\n",
       "      <th>typ_funkce_obecny_CAT</th>\n",
       "    </tr>\n",
       "    <tr>\n",
       "      <th>index</th>\n",
       "      <th></th>\n",
       "      <th></th>\n",
       "      <th></th>\n",
       "      <th></th>\n",
       "      <th></th>\n",
       "      <th></th>\n",
       "      <th></th>\n",
       "      <th></th>\n",
       "      <th></th>\n",
       "      <th></th>\n",
       "      <th></th>\n",
       "      <th></th>\n",
       "      <th></th>\n",
       "      <th></th>\n",
       "      <th></th>\n",
       "      <th></th>\n",
       "      <th></th>\n",
       "      <th></th>\n",
       "      <th></th>\n",
       "      <th></th>\n",
       "      <th></th>\n",
       "    </tr>\n",
       "  </thead>\n",
       "  <tbody>\n",
       "    <tr>\n",
       "      <th>0</th>\n",
       "      <td>1</td>\n",
       "      <td>15</td>\n",
       "      <td>0</td>\n",
       "      <td>1992-06-06 00</td>\n",
       "      <td>1996-06-06 00</td>\n",
       "      <td>&lt;NA&gt;</td>\n",
       "      <td>&lt;NA&gt;</td>\n",
       "      <td>členství</td>\n",
       "      <td>1992-06-06 00:00:00+02:00</td>\n",
       "      <td>1996-06-06 00:00:00+02:00</td>\n",
       "      <td>...</td>\n",
       "      <td>Political Group</td>\n",
       "      <td>1</td>\n",
       "      <td>&lt;NA&gt;</td>\n",
       "      <td>&lt;NA&gt;</td>\n",
       "      <td>&lt;NA&gt;</td>\n",
       "      <td>&lt;NA&gt;</td>\n",
       "      <td>&lt;NA&gt;</td>\n",
       "      <td>&lt;NA&gt;</td>\n",
       "      <td>&lt;NA&gt;</td>\n",
       "      <td>NaN</td>\n",
       "    </tr>\n",
       "    <tr>\n",
       "      <th>1</th>\n",
       "      <td>1</td>\n",
       "      <td>23</td>\n",
       "      <td>0</td>\n",
       "      <td>1994-09-29 00</td>\n",
       "      <td>1996-06-06 00</td>\n",
       "      <td>&lt;NA&gt;</td>\n",
       "      <td>&lt;NA&gt;</td>\n",
       "      <td>členství</td>\n",
       "      <td>1994-09-29 00:00:00+01:00</td>\n",
       "      <td>1996-06-06 00:00:00+02:00</td>\n",
       "      <td>...</td>\n",
       "      <td>Commission</td>\n",
       "      <td>2</td>\n",
       "      <td>&lt;NA&gt;</td>\n",
       "      <td>&lt;NA&gt;</td>\n",
       "      <td>&lt;NA&gt;</td>\n",
       "      <td>&lt;NA&gt;</td>\n",
       "      <td>&lt;NA&gt;</td>\n",
       "      <td>&lt;NA&gt;</td>\n",
       "      <td>&lt;NA&gt;</td>\n",
       "      <td>NaN</td>\n",
       "    </tr>\n",
       "    <tr>\n",
       "      <th>2</th>\n",
       "      <td>1</td>\n",
       "      <td>26</td>\n",
       "      <td>0</td>\n",
       "      <td>1995-09-27 00</td>\n",
       "      <td>1996-06-06 00</td>\n",
       "      <td>&lt;NA&gt;</td>\n",
       "      <td>&lt;NA&gt;</td>\n",
       "      <td>členství</td>\n",
       "      <td>1995-09-27 00:00:00+01:00</td>\n",
       "      <td>1996-06-06 00:00:00+02:00</td>\n",
       "      <td>...</td>\n",
       "      <td>Commission</td>\n",
       "      <td>2</td>\n",
       "      <td>&lt;NA&gt;</td>\n",
       "      <td>&lt;NA&gt;</td>\n",
       "      <td>&lt;NA&gt;</td>\n",
       "      <td>&lt;NA&gt;</td>\n",
       "      <td>&lt;NA&gt;</td>\n",
       "      <td>&lt;NA&gt;</td>\n",
       "      <td>&lt;NA&gt;</td>\n",
       "      <td>NaN</td>\n",
       "    </tr>\n",
       "    <tr>\n",
       "      <th>3</th>\n",
       "      <td>1</td>\n",
       "      <td>35</td>\n",
       "      <td>0</td>\n",
       "      <td>1992-06-06 00</td>\n",
       "      <td>1996-06-06 00</td>\n",
       "      <td>&lt;NA&gt;</td>\n",
       "      <td>&lt;NA&gt;</td>\n",
       "      <td>členství</td>\n",
       "      <td>1992-06-06 00:00:00+02:00</td>\n",
       "      <td>1996-06-06 00:00:00+02:00</td>\n",
       "      <td>...</td>\n",
       "      <td>Committee</td>\n",
       "      <td>3</td>\n",
       "      <td>&lt;NA&gt;</td>\n",
       "      <td>&lt;NA&gt;</td>\n",
       "      <td>&lt;NA&gt;</td>\n",
       "      <td>&lt;NA&gt;</td>\n",
       "      <td>&lt;NA&gt;</td>\n",
       "      <td>&lt;NA&gt;</td>\n",
       "      <td>&lt;NA&gt;</td>\n",
       "      <td>NaN</td>\n",
       "    </tr>\n",
       "    <tr>\n",
       "      <th>4</th>\n",
       "      <td>1</td>\n",
       "      <td>165</td>\n",
       "      <td>0</td>\n",
       "      <td>1992-06-06 00</td>\n",
       "      <td>1996-06-06 00</td>\n",
       "      <td>&lt;NA&gt;</td>\n",
       "      <td>&lt;NA&gt;</td>\n",
       "      <td>členství</td>\n",
       "      <td>1992-06-06 00:00:00+02:00</td>\n",
       "      <td>1996-06-06 00:00:00+02:00</td>\n",
       "      <td>...</td>\n",
       "      <td>Parliament</td>\n",
       "      <td>&lt;NA&gt;</td>\n",
       "      <td>&lt;NA&gt;</td>\n",
       "      <td>&lt;NA&gt;</td>\n",
       "      <td>&lt;NA&gt;</td>\n",
       "      <td>&lt;NA&gt;</td>\n",
       "      <td>&lt;NA&gt;</td>\n",
       "      <td>&lt;NA&gt;</td>\n",
       "      <td>&lt;NA&gt;</td>\n",
       "      <td>NaN</td>\n",
       "    </tr>\n",
       "    <tr>\n",
       "      <th>...</th>\n",
       "      <td>...</td>\n",
       "      <td>...</td>\n",
       "      <td>...</td>\n",
       "      <td>...</td>\n",
       "      <td>...</td>\n",
       "      <td>...</td>\n",
       "      <td>...</td>\n",
       "      <td>...</td>\n",
       "      <td>...</td>\n",
       "      <td>...</td>\n",
       "      <td>...</td>\n",
       "      <td>...</td>\n",
       "      <td>...</td>\n",
       "      <td>...</td>\n",
       "      <td>...</td>\n",
       "      <td>...</td>\n",
       "      <td>...</td>\n",
       "      <td>...</td>\n",
       "      <td>...</td>\n",
       "      <td>...</td>\n",
       "      <td>...</td>\n",
       "    </tr>\n",
       "    <tr>\n",
       "      <th>34850</th>\n",
       "      <td>6687</td>\n",
       "      <td>2235</td>\n",
       "      <td>1</td>\n",
       "      <td>2021-01-26 00</td>\n",
       "      <td>&lt;NA&gt;</td>\n",
       "      <td>&lt;NA&gt;</td>\n",
       "      <td>&lt;NA&gt;</td>\n",
       "      <td>funkce</td>\n",
       "      <td>2021-01-26 00:00:00+01:00</td>\n",
       "      <td>NaT</td>\n",
       "      <td>...</td>\n",
       "      <td>Committee</td>\n",
       "      <td>3</td>\n",
       "      <td>2235</td>\n",
       "      <td>7</td>\n",
       "      <td>Ověřovatel výboru</td>\n",
       "      <td>7</td>\n",
       "      <td>Ověřovatel výboru</td>\n",
       "      <td>Verifier of committee</td>\n",
       "      <td>3</td>\n",
       "      <td>ověřovatel</td>\n",
       "    </tr>\n",
       "    <tr>\n",
       "      <th>34851</th>\n",
       "      <td>6688</td>\n",
       "      <td>172</td>\n",
       "      <td>0</td>\n",
       "      <td>2021-01-26 14</td>\n",
       "      <td>&lt;NA&gt;</td>\n",
       "      <td>&lt;NA&gt;</td>\n",
       "      <td>&lt;NA&gt;</td>\n",
       "      <td>členství</td>\n",
       "      <td>2021-01-26 14:00:00+01:00</td>\n",
       "      <td>NaT</td>\n",
       "      <td>...</td>\n",
       "      <td>Parliament</td>\n",
       "      <td>&lt;NA&gt;</td>\n",
       "      <td>&lt;NA&gt;</td>\n",
       "      <td>&lt;NA&gt;</td>\n",
       "      <td>&lt;NA&gt;</td>\n",
       "      <td>&lt;NA&gt;</td>\n",
       "      <td>&lt;NA&gt;</td>\n",
       "      <td>&lt;NA&gt;</td>\n",
       "      <td>&lt;NA&gt;</td>\n",
       "      <td>NaN</td>\n",
       "    </tr>\n",
       "    <tr>\n",
       "      <th>34852</th>\n",
       "      <td>6688</td>\n",
       "      <td>1292</td>\n",
       "      <td>0</td>\n",
       "      <td>2021-01-26 14</td>\n",
       "      <td>&lt;NA&gt;</td>\n",
       "      <td>&lt;NA&gt;</td>\n",
       "      <td>&lt;NA&gt;</td>\n",
       "      <td>členství</td>\n",
       "      <td>2021-01-26 14:00:00+01:00</td>\n",
       "      <td>NaT</td>\n",
       "      <td>...</td>\n",
       "      <td>Political Group</td>\n",
       "      <td>1</td>\n",
       "      <td>&lt;NA&gt;</td>\n",
       "      <td>&lt;NA&gt;</td>\n",
       "      <td>&lt;NA&gt;</td>\n",
       "      <td>&lt;NA&gt;</td>\n",
       "      <td>&lt;NA&gt;</td>\n",
       "      <td>&lt;NA&gt;</td>\n",
       "      <td>&lt;NA&gt;</td>\n",
       "      <td>NaN</td>\n",
       "    </tr>\n",
       "    <tr>\n",
       "      <th>34853</th>\n",
       "      <td>6689</td>\n",
       "      <td>1256</td>\n",
       "      <td>0</td>\n",
       "      <td>2021-01-27 00</td>\n",
       "      <td>&lt;NA&gt;</td>\n",
       "      <td>&lt;NA&gt;</td>\n",
       "      <td>27.01.2024</td>\n",
       "      <td>členství</td>\n",
       "      <td>2021-01-27 00:00:00+01:00</td>\n",
       "      <td>NaT</td>\n",
       "      <td>...</td>\n",
       "      <td>Institution</td>\n",
       "      <td>0</td>\n",
       "      <td>&lt;NA&gt;</td>\n",
       "      <td>&lt;NA&gt;</td>\n",
       "      <td>&lt;NA&gt;</td>\n",
       "      <td>&lt;NA&gt;</td>\n",
       "      <td>&lt;NA&gt;</td>\n",
       "      <td>&lt;NA&gt;</td>\n",
       "      <td>&lt;NA&gt;</td>\n",
       "      <td>NaN</td>\n",
       "    </tr>\n",
       "    <tr>\n",
       "      <th>34854</th>\n",
       "      <td>6690</td>\n",
       "      <td>481</td>\n",
       "      <td>0</td>\n",
       "      <td>2021-01-27 00</td>\n",
       "      <td>&lt;NA&gt;</td>\n",
       "      <td>&lt;NA&gt;</td>\n",
       "      <td>&lt;NA&gt;</td>\n",
       "      <td>členství</td>\n",
       "      <td>2021-01-27 00:00:00+01:00</td>\n",
       "      <td>NaT</td>\n",
       "      <td>...</td>\n",
       "      <td></td>\n",
       "      <td>&lt;NA&gt;</td>\n",
       "      <td>&lt;NA&gt;</td>\n",
       "      <td>&lt;NA&gt;</td>\n",
       "      <td>&lt;NA&gt;</td>\n",
       "      <td>&lt;NA&gt;</td>\n",
       "      <td>&lt;NA&gt;</td>\n",
       "      <td>&lt;NA&gt;</td>\n",
       "      <td>&lt;NA&gt;</td>\n",
       "      <td>NaN</td>\n",
       "    </tr>\n",
       "  </tbody>\n",
       "</table>\n",
       "<p>34855 rows × 42 columns</p>\n",
       "</div>"
      ],
      "text/plain": [
       "       id_osoba  id_of  cl_funkce           od_o           do_o  od_f  \\\n",
       "index                                                                   \n",
       "0             1     15          0  1992-06-06 00  1996-06-06 00  <NA>   \n",
       "1             1     23          0  1994-09-29 00  1996-06-06 00  <NA>   \n",
       "2             1     26          0  1995-09-27 00  1996-06-06 00  <NA>   \n",
       "3             1     35          0  1992-06-06 00  1996-06-06 00  <NA>   \n",
       "4             1    165          0  1992-06-06 00  1996-06-06 00  <NA>   \n",
       "...         ...    ...        ...            ...            ...   ...   \n",
       "34850      6687   2235          1  2021-01-26 00           <NA>  <NA>   \n",
       "34851      6688    172          0  2021-01-26 14           <NA>  <NA>   \n",
       "34852      6688   1292          0  2021-01-26 14           <NA>  <NA>   \n",
       "34853      6689   1256          0  2021-01-27 00           <NA>  <NA>   \n",
       "34854      6690    481          0  2021-01-27 00           <NA>  <NA>   \n",
       "\n",
       "             do_f cl_funkce_CAT                   od_o_DT  \\\n",
       "index                                                       \n",
       "0            <NA>      členství 1992-06-06 00:00:00+02:00   \n",
       "1            <NA>      členství 1994-09-29 00:00:00+01:00   \n",
       "2            <NA>      členství 1995-09-27 00:00:00+01:00   \n",
       "3            <NA>      členství 1992-06-06 00:00:00+02:00   \n",
       "4            <NA>      členství 1992-06-06 00:00:00+02:00   \n",
       "...           ...           ...                       ...   \n",
       "34850        <NA>        funkce 2021-01-26 00:00:00+01:00   \n",
       "34851        <NA>      členství 2021-01-26 14:00:00+01:00   \n",
       "34852        <NA>      členství 2021-01-26 14:00:00+01:00   \n",
       "34853  27.01.2024      členství 2021-01-27 00:00:00+01:00   \n",
       "34854        <NA>      členství 2021-01-27 00:00:00+01:00   \n",
       "\n",
       "                        do_o_DT  ... nazev_typ_org_en typ_org_obecny  \\\n",
       "index                            ...                                   \n",
       "0     1996-06-06 00:00:00+02:00  ...  Political Group              1   \n",
       "1     1996-06-06 00:00:00+02:00  ...       Commission              2   \n",
       "2     1996-06-06 00:00:00+02:00  ...       Commission              2   \n",
       "3     1996-06-06 00:00:00+02:00  ...        Committee              3   \n",
       "4     1996-06-06 00:00:00+02:00  ...       Parliament           <NA>   \n",
       "...                         ...  ...              ...            ...   \n",
       "34850                       NaT  ...        Committee              3   \n",
       "34851                       NaT  ...       Parliament           <NA>   \n",
       "34852                       NaT  ...  Political Group              1   \n",
       "34853                       NaT  ...      Institution              0   \n",
       "34854                       NaT  ...                            <NA>   \n",
       "\n",
       "      id_funkce id_typ_funkce    nazev_funkce_cz priorita      typ_funkce_cz  \\\n",
       "index                                                                          \n",
       "0          <NA>          <NA>               <NA>     <NA>               <NA>   \n",
       "1          <NA>          <NA>               <NA>     <NA>               <NA>   \n",
       "2          <NA>          <NA>               <NA>     <NA>               <NA>   \n",
       "3          <NA>          <NA>               <NA>     <NA>               <NA>   \n",
       "4          <NA>          <NA>               <NA>     <NA>               <NA>   \n",
       "...         ...           ...                ...      ...                ...   \n",
       "34850      2235             7  Ověřovatel výboru        7  Ověřovatel výboru   \n",
       "34851      <NA>          <NA>               <NA>     <NA>               <NA>   \n",
       "34852      <NA>          <NA>               <NA>     <NA>               <NA>   \n",
       "34853      <NA>          <NA>               <NA>     <NA>               <NA>   \n",
       "34854      <NA>          <NA>               <NA>     <NA>               <NA>   \n",
       "\n",
       "               typ_funkce_en typ_funkce_obecny typ_funkce_obecny_CAT  \n",
       "index                                                                 \n",
       "0                       <NA>              <NA>                   NaN  \n",
       "1                       <NA>              <NA>                   NaN  \n",
       "2                       <NA>              <NA>                   NaN  \n",
       "3                       <NA>              <NA>                   NaN  \n",
       "4                       <NA>              <NA>                   NaN  \n",
       "...                      ...               ...                   ...  \n",
       "34850  Verifier of committee                 3            ověřovatel  \n",
       "34851                   <NA>              <NA>                   NaN  \n",
       "34852                   <NA>              <NA>                   NaN  \n",
       "34853                   <NA>              <NA>                   NaN  \n",
       "34854                   <NA>              <NA>                   NaN  \n",
       "\n",
       "[34855 rows x 42 columns]"
      ]
     },
     "execution_count": 17,
     "metadata": {},
     "output_type": "execute_result"
    }
   ],
   "source": [
    "st.osoby_zarazeni"
   ]
  },
  {
   "cell_type": "code",
   "execution_count": 18,
   "metadata": {},
   "outputs": [
    {
     "data": {
      "text/html": [
       "<div>\n",
       "<style scoped>\n",
       "    .dataframe tbody tr th:only-of-type {\n",
       "        vertical-align: middle;\n",
       "    }\n",
       "\n",
       "    .dataframe tbody tr th {\n",
       "        vertical-align: top;\n",
       "    }\n",
       "\n",
       "    .dataframe thead th {\n",
       "        text-align: right;\n",
       "    }\n",
       "</style>\n",
       "<table border=\"1\" class=\"dataframe\">\n",
       "  <thead>\n",
       "    <tr style=\"text-align: right;\">\n",
       "      <th></th>\n",
       "      <th>text</th>\n",
       "      <th>text_s_poznamkami</th>\n",
       "      <th>schuze</th>\n",
       "      <th>id_rec</th>\n",
       "      <th>poznamka</th>\n",
       "      <th>je_poznamka</th>\n",
       "      <th>cas</th>\n",
       "      <th>typ_casu</th>\n",
       "      <th>date</th>\n",
       "      <th>turn_surrogate</th>\n",
       "      <th>...</th>\n",
       "      <th>do_t</th>\n",
       "      <th>od_steno_DT</th>\n",
       "      <th>pred</th>\n",
       "      <th>prijmeni</th>\n",
       "      <th>jmeno</th>\n",
       "      <th>za</th>\n",
       "      <th>narozeni</th>\n",
       "      <th>pohlavi</th>\n",
       "      <th>umrti</th>\n",
       "      <th>zkratka</th>\n",
       "    </tr>\n",
       "  </thead>\n",
       "  <tbody>\n",
       "    <tr>\n",
       "      <th>1</th>\n",
       "      <td>Vážené paní poslankyně, vážení páni poslanci, ...</td>\n",
       "      <td>Vážené paní poslankyně, vážení páni poslanci, ...</td>\n",
       "      <td>1</td>\n",
       "      <td>1</td>\n",
       "      <td>None</td>\n",
       "      <td>False</td>\n",
       "      <td>&lt;NA&gt;</td>\n",
       "      <td>&lt;NA&gt;</td>\n",
       "      <td>2017-11-20 00:00:00+01:00</td>\n",
       "      <td>1</td>\n",
       "      <td>...</td>\n",
       "      <td>790</td>\n",
       "      <td>2017-11-20 00:00:00+01:00</td>\n",
       "      <td></td>\n",
       "      <td>Hamáček</td>\n",
       "      <td>Jan</td>\n",
       "      <td></td>\n",
       "      <td>1978-04-11</td>\n",
       "      <td>M</td>\n",
       "      <td>NaT</td>\n",
       "      <td>ČSSD</td>\n",
       "    </tr>\n",
       "    <tr>\n",
       "      <th>2</th>\n",
       "      <td>Prosím, abychom všichni povstali. Naše jednání...</td>\n",
       "      <td>Prosím, abychom všichni povstali. Naše jednání...</td>\n",
       "      <td>1</td>\n",
       "      <td>1</td>\n",
       "      <td>[Děje se. Zazněla státní hymna České republiky.]</td>\n",
       "      <td>False</td>\n",
       "      <td>&lt;NA&gt;</td>\n",
       "      <td>&lt;NA&gt;</td>\n",
       "      <td>2017-11-20 00:00:00+01:00</td>\n",
       "      <td>1</td>\n",
       "      <td>...</td>\n",
       "      <td>790</td>\n",
       "      <td>2017-11-20 00:00:00+01:00</td>\n",
       "      <td></td>\n",
       "      <td>Hamáček</td>\n",
       "      <td>Jan</td>\n",
       "      <td></td>\n",
       "      <td>1978-04-11</td>\n",
       "      <td>M</td>\n",
       "      <td>NaT</td>\n",
       "      <td>ČSSD</td>\n",
       "    </tr>\n",
       "    <tr>\n",
       "      <th>3</th>\n",
       "      <td>Vážené paní poslankyně, vážení páni poslanci, ...</td>\n",
       "      <td>Vážené paní poslankyně, vážení páni poslanci, ...</td>\n",
       "      <td>1</td>\n",
       "      <td>1</td>\n",
       "      <td>None</td>\n",
       "      <td>False</td>\n",
       "      <td>&lt;NA&gt;</td>\n",
       "      <td>&lt;NA&gt;</td>\n",
       "      <td>2017-11-20 00:00:00+01:00</td>\n",
       "      <td>1</td>\n",
       "      <td>...</td>\n",
       "      <td>790</td>\n",
       "      <td>2017-11-20 00:00:00+01:00</td>\n",
       "      <td></td>\n",
       "      <td>Hamáček</td>\n",
       "      <td>Jan</td>\n",
       "      <td></td>\n",
       "      <td>1978-04-11</td>\n",
       "      <td>M</td>\n",
       "      <td>NaT</td>\n",
       "      <td>ČSSD</td>\n",
       "    </tr>\n",
       "    <tr>\n",
       "      <th>4</th>\n",
       "      <td>Pořad ustavující schůze je dán příslušnými ust...</td>\n",
       "      <td>Pořad ustavující schůze je dán příslušnými ust...</td>\n",
       "      <td>1</td>\n",
       "      <td>1</td>\n",
       "      <td>None</td>\n",
       "      <td>False</td>\n",
       "      <td>&lt;NA&gt;</td>\n",
       "      <td>&lt;NA&gt;</td>\n",
       "      <td>2017-11-20 00:00:00+01:00</td>\n",
       "      <td>1</td>\n",
       "      <td>...</td>\n",
       "      <td>790</td>\n",
       "      <td>2017-11-20 00:00:00+01:00</td>\n",
       "      <td></td>\n",
       "      <td>Hamáček</td>\n",
       "      <td>Jan</td>\n",
       "      <td></td>\n",
       "      <td>1978-04-11</td>\n",
       "      <td>M</td>\n",
       "      <td>NaT</td>\n",
       "      <td>ČSSD</td>\n",
       "    </tr>\n",
       "    <tr>\n",
       "      <th>5</th>\n",
       "      <td>Chtěl bych vás seznámit s omluvami. Omlouvá se...</td>\n",
       "      <td>Chtěl bych vás seznámit s omluvami. Omlouvá se...</td>\n",
       "      <td>1</td>\n",
       "      <td>1</td>\n",
       "      <td>None</td>\n",
       "      <td>False</td>\n",
       "      <td>&lt;NA&gt;</td>\n",
       "      <td>&lt;NA&gt;</td>\n",
       "      <td>2017-11-20 00:00:00+01:00</td>\n",
       "      <td>1</td>\n",
       "      <td>...</td>\n",
       "      <td>790</td>\n",
       "      <td>2017-11-20 00:00:00+01:00</td>\n",
       "      <td></td>\n",
       "      <td>Hamáček</td>\n",
       "      <td>Jan</td>\n",
       "      <td></td>\n",
       "      <td>1978-04-11</td>\n",
       "      <td>M</td>\n",
       "      <td>NaT</td>\n",
       "      <td>ČSSD</td>\n",
       "    </tr>\n",
       "    <tr>\n",
       "      <th>...</th>\n",
       "      <td>...</td>\n",
       "      <td>...</td>\n",
       "      <td>...</td>\n",
       "      <td>...</td>\n",
       "      <td>...</td>\n",
       "      <td>...</td>\n",
       "      <td>...</td>\n",
       "      <td>...</td>\n",
       "      <td>...</td>\n",
       "      <td>...</td>\n",
       "      <td>...</td>\n",
       "      <td>...</td>\n",
       "      <td>...</td>\n",
       "      <td>...</td>\n",
       "      <td>...</td>\n",
       "      <td>...</td>\n",
       "      <td>...</td>\n",
       "      <td>...</td>\n",
       "      <td>...</td>\n",
       "      <td>...</td>\n",
       "      <td>...</td>\n",
       "    </tr>\n",
       "    <tr>\n",
       "      <th>183381</th>\n",
       "      <td>Nyní pan poslanec Farský, pak již neeviduji da...</td>\n",
       "      <td>Nyní pan poslanec Farský, pak již neeviduji da...</td>\n",
       "      <td>82</td>\n",
       "      <td>6</td>\n",
       "      <td>None</td>\n",
       "      <td>False</td>\n",
       "      <td>&lt;NA&gt;</td>\n",
       "      <td>&lt;NA&gt;</td>\n",
       "      <td>2021-02-10 00:00:00+01:00</td>\n",
       "      <td>13</td>\n",
       "      <td>...</td>\n",
       "      <td>-1</td>\n",
       "      <td>2021-02-10 00:00:00+01:00</td>\n",
       "      <td>Bc.</td>\n",
       "      <td>Pikal</td>\n",
       "      <td>Vojtěch</td>\n",
       "      <td></td>\n",
       "      <td>1987-02-19</td>\n",
       "      <td>M</td>\n",
       "      <td>NaT</td>\n",
       "      <td>Piráti</td>\n",
       "    </tr>\n",
       "    <tr>\n",
       "      <th>183383</th>\n",
       "      <td>Děkuji. Paní poslankyně Valachová s přednostní...</td>\n",
       "      <td>Děkuji. Paní poslankyně Valachová s přednostní...</td>\n",
       "      <td>82</td>\n",
       "      <td>8</td>\n",
       "      <td>None</td>\n",
       "      <td>False</td>\n",
       "      <td>&lt;NA&gt;</td>\n",
       "      <td>&lt;NA&gt;</td>\n",
       "      <td>2021-02-10 00:00:00+01:00</td>\n",
       "      <td>13</td>\n",
       "      <td>...</td>\n",
       "      <td>-1</td>\n",
       "      <td>2021-02-10 00:00:00+01:00</td>\n",
       "      <td>Bc.</td>\n",
       "      <td>Pikal</td>\n",
       "      <td>Vojtěch</td>\n",
       "      <td></td>\n",
       "      <td>1987-02-19</td>\n",
       "      <td>M</td>\n",
       "      <td>NaT</td>\n",
       "      <td>Piráti</td>\n",
       "    </tr>\n",
       "    <tr>\n",
       "      <th>183386</th>\n",
       "      <td>Pan poslanec Nacher se tady hlásí. Bohužel nen...</td>\n",
       "      <td>Pan poslanec Nacher se tady hlásí. Bohužel nen...</td>\n",
       "      <td>82</td>\n",
       "      <td>10</td>\n",
       "      <td>None</td>\n",
       "      <td>False</td>\n",
       "      <td>&lt;NA&gt;</td>\n",
       "      <td>&lt;NA&gt;</td>\n",
       "      <td>2021-02-10 00:00:00+01:00</td>\n",
       "      <td>13</td>\n",
       "      <td>...</td>\n",
       "      <td>-1</td>\n",
       "      <td>2021-02-10 00:00:00+01:00</td>\n",
       "      <td>Bc.</td>\n",
       "      <td>Pikal</td>\n",
       "      <td>Vojtěch</td>\n",
       "      <td></td>\n",
       "      <td>1987-02-19</td>\n",
       "      <td>M</td>\n",
       "      <td>NaT</td>\n",
       "      <td>Piráti</td>\n",
       "    </tr>\n",
       "    <tr>\n",
       "      <th>183388</th>\n",
       "      <td>Děkuji. To jsou všechny přihlášky. Takže nyní ...</td>\n",
       "      <td>Děkuji. To jsou všechny přihlášky. Takže nyní ...</td>\n",
       "      <td>82</td>\n",
       "      <td>12</td>\n",
       "      <td>None</td>\n",
       "      <td>False</td>\n",
       "      <td>&lt;NA&gt;</td>\n",
       "      <td>&lt;NA&gt;</td>\n",
       "      <td>2021-02-10 00:00:00+01:00</td>\n",
       "      <td>13</td>\n",
       "      <td>...</td>\n",
       "      <td>-1</td>\n",
       "      <td>2021-02-10 00:00:00+01:00</td>\n",
       "      <td>Bc.</td>\n",
       "      <td>Pikal</td>\n",
       "      <td>Vojtěch</td>\n",
       "      <td></td>\n",
       "      <td>1987-02-19</td>\n",
       "      <td>M</td>\n",
       "      <td>NaT</td>\n",
       "      <td>Piráti</td>\n",
       "    </tr>\n",
       "    <tr>\n",
       "      <th>183389</th>\n",
       "      <td>Přeji pěkný večer.</td>\n",
       "      <td>Přeji pěkný večer.</td>\n",
       "      <td>82</td>\n",
       "      <td>12</td>\n",
       "      <td>None</td>\n",
       "      <td>False</td>\n",
       "      <td>&lt;NA&gt;</td>\n",
       "      <td>&lt;NA&gt;</td>\n",
       "      <td>2021-02-10 00:00:00+01:00</td>\n",
       "      <td>13</td>\n",
       "      <td>...</td>\n",
       "      <td>-1</td>\n",
       "      <td>2021-02-10 00:00:00+01:00</td>\n",
       "      <td>Bc.</td>\n",
       "      <td>Pikal</td>\n",
       "      <td>Vojtěch</td>\n",
       "      <td></td>\n",
       "      <td>1987-02-19</td>\n",
       "      <td>M</td>\n",
       "      <td>NaT</td>\n",
       "      <td>Piráti</td>\n",
       "    </tr>\n",
       "  </tbody>\n",
       "</table>\n",
       "<p>69479 rows × 31 columns</p>\n",
       "</div>"
      ],
      "text/plain": [
       "                                                     text  \\\n",
       "1       Vážené paní poslankyně, vážení páni poslanci, ...   \n",
       "2       Prosím, abychom všichni povstali. Naše jednání...   \n",
       "3       Vážené paní poslankyně, vážení páni poslanci, ...   \n",
       "4       Pořad ustavující schůze je dán příslušnými ust...   \n",
       "5       Chtěl bych vás seznámit s omluvami. Omlouvá se...   \n",
       "...                                                   ...   \n",
       "183381  Nyní pan poslanec Farský, pak již neeviduji da...   \n",
       "183383  Děkuji. Paní poslankyně Valachová s přednostní...   \n",
       "183386  Pan poslanec Nacher se tady hlásí. Bohužel nen...   \n",
       "183388  Děkuji. To jsou všechny přihlášky. Takže nyní ...   \n",
       "183389                                 Přeji pěkný večer.   \n",
       "\n",
       "                                        text_s_poznamkami  schuze  id_rec  \\\n",
       "1       Vážené paní poslankyně, vážení páni poslanci, ...       1       1   \n",
       "2       Prosím, abychom všichni povstali. Naše jednání...       1       1   \n",
       "3       Vážené paní poslankyně, vážení páni poslanci, ...       1       1   \n",
       "4       Pořad ustavující schůze je dán příslušnými ust...       1       1   \n",
       "5       Chtěl bych vás seznámit s omluvami. Omlouvá se...       1       1   \n",
       "...                                                   ...     ...     ...   \n",
       "183381  Nyní pan poslanec Farský, pak již neeviduji da...      82       6   \n",
       "183383  Děkuji. Paní poslankyně Valachová s přednostní...      82       8   \n",
       "183386  Pan poslanec Nacher se tady hlásí. Bohužel nen...      82      10   \n",
       "183388  Děkuji. To jsou všechny přihlášky. Takže nyní ...      82      12   \n",
       "183389                                 Přeji pěkný večer.      82      12   \n",
       "\n",
       "                                                poznamka  je_poznamka   cas  \\\n",
       "1                                                   None        False  <NA>   \n",
       "2       [Děje se. Zazněla státní hymna České republiky.]        False  <NA>   \n",
       "3                                                   None        False  <NA>   \n",
       "4                                                   None        False  <NA>   \n",
       "5                                                   None        False  <NA>   \n",
       "...                                                  ...          ...   ...   \n",
       "183381                                              None        False  <NA>   \n",
       "183383                                              None        False  <NA>   \n",
       "183386                                              None        False  <NA>   \n",
       "183388                                              None        False  <NA>   \n",
       "183389                                              None        False  <NA>   \n",
       "\n",
       "       typ_casu                      date  turn_surrogate  ...  do_t  \\\n",
       "1          <NA> 2017-11-20 00:00:00+01:00               1  ...   790   \n",
       "2          <NA> 2017-11-20 00:00:00+01:00               1  ...   790   \n",
       "3          <NA> 2017-11-20 00:00:00+01:00               1  ...   790   \n",
       "4          <NA> 2017-11-20 00:00:00+01:00               1  ...   790   \n",
       "5          <NA> 2017-11-20 00:00:00+01:00               1  ...   790   \n",
       "...         ...                       ...             ...  ...   ...   \n",
       "183381     <NA> 2021-02-10 00:00:00+01:00              13  ...    -1   \n",
       "183383     <NA> 2021-02-10 00:00:00+01:00              13  ...    -1   \n",
       "183386     <NA> 2021-02-10 00:00:00+01:00              13  ...    -1   \n",
       "183388     <NA> 2021-02-10 00:00:00+01:00              13  ...    -1   \n",
       "183389     <NA> 2021-02-10 00:00:00+01:00              13  ...    -1   \n",
       "\n",
       "                     od_steno_DT  pred  prijmeni    jmeno  za   narozeni  \\\n",
       "1      2017-11-20 00:00:00+01:00         Hamáček      Jan     1978-04-11   \n",
       "2      2017-11-20 00:00:00+01:00         Hamáček      Jan     1978-04-11   \n",
       "3      2017-11-20 00:00:00+01:00         Hamáček      Jan     1978-04-11   \n",
       "4      2017-11-20 00:00:00+01:00         Hamáček      Jan     1978-04-11   \n",
       "5      2017-11-20 00:00:00+01:00         Hamáček      Jan     1978-04-11   \n",
       "...                          ...   ...       ...      ...  ..        ...   \n",
       "183381 2021-02-10 00:00:00+01:00   Bc.     Pikal  Vojtěch     1987-02-19   \n",
       "183383 2021-02-10 00:00:00+01:00   Bc.     Pikal  Vojtěch     1987-02-19   \n",
       "183386 2021-02-10 00:00:00+01:00   Bc.     Pikal  Vojtěch     1987-02-19   \n",
       "183388 2021-02-10 00:00:00+01:00   Bc.     Pikal  Vojtěch     1987-02-19   \n",
       "183389 2021-02-10 00:00:00+01:00   Bc.     Pikal  Vojtěch     1987-02-19   \n",
       "\n",
       "       pohlavi umrti  zkratka  \n",
       "1            M   NaT     ČSSD  \n",
       "2            M   NaT     ČSSD  \n",
       "3            M   NaT     ČSSD  \n",
       "4            M   NaT     ČSSD  \n",
       "5            M   NaT     ČSSD  \n",
       "...        ...   ...      ...  \n",
       "183381       M   NaT   Piráti  \n",
       "183383       M   NaT   Piráti  \n",
       "183386       M   NaT   Piráti  \n",
       "183388       M   NaT   Piráti  \n",
       "183389       M   NaT   Piráti  \n",
       "\n",
       "[69479 rows x 31 columns]"
      ]
     },
     "execution_count": 18,
     "metadata": {},
     "output_type": "execute_result"
    }
   ],
   "source": [
    "df[~df.je_poznamka & df.druh_CAT.isin(['předsedající', 'předsedající (ověřeno)'])]"
   ]
  },
  {
   "cell_type": "code",
   "execution_count": 19,
   "metadata": {},
   "outputs": [
    {
     "data": {
      "text/html": [
       "<div>\n",
       "<style scoped>\n",
       "    .dataframe tbody tr th:only-of-type {\n",
       "        vertical-align: middle;\n",
       "    }\n",
       "\n",
       "    .dataframe tbody tr th {\n",
       "        vertical-align: top;\n",
       "    }\n",
       "\n",
       "    .dataframe thead th {\n",
       "        text-align: right;\n",
       "    }\n",
       "</style>\n",
       "<table border=\"1\" class=\"dataframe\">\n",
       "  <thead>\n",
       "    <tr style=\"text-align: right;\">\n",
       "      <th></th>\n",
       "      <th>text</th>\n",
       "      <th>text_s_poznamkami</th>\n",
       "      <th>schuze</th>\n",
       "      <th>id_rec</th>\n",
       "      <th>poznamka</th>\n",
       "      <th>je_poznamka</th>\n",
       "      <th>cas</th>\n",
       "      <th>typ_casu</th>\n",
       "      <th>date</th>\n",
       "      <th>turn_surrogate</th>\n",
       "      <th>...</th>\n",
       "      <th>do_t</th>\n",
       "      <th>od_steno_DT</th>\n",
       "      <th>pred</th>\n",
       "      <th>prijmeni</th>\n",
       "      <th>jmeno</th>\n",
       "      <th>za</th>\n",
       "      <th>narozeni</th>\n",
       "      <th>pohlavi</th>\n",
       "      <th>umrti</th>\n",
       "      <th>zkratka</th>\n",
       "    </tr>\n",
       "  </thead>\n",
       "  <tbody>\n",
       "    <tr>\n",
       "      <th>15</th>\n",
       "      <td>Vážené paní poslankyně, vážení páni poslanci -...</td>\n",
       "      <td>Vážené paní poslankyně, vážení páni poslanci -...</td>\n",
       "      <td>1</td>\n",
       "      <td>2</td>\n",
       "      <td>None</td>\n",
       "      <td>False</td>\n",
       "      <td>&lt;NA&gt;</td>\n",
       "      <td>&lt;NA&gt;</td>\n",
       "      <td>2017-11-20 00:00:00+01:00</td>\n",
       "      <td>1</td>\n",
       "      <td>...</td>\n",
       "      <td>790</td>\n",
       "      <td>2017-11-20 00:00:00+01:00</td>\n",
       "      <td>JUDr.</td>\n",
       "      <td>Filip</td>\n",
       "      <td>Vojtěch</td>\n",
       "      <td></td>\n",
       "      <td>1955-01-13</td>\n",
       "      <td>M</td>\n",
       "      <td>NaT</td>\n",
       "      <td>KSČM</td>\n",
       "    </tr>\n",
       "    <tr>\n",
       "      <th>16</th>\n",
       "      <td>\"Slibuji věrnost České republice. Slibuji, že ...</td>\n",
       "      <td>\"Slibuji věrnost České republice. Slibuji, že ...</td>\n",
       "      <td>1</td>\n",
       "      <td>2</td>\n",
       "      <td>[Podáním ruky a podpisem svůj slib stvrzuje.]</td>\n",
       "      <td>False</td>\n",
       "      <td>&lt;NA&gt;</td>\n",
       "      <td>&lt;NA&gt;</td>\n",
       "      <td>2017-11-20 00:00:00+01:00</td>\n",
       "      <td>1</td>\n",
       "      <td>...</td>\n",
       "      <td>790</td>\n",
       "      <td>2017-11-20 00:00:00+01:00</td>\n",
       "      <td>JUDr.</td>\n",
       "      <td>Filip</td>\n",
       "      <td>Vojtěch</td>\n",
       "      <td></td>\n",
       "      <td>1955-01-13</td>\n",
       "      <td>M</td>\n",
       "      <td>NaT</td>\n",
       "      <td>KSČM</td>\n",
       "    </tr>\n",
       "    <tr>\n",
       "      <th>17</th>\n",
       "      <td>Prosím pány poslance a paní poslankyně, aby př...</td>\n",
       "      <td>Prosím pány poslance a paní poslankyně, aby př...</td>\n",
       "      <td>1</td>\n",
       "      <td>2</td>\n",
       "      <td>None</td>\n",
       "      <td>False</td>\n",
       "      <td>&lt;NA&gt;</td>\n",
       "      <td>&lt;NA&gt;</td>\n",
       "      <td>2017-11-20 00:00:00+01:00</td>\n",
       "      <td>1</td>\n",
       "      <td>...</td>\n",
       "      <td>790</td>\n",
       "      <td>2017-11-20 00:00:00+01:00</td>\n",
       "      <td>JUDr.</td>\n",
       "      <td>Filip</td>\n",
       "      <td>Vojtěch</td>\n",
       "      <td></td>\n",
       "      <td>1955-01-13</td>\n",
       "      <td>M</td>\n",
       "      <td>NaT</td>\n",
       "      <td>KSČM</td>\n",
       "    </tr>\n",
       "    <tr>\n",
       "      <th>18</th>\n",
       "      <td>Pan Ivan Adamec.</td>\n",
       "      <td>Pan Ivan Adamec. (Slibuji.)</td>\n",
       "      <td>1</td>\n",
       "      <td>2</td>\n",
       "      <td>[Slibuji.]</td>\n",
       "      <td>False</td>\n",
       "      <td>&lt;NA&gt;</td>\n",
       "      <td>&lt;NA&gt;</td>\n",
       "      <td>2017-11-20 00:00:00+01:00</td>\n",
       "      <td>1</td>\n",
       "      <td>...</td>\n",
       "      <td>790</td>\n",
       "      <td>2017-11-20 00:00:00+01:00</td>\n",
       "      <td>JUDr.</td>\n",
       "      <td>Filip</td>\n",
       "      <td>Vojtěch</td>\n",
       "      <td></td>\n",
       "      <td>1955-01-13</td>\n",
       "      <td>M</td>\n",
       "      <td>NaT</td>\n",
       "      <td>KSČM</td>\n",
       "    </tr>\n",
       "    <tr>\n",
       "      <th>19</th>\n",
       "      <td>Paní Věra Adámková.</td>\n",
       "      <td>Paní Věra Adámková. (Slibuji.)</td>\n",
       "      <td>1</td>\n",
       "      <td>2</td>\n",
       "      <td>[Slibuji.]</td>\n",
       "      <td>False</td>\n",
       "      <td>&lt;NA&gt;</td>\n",
       "      <td>&lt;NA&gt;</td>\n",
       "      <td>2017-11-20 00:00:00+01:00</td>\n",
       "      <td>1</td>\n",
       "      <td>...</td>\n",
       "      <td>790</td>\n",
       "      <td>2017-11-20 00:00:00+01:00</td>\n",
       "      <td>JUDr.</td>\n",
       "      <td>Filip</td>\n",
       "      <td>Vojtěch</td>\n",
       "      <td></td>\n",
       "      <td>1955-01-13</td>\n",
       "      <td>M</td>\n",
       "      <td>NaT</td>\n",
       "      <td>KSČM</td>\n",
       "    </tr>\n",
       "  </tbody>\n",
       "</table>\n",
       "<p>5 rows × 31 columns</p>\n",
       "</div>"
      ],
      "text/plain": [
       "                                                 text  \\\n",
       "15  Vážené paní poslankyně, vážení páni poslanci -...   \n",
       "16  \"Slibuji věrnost České republice. Slibuji, že ...   \n",
       "17  Prosím pány poslance a paní poslankyně, aby př...   \n",
       "18                                  Pan Ivan Adamec.    \n",
       "19                               Paní Věra Adámková.    \n",
       "\n",
       "                                    text_s_poznamkami  schuze  id_rec  \\\n",
       "15  Vážené paní poslankyně, vážení páni poslanci -...       1       2   \n",
       "16  \"Slibuji věrnost České republice. Slibuji, že ...       1       2   \n",
       "17  Prosím pány poslance a paní poslankyně, aby př...       1       2   \n",
       "18                        Pan Ivan Adamec. (Slibuji.)       1       2   \n",
       "19                     Paní Věra Adámková. (Slibuji.)       1       2   \n",
       "\n",
       "                                         poznamka  je_poznamka   cas typ_casu  \\\n",
       "15                                           None        False  <NA>     <NA>   \n",
       "16  [Podáním ruky a podpisem svůj slib stvrzuje.]        False  <NA>     <NA>   \n",
       "17                                           None        False  <NA>     <NA>   \n",
       "18                                     [Slibuji.]        False  <NA>     <NA>   \n",
       "19                                     [Slibuji.]        False  <NA>     <NA>   \n",
       "\n",
       "                        date  turn_surrogate  ...  do_t  \\\n",
       "15 2017-11-20 00:00:00+01:00               1  ...   790   \n",
       "16 2017-11-20 00:00:00+01:00               1  ...   790   \n",
       "17 2017-11-20 00:00:00+01:00               1  ...   790   \n",
       "18 2017-11-20 00:00:00+01:00               1  ...   790   \n",
       "19 2017-11-20 00:00:00+01:00               1  ...   790   \n",
       "\n",
       "                 od_steno_DT   pred  prijmeni    jmeno  za   narozeni pohlavi  \\\n",
       "15 2017-11-20 00:00:00+01:00  JUDr.     Filip  Vojtěch     1955-01-13       M   \n",
       "16 2017-11-20 00:00:00+01:00  JUDr.     Filip  Vojtěch     1955-01-13       M   \n",
       "17 2017-11-20 00:00:00+01:00  JUDr.     Filip  Vojtěch     1955-01-13       M   \n",
       "18 2017-11-20 00:00:00+01:00  JUDr.     Filip  Vojtěch     1955-01-13       M   \n",
       "19 2017-11-20 00:00:00+01:00  JUDr.     Filip  Vojtěch     1955-01-13       M   \n",
       "\n",
       "   umrti  zkratka  \n",
       "15   NaT     KSČM  \n",
       "16   NaT     KSČM  \n",
       "17   NaT     KSČM  \n",
       "18   NaT     KSČM  \n",
       "19   NaT     KSČM  \n",
       "\n",
       "[5 rows x 31 columns]"
      ]
     },
     "execution_count": 19,
     "metadata": {},
     "output_type": "execute_result"
    }
   ],
   "source": [
    "promluvy = df[(~df.je_poznamka) & df.druh_CAT.isin(['řečník', 'řečník (ověřeno)'])]\n",
    "promluvy.head()"
   ]
  },
  {
   "cell_type": "code",
   "execution_count": 20,
   "metadata": {},
   "outputs": [
    {
     "name": "stdout",
     "output_type": "stream",
     "text": [
      "172 2017-10-21 00:00:00+02:00 NaT\n",
      "6440 2017-10-26 00:00:00+02:00 2019-03-19 00:00:00+01:00 1298 SPD\n",
      "6440 2019-03-19 00:00:00+01:00 NaT 1500 Nezařaz\n",
      "6498 2017-10-24 00:00:00+02:00 2019-03-17 00:00:00+01:00 1295 ODS\n",
      "6498 2019-03-17 00:00:00+01:00 NaT 1500 Nezařaz\n",
      "6467 2017-10-24 00:00:00+02:00 2019-04-23 00:00:00+02:00 1295 ODS\n",
      "6467 2019-04-23 00:00:00+02:00 NaT 1500 Nezařaz\n",
      "6481 2017-10-26 00:00:00+02:00 2019-03-19 00:00:00+01:00 1298 SPD\n",
      "6481 2019-03-19 00:00:00+01:00 NaT 1500 Nezařaz\n",
      "6456 2017-10-26 00:00:00+02:00 2020-07-27 00:00:00+02:00 1298 SPD\n",
      "6456 2020-07-27 00:00:00+02:00 NaT 1500 Nezařaz\n",
      "6478 2017-10-26 00:00:00+02:00 2019-03-19 00:00:00+01:00 1298 SPD\n",
      "6478 2019-03-19 00:00:00+01:00 NaT 1500 Nezařaz\n",
      "346 2017-10-24 00:00:00+02:00 2017-11-20 00:00:00+01:00 1295 ODS\n",
      "346 2019-07-02 00:00:00+02:00 NaT 1295 ODS\n",
      "5911 2017-10-27 00:00:00+02:00 2020-02-25 00:00:00+01:00 1294 ČSSD\n",
      "5911 2020-04-07 00:00:00+02:00 NaT 1298 SPD\n",
      "5911 2020-02-25 00:00:00+01:00 2020-04-07 00:00:00+02:00 1500 Nezařaz\n"
     ]
    },
    {
     "data": {
      "text/plain": [
       "zkratka\n",
       "Nezařaz      6\n",
       "SPD         62\n",
       "ČSSD       124\n",
       "dtype: int64"
      ]
     },
     "execution_count": 20,
     "metadata": {},
     "output_type": "execute_result"
    }
   ],
   "source": [
    "x = st.df[['id_osoba', 'jmeno', 'prijmeni', 'date']]\n",
    "snemovna_id = st.organy[st.organy.nazev_organu_cz==\"Poslanecká sněmovna\"].sort_values(by=\"od_organ\").iloc[-1].id_organ\n",
    "snemovna_od = pd.to_datetime(st.organy[st.organy.id_organ == snemovna_id].iloc[0].od_organ).tz_localize(\"Europe/Prague\")\n",
    "snemovna_do = pd.to_datetime(st.organy[st.organy.id_organ == snemovna_id].iloc[0].do_organ).tz_localize(\"Europe/Prague\")\n",
    "print(snemovna_id, snemovna_od, snemovna_do)\n",
    "\n",
    "\n",
    "snemovna_cond = (st.osoby_zarazeni.od_o_DT >= snemovna_od) & (st.osoby_zarazeni.nazev_typ_org_cz == \"Klub\") & (st.osoby_zarazeni.cl_funkce_CAT=='členství')\n",
    "if pd.isnull(snemovna_do) == False:\n",
    "    print('Do is not NaT!')\n",
    "    snemovna_cond = snemovna_cond | (st.osoby_zarazeni.do_o_DT >= snemovna_do)\n",
    "\n",
    "s = st.osoby_zarazeni[snemovna_cond].groupby('id_osoba').size().sort_values().tail(10)\n",
    "prebehlici = s[s > 1]\n",
    "prebehlici\n",
    "\n",
    "for id_prebehlika in prebehlici.index:\n",
    "    for idx, row in st.osoby_zarazeni[ snemovna_cond & (st.osoby_zarazeni.id_osoba == id_prebehlika)].iterrows():\n",
    "        od, do, id_organ, zkratka =  row['od_o_DT'], row['do_o_DT'], row['id_organ'], row['zkratka']\n",
    "        print(id_prebehlika, od, do, id_organ, zkratka)\n",
    "        st.df.zkratka.mask((st.df.date >= od) & (st.df.date <= do) & (st.df.id_osoba == id_prebehlika), zkratka, inplace=True)\n",
    "    \n",
    "st.df[st.df.id_osoba == 5911].groupby('zkratka').size()"
   ]
  },
  {
   "cell_type": "code",
   "execution_count": 24,
   "metadata": {},
   "outputs": [
    {
     "data": {
      "application/vnd.plotly.v1+json": {
       "config": {
        "plotlyServerURL": "https://plot.ly"
       },
       "data": [
        {
         "type": "bar",
         "x": [
          "ANO",
          "KDU-ČSL",
          "KSČM",
          "Nezařaz",
          "ODS",
          "Piráti",
          "SPD",
          "STAN",
          "TOP09",
          "ČSSD"
         ],
         "y": [
          20349,
          8740,
          9042,
          1491,
          20008,
          13205,
          6446,
          4505,
          4628,
          7393
         ]
        }
       ],
       "layout": {
        "autosize": true,
        "template": {
         "data": {
          "bar": [
           {
            "error_x": {
             "color": "#2a3f5f"
            },
            "error_y": {
             "color": "#2a3f5f"
            },
            "marker": {
             "line": {
              "color": "#E5ECF6",
              "width": 0.5
             }
            },
            "type": "bar"
           }
          ],
          "barpolar": [
           {
            "marker": {
             "line": {
              "color": "#E5ECF6",
              "width": 0.5
             }
            },
            "type": "barpolar"
           }
          ],
          "carpet": [
           {
            "aaxis": {
             "endlinecolor": "#2a3f5f",
             "gridcolor": "white",
             "linecolor": "white",
             "minorgridcolor": "white",
             "startlinecolor": "#2a3f5f"
            },
            "baxis": {
             "endlinecolor": "#2a3f5f",
             "gridcolor": "white",
             "linecolor": "white",
             "minorgridcolor": "white",
             "startlinecolor": "#2a3f5f"
            },
            "type": "carpet"
           }
          ],
          "choropleth": [
           {
            "colorbar": {
             "outlinewidth": 0,
             "ticks": ""
            },
            "type": "choropleth"
           }
          ],
          "contour": [
           {
            "colorbar": {
             "outlinewidth": 0,
             "ticks": ""
            },
            "colorscale": [
             [
              0,
              "#0d0887"
             ],
             [
              0.1111111111111111,
              "#46039f"
             ],
             [
              0.2222222222222222,
              "#7201a8"
             ],
             [
              0.3333333333333333,
              "#9c179e"
             ],
             [
              0.4444444444444444,
              "#bd3786"
             ],
             [
              0.5555555555555556,
              "#d8576b"
             ],
             [
              0.6666666666666666,
              "#ed7953"
             ],
             [
              0.7777777777777778,
              "#fb9f3a"
             ],
             [
              0.8888888888888888,
              "#fdca26"
             ],
             [
              1,
              "#f0f921"
             ]
            ],
            "type": "contour"
           }
          ],
          "contourcarpet": [
           {
            "colorbar": {
             "outlinewidth": 0,
             "ticks": ""
            },
            "type": "contourcarpet"
           }
          ],
          "heatmap": [
           {
            "colorbar": {
             "outlinewidth": 0,
             "ticks": ""
            },
            "colorscale": [
             [
              0,
              "#0d0887"
             ],
             [
              0.1111111111111111,
              "#46039f"
             ],
             [
              0.2222222222222222,
              "#7201a8"
             ],
             [
              0.3333333333333333,
              "#9c179e"
             ],
             [
              0.4444444444444444,
              "#bd3786"
             ],
             [
              0.5555555555555556,
              "#d8576b"
             ],
             [
              0.6666666666666666,
              "#ed7953"
             ],
             [
              0.7777777777777778,
              "#fb9f3a"
             ],
             [
              0.8888888888888888,
              "#fdca26"
             ],
             [
              1,
              "#f0f921"
             ]
            ],
            "type": "heatmap"
           }
          ],
          "heatmapgl": [
           {
            "colorbar": {
             "outlinewidth": 0,
             "ticks": ""
            },
            "colorscale": [
             [
              0,
              "#0d0887"
             ],
             [
              0.1111111111111111,
              "#46039f"
             ],
             [
              0.2222222222222222,
              "#7201a8"
             ],
             [
              0.3333333333333333,
              "#9c179e"
             ],
             [
              0.4444444444444444,
              "#bd3786"
             ],
             [
              0.5555555555555556,
              "#d8576b"
             ],
             [
              0.6666666666666666,
              "#ed7953"
             ],
             [
              0.7777777777777778,
              "#fb9f3a"
             ],
             [
              0.8888888888888888,
              "#fdca26"
             ],
             [
              1,
              "#f0f921"
             ]
            ],
            "type": "heatmapgl"
           }
          ],
          "histogram": [
           {
            "marker": {
             "colorbar": {
              "outlinewidth": 0,
              "ticks": ""
             }
            },
            "type": "histogram"
           }
          ],
          "histogram2d": [
           {
            "colorbar": {
             "outlinewidth": 0,
             "ticks": ""
            },
            "colorscale": [
             [
              0,
              "#0d0887"
             ],
             [
              0.1111111111111111,
              "#46039f"
             ],
             [
              0.2222222222222222,
              "#7201a8"
             ],
             [
              0.3333333333333333,
              "#9c179e"
             ],
             [
              0.4444444444444444,
              "#bd3786"
             ],
             [
              0.5555555555555556,
              "#d8576b"
             ],
             [
              0.6666666666666666,
              "#ed7953"
             ],
             [
              0.7777777777777778,
              "#fb9f3a"
             ],
             [
              0.8888888888888888,
              "#fdca26"
             ],
             [
              1,
              "#f0f921"
             ]
            ],
            "type": "histogram2d"
           }
          ],
          "histogram2dcontour": [
           {
            "colorbar": {
             "outlinewidth": 0,
             "ticks": ""
            },
            "colorscale": [
             [
              0,
              "#0d0887"
             ],
             [
              0.1111111111111111,
              "#46039f"
             ],
             [
              0.2222222222222222,
              "#7201a8"
             ],
             [
              0.3333333333333333,
              "#9c179e"
             ],
             [
              0.4444444444444444,
              "#bd3786"
             ],
             [
              0.5555555555555556,
              "#d8576b"
             ],
             [
              0.6666666666666666,
              "#ed7953"
             ],
             [
              0.7777777777777778,
              "#fb9f3a"
             ],
             [
              0.8888888888888888,
              "#fdca26"
             ],
             [
              1,
              "#f0f921"
             ]
            ],
            "type": "histogram2dcontour"
           }
          ],
          "mesh3d": [
           {
            "colorbar": {
             "outlinewidth": 0,
             "ticks": ""
            },
            "type": "mesh3d"
           }
          ],
          "parcoords": [
           {
            "line": {
             "colorbar": {
              "outlinewidth": 0,
              "ticks": ""
             }
            },
            "type": "parcoords"
           }
          ],
          "pie": [
           {
            "automargin": true,
            "type": "pie"
           }
          ],
          "scatter": [
           {
            "marker": {
             "colorbar": {
              "outlinewidth": 0,
              "ticks": ""
             }
            },
            "type": "scatter"
           }
          ],
          "scatter3d": [
           {
            "line": {
             "colorbar": {
              "outlinewidth": 0,
              "ticks": ""
             }
            },
            "marker": {
             "colorbar": {
              "outlinewidth": 0,
              "ticks": ""
             }
            },
            "type": "scatter3d"
           }
          ],
          "scattercarpet": [
           {
            "marker": {
             "colorbar": {
              "outlinewidth": 0,
              "ticks": ""
             }
            },
            "type": "scattercarpet"
           }
          ],
          "scattergeo": [
           {
            "marker": {
             "colorbar": {
              "outlinewidth": 0,
              "ticks": ""
             }
            },
            "type": "scattergeo"
           }
          ],
          "scattergl": [
           {
            "marker": {
             "colorbar": {
              "outlinewidth": 0,
              "ticks": ""
             }
            },
            "type": "scattergl"
           }
          ],
          "scattermapbox": [
           {
            "marker": {
             "colorbar": {
              "outlinewidth": 0,
              "ticks": ""
             }
            },
            "type": "scattermapbox"
           }
          ],
          "scatterpolar": [
           {
            "marker": {
             "colorbar": {
              "outlinewidth": 0,
              "ticks": ""
             }
            },
            "type": "scatterpolar"
           }
          ],
          "scatterpolargl": [
           {
            "marker": {
             "colorbar": {
              "outlinewidth": 0,
              "ticks": ""
             }
            },
            "type": "scatterpolargl"
           }
          ],
          "scatterternary": [
           {
            "marker": {
             "colorbar": {
              "outlinewidth": 0,
              "ticks": ""
             }
            },
            "type": "scatterternary"
           }
          ],
          "surface": [
           {
            "colorbar": {
             "outlinewidth": 0,
             "ticks": ""
            },
            "colorscale": [
             [
              0,
              "#0d0887"
             ],
             [
              0.1111111111111111,
              "#46039f"
             ],
             [
              0.2222222222222222,
              "#7201a8"
             ],
             [
              0.3333333333333333,
              "#9c179e"
             ],
             [
              0.4444444444444444,
              "#bd3786"
             ],
             [
              0.5555555555555556,
              "#d8576b"
             ],
             [
              0.6666666666666666,
              "#ed7953"
             ],
             [
              0.7777777777777778,
              "#fb9f3a"
             ],
             [
              0.8888888888888888,
              "#fdca26"
             ],
             [
              1,
              "#f0f921"
             ]
            ],
            "type": "surface"
           }
          ],
          "table": [
           {
            "cells": {
             "fill": {
              "color": "#EBF0F8"
             },
             "line": {
              "color": "white"
             }
            },
            "header": {
             "fill": {
              "color": "#C8D4E3"
             },
             "line": {
              "color": "white"
             }
            },
            "type": "table"
           }
          ]
         },
         "layout": {
          "annotationdefaults": {
           "arrowcolor": "#2a3f5f",
           "arrowhead": 0,
           "arrowwidth": 1
          },
          "coloraxis": {
           "colorbar": {
            "outlinewidth": 0,
            "ticks": ""
           }
          },
          "colorscale": {
           "diverging": [
            [
             0,
             "#8e0152"
            ],
            [
             0.1,
             "#c51b7d"
            ],
            [
             0.2,
             "#de77ae"
            ],
            [
             0.3,
             "#f1b6da"
            ],
            [
             0.4,
             "#fde0ef"
            ],
            [
             0.5,
             "#f7f7f7"
            ],
            [
             0.6,
             "#e6f5d0"
            ],
            [
             0.7,
             "#b8e186"
            ],
            [
             0.8,
             "#7fbc41"
            ],
            [
             0.9,
             "#4d9221"
            ],
            [
             1,
             "#276419"
            ]
           ],
           "sequential": [
            [
             0,
             "#0d0887"
            ],
            [
             0.1111111111111111,
             "#46039f"
            ],
            [
             0.2222222222222222,
             "#7201a8"
            ],
            [
             0.3333333333333333,
             "#9c179e"
            ],
            [
             0.4444444444444444,
             "#bd3786"
            ],
            [
             0.5555555555555556,
             "#d8576b"
            ],
            [
             0.6666666666666666,
             "#ed7953"
            ],
            [
             0.7777777777777778,
             "#fb9f3a"
            ],
            [
             0.8888888888888888,
             "#fdca26"
            ],
            [
             1,
             "#f0f921"
            ]
           ],
           "sequentialminus": [
            [
             0,
             "#0d0887"
            ],
            [
             0.1111111111111111,
             "#46039f"
            ],
            [
             0.2222222222222222,
             "#7201a8"
            ],
            [
             0.3333333333333333,
             "#9c179e"
            ],
            [
             0.4444444444444444,
             "#bd3786"
            ],
            [
             0.5555555555555556,
             "#d8576b"
            ],
            [
             0.6666666666666666,
             "#ed7953"
            ],
            [
             0.7777777777777778,
             "#fb9f3a"
            ],
            [
             0.8888888888888888,
             "#fdca26"
            ],
            [
             1,
             "#f0f921"
            ]
           ]
          },
          "colorway": [
           "#636efa",
           "#EF553B",
           "#00cc96",
           "#ab63fa",
           "#FFA15A",
           "#19d3f3",
           "#FF6692",
           "#B6E880",
           "#FF97FF",
           "#FECB52"
          ],
          "font": {
           "color": "#2a3f5f"
          },
          "geo": {
           "bgcolor": "white",
           "lakecolor": "white",
           "landcolor": "#E5ECF6",
           "showlakes": true,
           "showland": true,
           "subunitcolor": "white"
          },
          "hoverlabel": {
           "align": "left"
          },
          "hovermode": "closest",
          "mapbox": {
           "style": "light"
          },
          "paper_bgcolor": "white",
          "plot_bgcolor": "#E5ECF6",
          "polar": {
           "angularaxis": {
            "gridcolor": "white",
            "linecolor": "white",
            "ticks": ""
           },
           "bgcolor": "#E5ECF6",
           "radialaxis": {
            "gridcolor": "white",
            "linecolor": "white",
            "ticks": ""
           }
          },
          "scene": {
           "xaxis": {
            "backgroundcolor": "#E5ECF6",
            "gridcolor": "white",
            "gridwidth": 2,
            "linecolor": "white",
            "showbackground": true,
            "ticks": "",
            "zerolinecolor": "white"
           },
           "yaxis": {
            "backgroundcolor": "#E5ECF6",
            "gridcolor": "white",
            "gridwidth": 2,
            "linecolor": "white",
            "showbackground": true,
            "ticks": "",
            "zerolinecolor": "white"
           },
           "zaxis": {
            "backgroundcolor": "#E5ECF6",
            "gridcolor": "white",
            "gridwidth": 2,
            "linecolor": "white",
            "showbackground": true,
            "ticks": "",
            "zerolinecolor": "white"
           }
          },
          "shapedefaults": {
           "line": {
            "color": "#2a3f5f"
           }
          },
          "ternary": {
           "aaxis": {
            "gridcolor": "white",
            "linecolor": "white",
            "ticks": ""
           },
           "baxis": {
            "gridcolor": "white",
            "linecolor": "white",
            "ticks": ""
           },
           "bgcolor": "#E5ECF6",
           "caxis": {
            "gridcolor": "white",
            "linecolor": "white",
            "ticks": ""
           }
          },
          "title": {
           "x": 0.05
          },
          "xaxis": {
           "automargin": true,
           "gridcolor": "white",
           "linecolor": "white",
           "ticks": "",
           "title": {
            "standoff": 15
           },
           "zerolinecolor": "white",
           "zerolinewidth": 2
          },
          "yaxis": {
           "automargin": true,
           "gridcolor": "white",
           "linecolor": "white",
           "ticks": "",
           "title": {
            "standoff": 15
           },
           "zerolinecolor": "white",
           "zerolinewidth": 2
          }
         }
        },
        "xaxis": {
         "autorange": true,
         "range": [
          -0.5,
          9.5
         ],
         "type": "category"
        },
        "yaxis": {
         "autorange": true,
         "range": [
          0,
          21420
         ],
         "type": "linear"
        }
       }
      },
      "image/png": "[encoded data removed]",
      "text/html": [
       "<div>\n",
       "        \n",
       "        \n",
       "            <div id=\"cca64706-1c62-40e3-a4d8-107be368765d\" class=\"plotly-graph-div\" style=\"height:525px; width:100%;\"></div>\n",
       "            <script type=\"text/javascript\">\n",
       "                require([\"plotly\"], function(Plotly) {\n",
       "                    window.PLOTLYENV=window.PLOTLYENV || {};\n",
       "                    \n",
       "                if (document.getElementById(\"cca64706-1c62-40e3-a4d8-107be368765d\")) {\n",
       "                    Plotly.newPlot(\n",
       "                        'cca64706-1c62-40e3-a4d8-107be368765d',\n",
       "                        [{\"type\": \"bar\", \"x\": [\"ANO\", \"KDU-\\u010cSL\", \"KS\\u010cM\", \"Neza\\u0159az\", \"ODS\", \"Pir\\u00e1ti\", \"SPD\", \"STAN\", \"TOP09\", \"\\u010cSSD\"], \"y\": [20349, 8740, 9042, 1491, 20008, 13205, 6446, 4505, 4628, 7393]}],\n",
       "                        {\"template\": {\"data\": {\"bar\": [{\"error_x\": {\"color\": \"#2a3f5f\"}, \"error_y\": {\"color\": \"#2a3f5f\"}, \"marker\": {\"line\": {\"color\": \"#E5ECF6\", \"width\": 0.5}}, \"type\": \"bar\"}], \"barpolar\": [{\"marker\": {\"line\": {\"color\": \"#E5ECF6\", \"width\": 0.5}}, \"type\": \"barpolar\"}], \"carpet\": [{\"aaxis\": {\"endlinecolor\": \"#2a3f5f\", \"gridcolor\": \"white\", \"linecolor\": \"white\", \"minorgridcolor\": \"white\", \"startlinecolor\": \"#2a3f5f\"}, \"baxis\": {\"endlinecolor\": \"#2a3f5f\", \"gridcolor\": \"white\", \"linecolor\": \"white\", \"minorgridcolor\": \"white\", \"startlinecolor\": \"#2a3f5f\"}, \"type\": \"carpet\"}], \"choropleth\": [{\"colorbar\": {\"outlinewidth\": 0, \"ticks\": \"\"}, \"type\": \"choropleth\"}], \"contour\": [{\"colorbar\": {\"outlinewidth\": 0, \"ticks\": \"\"}, \"colorscale\": [[0.0, \"#0d0887\"], [0.1111111111111111, \"#46039f\"], [0.2222222222222222, \"#7201a8\"], [0.3333333333333333, \"#9c179e\"], [0.4444444444444444, \"#bd3786\"], [0.5555555555555556, \"#d8576b\"], [0.6666666666666666, \"#ed7953\"], [0.7777777777777778, \"#fb9f3a\"], [0.8888888888888888, \"#fdca26\"], [1.0, \"#f0f921\"]], \"type\": \"contour\"}], \"contourcarpet\": [{\"colorbar\": {\"outlinewidth\": 0, \"ticks\": \"\"}, \"type\": \"contourcarpet\"}], \"heatmap\": [{\"colorbar\": {\"outlinewidth\": 0, \"ticks\": \"\"}, \"colorscale\": [[0.0, \"#0d0887\"], [0.1111111111111111, \"#46039f\"], [0.2222222222222222, \"#7201a8\"], [0.3333333333333333, \"#9c179e\"], [0.4444444444444444, \"#bd3786\"], [0.5555555555555556, \"#d8576b\"], [0.6666666666666666, \"#ed7953\"], [0.7777777777777778, \"#fb9f3a\"], [0.8888888888888888, \"#fdca26\"], [1.0, \"#f0f921\"]], \"type\": \"heatmap\"}], \"heatmapgl\": [{\"colorbar\": {\"outlinewidth\": 0, \"ticks\": \"\"}, \"colorscale\": [[0.0, \"#0d0887\"], [0.1111111111111111, \"#46039f\"], [0.2222222222222222, \"#7201a8\"], [0.3333333333333333, \"#9c179e\"], [0.4444444444444444, \"#bd3786\"], [0.5555555555555556, \"#d8576b\"], [0.6666666666666666, \"#ed7953\"], [0.7777777777777778, \"#fb9f3a\"], [0.8888888888888888, \"#fdca26\"], [1.0, \"#f0f921\"]], \"type\": \"heatmapgl\"}], \"histogram\": [{\"marker\": {\"colorbar\": {\"outlinewidth\": 0, \"ticks\": \"\"}}, \"type\": \"histogram\"}], \"histogram2d\": [{\"colorbar\": {\"outlinewidth\": 0, \"ticks\": \"\"}, \"colorscale\": [[0.0, \"#0d0887\"], [0.1111111111111111, \"#46039f\"], [0.2222222222222222, \"#7201a8\"], [0.3333333333333333, \"#9c179e\"], [0.4444444444444444, \"#bd3786\"], [0.5555555555555556, \"#d8576b\"], [0.6666666666666666, \"#ed7953\"], [0.7777777777777778, \"#fb9f3a\"], [0.8888888888888888, \"#fdca26\"], [1.0, \"#f0f921\"]], \"type\": \"histogram2d\"}], \"histogram2dcontour\": [{\"colorbar\": {\"outlinewidth\": 0, \"ticks\": \"\"}, \"colorscale\": [[0.0, \"#0d0887\"], [0.1111111111111111, \"#46039f\"], [0.2222222222222222, \"#7201a8\"], [0.3333333333333333, \"#9c179e\"], [0.4444444444444444, \"#bd3786\"], [0.5555555555555556, \"#d8576b\"], [0.6666666666666666, \"#ed7953\"], [0.7777777777777778, \"#fb9f3a\"], [0.8888888888888888, \"#fdca26\"], [1.0, \"#f0f921\"]], \"type\": \"histogram2dcontour\"}], \"mesh3d\": [{\"colorbar\": {\"outlinewidth\": 0, \"ticks\": \"\"}, \"type\": \"mesh3d\"}], \"parcoords\": [{\"line\": {\"colorbar\": {\"outlinewidth\": 0, \"ticks\": \"\"}}, \"type\": \"parcoords\"}], \"pie\": [{\"automargin\": true, \"type\": \"pie\"}], \"scatter\": [{\"marker\": {\"colorbar\": {\"outlinewidth\": 0, \"ticks\": \"\"}}, \"type\": \"scatter\"}], \"scatter3d\": [{\"line\": {\"colorbar\": {\"outlinewidth\": 0, \"ticks\": \"\"}}, \"marker\": {\"colorbar\": {\"outlinewidth\": 0, \"ticks\": \"\"}}, \"type\": \"scatter3d\"}], \"scattercarpet\": [{\"marker\": {\"colorbar\": {\"outlinewidth\": 0, \"ticks\": \"\"}}, \"type\": \"scattercarpet\"}], \"scattergeo\": [{\"marker\": {\"colorbar\": {\"outlinewidth\": 0, \"ticks\": \"\"}}, \"type\": \"scattergeo\"}], \"scattergl\": [{\"marker\": {\"colorbar\": {\"outlinewidth\": 0, \"ticks\": \"\"}}, \"type\": \"scattergl\"}], \"scattermapbox\": [{\"marker\": {\"colorbar\": {\"outlinewidth\": 0, \"ticks\": \"\"}}, \"type\": \"scattermapbox\"}], \"scatterpolar\": [{\"marker\": {\"colorbar\": {\"outlinewidth\": 0, \"ticks\": \"\"}}, \"type\": \"scatterpolar\"}], \"scatterpolargl\": [{\"marker\": {\"colorbar\": {\"outlinewidth\": 0, \"ticks\": \"\"}}, \"type\": \"scatterpolargl\"}], \"scatterternary\": [{\"marker\": {\"colorbar\": {\"outlinewidth\": 0, \"ticks\": \"\"}}, \"type\": \"scatterternary\"}], \"surface\": [{\"colorbar\": {\"outlinewidth\": 0, \"ticks\": \"\"}, \"colorscale\": [[0.0, \"#0d0887\"], [0.1111111111111111, \"#46039f\"], [0.2222222222222222, \"#7201a8\"], [0.3333333333333333, \"#9c179e\"], [0.4444444444444444, \"#bd3786\"], [0.5555555555555556, \"#d8576b\"], [0.6666666666666666, \"#ed7953\"], [0.7777777777777778, \"#fb9f3a\"], [0.8888888888888888, \"#fdca26\"], [1.0, \"#f0f921\"]], \"type\": \"surface\"}], \"table\": [{\"cells\": {\"fill\": {\"color\": \"#EBF0F8\"}, \"line\": {\"color\": \"white\"}}, \"header\": {\"fill\": {\"color\": \"#C8D4E3\"}, \"line\": {\"color\": \"white\"}}, \"type\": \"table\"}]}, \"layout\": {\"annotationdefaults\": {\"arrowcolor\": \"#2a3f5f\", \"arrowhead\": 0, \"arrowwidth\": 1}, \"coloraxis\": {\"colorbar\": {\"outlinewidth\": 0, \"ticks\": \"\"}}, \"colorscale\": {\"diverging\": [[0, \"#8e0152\"], [0.1, \"#c51b7d\"], [0.2, \"#de77ae\"], [0.3, \"#f1b6da\"], [0.4, \"#fde0ef\"], [0.5, \"#f7f7f7\"], [0.6, \"#e6f5d0\"], [0.7, \"#b8e186\"], [0.8, \"#7fbc41\"], [0.9, \"#4d9221\"], [1, \"#276419\"]], \"sequential\": [[0.0, \"#0d0887\"], [0.1111111111111111, \"#46039f\"], [0.2222222222222222, \"#7201a8\"], [0.3333333333333333, \"#9c179e\"], [0.4444444444444444, \"#bd3786\"], [0.5555555555555556, \"#d8576b\"], [0.6666666666666666, \"#ed7953\"], [0.7777777777777778, \"#fb9f3a\"], [0.8888888888888888, \"#fdca26\"], [1.0, \"#f0f921\"]], \"sequentialminus\": [[0.0, \"#0d0887\"], [0.1111111111111111, \"#46039f\"], [0.2222222222222222, \"#7201a8\"], [0.3333333333333333, \"#9c179e\"], [0.4444444444444444, \"#bd3786\"], [0.5555555555555556, \"#d8576b\"], [0.6666666666666666, \"#ed7953\"], [0.7777777777777778, \"#fb9f3a\"], [0.8888888888888888, \"#fdca26\"], [1.0, \"#f0f921\"]]}, \"colorway\": [\"#636efa\", \"#EF553B\", \"#00cc96\", \"#ab63fa\", \"#FFA15A\", \"#19d3f3\", \"#FF6692\", \"#B6E880\", \"#FF97FF\", \"#FECB52\"], \"font\": {\"color\": \"#2a3f5f\"}, \"geo\": {\"bgcolor\": \"white\", \"lakecolor\": \"white\", \"landcolor\": \"#E5ECF6\", \"showlakes\": true, \"showland\": true, \"subunitcolor\": \"white\"}, \"hoverlabel\": {\"align\": \"left\"}, \"hovermode\": \"closest\", \"mapbox\": {\"style\": \"light\"}, \"paper_bgcolor\": \"white\", \"plot_bgcolor\": \"#E5ECF6\", \"polar\": {\"angularaxis\": {\"gridcolor\": \"white\", \"linecolor\": \"white\", \"ticks\": \"\"}, \"bgcolor\": \"#E5ECF6\", \"radialaxis\": {\"gridcolor\": \"white\", \"linecolor\": \"white\", \"ticks\": \"\"}}, \"scene\": {\"xaxis\": {\"backgroundcolor\": \"#E5ECF6\", \"gridcolor\": \"white\", \"gridwidth\": 2, \"linecolor\": \"white\", \"showbackground\": true, \"ticks\": \"\", \"zerolinecolor\": \"white\"}, \"yaxis\": {\"backgroundcolor\": \"#E5ECF6\", \"gridcolor\": \"white\", \"gridwidth\": 2, \"linecolor\": \"white\", \"showbackground\": true, \"ticks\": \"\", \"zerolinecolor\": \"white\"}, \"zaxis\": {\"backgroundcolor\": \"#E5ECF6\", \"gridcolor\": \"white\", \"gridwidth\": 2, \"linecolor\": \"white\", \"showbackground\": true, \"ticks\": \"\", \"zerolinecolor\": \"white\"}}, \"shapedefaults\": {\"line\": {\"color\": \"#2a3f5f\"}}, \"ternary\": {\"aaxis\": {\"gridcolor\": \"white\", \"linecolor\": \"white\", \"ticks\": \"\"}, \"baxis\": {\"gridcolor\": \"white\", \"linecolor\": \"white\", \"ticks\": \"\"}, \"bgcolor\": \"#E5ECF6\", \"caxis\": {\"gridcolor\": \"white\", \"linecolor\": \"white\", \"ticks\": \"\"}}, \"title\": {\"x\": 0.05}, \"xaxis\": {\"automargin\": true, \"gridcolor\": \"white\", \"linecolor\": \"white\", \"ticks\": \"\", \"title\": {\"standoff\": 15}, \"zerolinecolor\": \"white\", \"zerolinewidth\": 2}, \"yaxis\": {\"automargin\": true, \"gridcolor\": \"white\", \"linecolor\": \"white\", \"ticks\": \"\", \"title\": {\"standoff\": 15}, \"zerolinecolor\": \"white\", \"zerolinewidth\": 2}}}},\n",
       "                        {\"responsive\": true}\n",
       "                    ).then(function(){\n",
       "                            \n",
       "var gd = document.getElementById('cca64706-1c62-40e3-a4d8-107be368765d');\n",
       "var x = new MutationObserver(function (mutations, observer) {{\n",
       "        var display = window.getComputedStyle(gd).display;\n",
       "        if (!display || display === 'none') {{\n",
       "            console.log([gd, 'removed!']);\n",
       "            Plotly.purge(gd);\n",
       "            observer.disconnect();\n",
       "        }}\n",
       "}});\n",
       "\n",
       "// Listen for the removal of the full notebook cells\n",
       "var notebookContainer = gd.closest('#notebook-container');\n",
       "if (notebookContainer) {{\n",
       "    x.observe(notebookContainer, {childList: true});\n",
       "}}\n",
       "\n",
       "// Listen for the clearing of the current output cell\n",
       "var outputEl = gd.closest('.output');\n",
       "if (outputEl) {{\n",
       "    x.observe(outputEl, {childList: true});\n",
       "}}\n",
       "\n",
       "                        })\n",
       "                };\n",
       "                });\n",
       "            </script>\n",
       "        </div>"
      ]
     },
     "metadata": {},
     "output_type": "display_data"
    }
   ],
   "source": [
    "data = promluvy.groupby('zkratka').size()\n",
    "x = data.index\n",
    "y = data.values\n",
    "go.Figure(go.Bar(x=x, y=y))"
   ]
  },
  {
   "cell_type": "code",
   "execution_count": 44,
   "metadata": {},
   "outputs": [
    {
     "data": {
      "application/vnd.plotly.v1+json": {
       "config": {
        "plotlyServerURL": "https://plot.ly"
       },
       "data": [
        {
         "type": "bar",
         "x": [
          "ANO",
          "STAN",
          "KSČM",
          "Piráti",
          "Nezařaz",
          "SPD",
          "ČSSD",
          "KDU-ČSL",
          "ODS",
          "TOP09"
         ],
         "y": [
          70.94073418841221,
          71.11120976692564,
          73.6393497013935,
          75.84551306323362,
          81.15492957746478,
          81.92863791498604,
          84.36980927904774,
          86.48546910755148,
          87.6186025589764,
          90.16961970613656
         ]
        }
       ],
       "layout": {
        "autosize": true,
        "template": {
         "data": {
          "bar": [
           {
            "error_x": {
             "color": "#2a3f5f"
            },
            "error_y": {
             "color": "#2a3f5f"
            },
            "marker": {
             "line": {
              "color": "#E5ECF6",
              "width": 0.5
             }
            },
            "type": "bar"
           }
          ],
          "barpolar": [
           {
            "marker": {
             "line": {
              "color": "#E5ECF6",
              "width": 0.5
             }
            },
            "type": "barpolar"
           }
          ],
          "carpet": [
           {
            "aaxis": {
             "endlinecolor": "#2a3f5f",
             "gridcolor": "white",
             "linecolor": "white",
             "minorgridcolor": "white",
             "startlinecolor": "#2a3f5f"
            },
            "baxis": {
             "endlinecolor": "#2a3f5f",
             "gridcolor": "white",
             "linecolor": "white",
             "minorgridcolor": "white",
             "startlinecolor": "#2a3f5f"
            },
            "type": "carpet"
           }
          ],
          "choropleth": [
           {
            "colorbar": {
             "outlinewidth": 0,
             "ticks": ""
            },
            "type": "choropleth"
           }
          ],
          "contour": [
           {
            "colorbar": {
             "outlinewidth": 0,
             "ticks": ""
            },
            "colorscale": [
             [
              0,
              "#0d0887"
             ],
             [
              0.1111111111111111,
              "#46039f"
             ],
             [
              0.2222222222222222,
              "#7201a8"
             ],
             [
              0.3333333333333333,
              "#9c179e"
             ],
             [
              0.4444444444444444,
              "#bd3786"
             ],
             [
              0.5555555555555556,
              "#d8576b"
             ],
             [
              0.6666666666666666,
              "#ed7953"
             ],
             [
              0.7777777777777778,
              "#fb9f3a"
             ],
             [
              0.8888888888888888,
              "#fdca26"
             ],
             [
              1,
              "#f0f921"
             ]
            ],
            "type": "contour"
           }
          ],
          "contourcarpet": [
           {
            "colorbar": {
             "outlinewidth": 0,
             "ticks": ""
            },
            "type": "contourcarpet"
           }
          ],
          "heatmap": [
           {
            "colorbar": {
             "outlinewidth": 0,
             "ticks": ""
            },
            "colorscale": [
             [
              0,
              "#0d0887"
             ],
             [
              0.1111111111111111,
              "#46039f"
             ],
             [
              0.2222222222222222,
              "#7201a8"
             ],
             [
              0.3333333333333333,
              "#9c179e"
             ],
             [
              0.4444444444444444,
              "#bd3786"
             ],
             [
              0.5555555555555556,
              "#d8576b"
             ],
             [
              0.6666666666666666,
              "#ed7953"
             ],
             [
              0.7777777777777778,
              "#fb9f3a"
             ],
             [
              0.8888888888888888,
              "#fdca26"
             ],
             [
              1,
              "#f0f921"
             ]
            ],
            "type": "heatmap"
           }
          ],
          "heatmapgl": [
           {
            "colorbar": {
             "outlinewidth": 0,
             "ticks": ""
            },
            "colorscale": [
             [
              0,
              "#0d0887"
             ],
             [
              0.1111111111111111,
              "#46039f"
             ],
             [
              0.2222222222222222,
              "#7201a8"
             ],
             [
              0.3333333333333333,
              "#9c179e"
             ],
             [
              0.4444444444444444,
              "#bd3786"
             ],
             [
              0.5555555555555556,
              "#d8576b"
             ],
             [
              0.6666666666666666,
              "#ed7953"
             ],
             [
              0.7777777777777778,
              "#fb9f3a"
             ],
             [
              0.8888888888888888,
              "#fdca26"
             ],
             [
              1,
              "#f0f921"
             ]
            ],
            "type": "heatmapgl"
           }
          ],
          "histogram": [
           {
            "marker": {
             "colorbar": {
              "outlinewidth": 0,
              "ticks": ""
             }
            },
            "type": "histogram"
           }
          ],
          "histogram2d": [
           {
            "colorbar": {
             "outlinewidth": 0,
             "ticks": ""
            },
            "colorscale": [
             [
              0,
              "#0d0887"
             ],
             [
              0.1111111111111111,
              "#46039f"
             ],
             [
              0.2222222222222222,
              "#7201a8"
             ],
             [
              0.3333333333333333,
              "#9c179e"
             ],
             [
              0.4444444444444444,
              "#bd3786"
             ],
             [
              0.5555555555555556,
              "#d8576b"
             ],
             [
              0.6666666666666666,
              "#ed7953"
             ],
             [
              0.7777777777777778,
              "#fb9f3a"
             ],
             [
              0.8888888888888888,
              "#fdca26"
             ],
             [
              1,
              "#f0f921"
             ]
            ],
            "type": "histogram2d"
           }
          ],
          "histogram2dcontour": [
           {
            "colorbar": {
             "outlinewidth": 0,
             "ticks": ""
            },
            "colorscale": [
             [
              0,
              "#0d0887"
             ],
             [
              0.1111111111111111,
              "#46039f"
             ],
             [
              0.2222222222222222,
              "#7201a8"
             ],
             [
              0.3333333333333333,
              "#9c179e"
             ],
             [
              0.4444444444444444,
              "#bd3786"
             ],
             [
              0.5555555555555556,
              "#d8576b"
             ],
             [
              0.6666666666666666,
              "#ed7953"
             ],
             [
              0.7777777777777778,
              "#fb9f3a"
             ],
             [
              0.8888888888888888,
              "#fdca26"
             ],
             [
              1,
              "#f0f921"
             ]
            ],
            "type": "histogram2dcontour"
           }
          ],
          "mesh3d": [
           {
            "colorbar": {
             "outlinewidth": 0,
             "ticks": ""
            },
            "type": "mesh3d"
           }
          ],
          "parcoords": [
           {
            "line": {
             "colorbar": {
              "outlinewidth": 0,
              "ticks": ""
             }
            },
            "type": "parcoords"
           }
          ],
          "pie": [
           {
            "automargin": true,
            "type": "pie"
           }
          ],
          "scatter": [
           {
            "marker": {
             "colorbar": {
              "outlinewidth": 0,
              "ticks": ""
             }
            },
            "type": "scatter"
           }
          ],
          "scatter3d": [
           {
            "line": {
             "colorbar": {
              "outlinewidth": 0,
              "ticks": ""
             }
            },
            "marker": {
             "colorbar": {
              "outlinewidth": 0,
              "ticks": ""
             }
            },
            "type": "scatter3d"
           }
          ],
          "scattercarpet": [
           {
            "marker": {
             "colorbar": {
              "outlinewidth": 0,
              "ticks": ""
             }
            },
            "type": "scattercarpet"
           }
          ],
          "scattergeo": [
           {
            "marker": {
             "colorbar": {
              "outlinewidth": 0,
              "ticks": ""
             }
            },
            "type": "scattergeo"
           }
          ],
          "scattergl": [
           {
            "marker": {
             "colorbar": {
              "outlinewidth": 0,
              "ticks": ""
             }
            },
            "type": "scattergl"
           }
          ],
          "scattermapbox": [
           {
            "marker": {
             "colorbar": {
              "outlinewidth": 0,
              "ticks": ""
             }
            },
            "type": "scattermapbox"
           }
          ],
          "scatterpolar": [
           {
            "marker": {
             "colorbar": {
              "outlinewidth": 0,
              "ticks": ""
             }
            },
            "type": "scatterpolar"
           }
          ],
          "scatterpolargl": [
           {
            "marker": {
             "colorbar": {
              "outlinewidth": 0,
              "ticks": ""
             }
            },
            "type": "scatterpolargl"
           }
          ],
          "scatterternary": [
           {
            "marker": {
             "colorbar": {
              "outlinewidth": 0,
              "ticks": ""
             }
            },
            "type": "scatterternary"
           }
          ],
          "surface": [
           {
            "colorbar": {
             "outlinewidth": 0,
             "ticks": ""
            },
            "colorscale": [
             [
              0,
              "#0d0887"
             ],
             [
              0.1111111111111111,
              "#46039f"
             ],
             [
              0.2222222222222222,
              "#7201a8"
             ],
             [
              0.3333333333333333,
              "#9c179e"
             ],
             [
              0.4444444444444444,
              "#bd3786"
             ],
             [
              0.5555555555555556,
              "#d8576b"
             ],
             [
              0.6666666666666666,
              "#ed7953"
             ],
             [
              0.7777777777777778,
              "#fb9f3a"
             ],
             [
              0.8888888888888888,
              "#fdca26"
             ],
             [
              1,
              "#f0f921"
             ]
            ],
            "type": "surface"
           }
          ],
          "table": [
           {
            "cells": {
             "fill": {
              "color": "#EBF0F8"
             },
             "line": {
              "color": "white"
             }
            },
            "header": {
             "fill": {
              "color": "#C8D4E3"
             },
             "line": {
              "color": "white"
             }
            },
            "type": "table"
           }
          ]
         },
         "layout": {
          "annotationdefaults": {
           "arrowcolor": "#2a3f5f",
           "arrowhead": 0,
           "arrowwidth": 1
          },
          "coloraxis": {
           "colorbar": {
            "outlinewidth": 0,
            "ticks": ""
           }
          },
          "colorscale": {
           "diverging": [
            [
             0,
             "#8e0152"
            ],
            [
             0.1,
             "#c51b7d"
            ],
            [
             0.2,
             "#de77ae"
            ],
            [
             0.3,
             "#f1b6da"
            ],
            [
             0.4,
             "#fde0ef"
            ],
            [
             0.5,
             "#f7f7f7"
            ],
            [
             0.6,
             "#e6f5d0"
            ],
            [
             0.7,
             "#b8e186"
            ],
            [
             0.8,
             "#7fbc41"
            ],
            [
             0.9,
             "#4d9221"
            ],
            [
             1,
             "#276419"
            ]
           ],
           "sequential": [
            [
             0,
             "#0d0887"
            ],
            [
             0.1111111111111111,
             "#46039f"
            ],
            [
             0.2222222222222222,
             "#7201a8"
            ],
            [
             0.3333333333333333,
             "#9c179e"
            ],
            [
             0.4444444444444444,
             "#bd3786"
            ],
            [
             0.5555555555555556,
             "#d8576b"
            ],
            [
             0.6666666666666666,
             "#ed7953"
            ],
            [
             0.7777777777777778,
             "#fb9f3a"
            ],
            [
             0.8888888888888888,
             "#fdca26"
            ],
            [
             1,
             "#f0f921"
            ]
           ],
           "sequentialminus": [
            [
             0,
             "#0d0887"
            ],
            [
             0.1111111111111111,
             "#46039f"
            ],
            [
             0.2222222222222222,
             "#7201a8"
            ],
            [
             0.3333333333333333,
             "#9c179e"
            ],
            [
             0.4444444444444444,
             "#bd3786"
            ],
            [
             0.5555555555555556,
             "#d8576b"
            ],
            [
             0.6666666666666666,
             "#ed7953"
            ],
            [
             0.7777777777777778,
             "#fb9f3a"
            ],
            [
             0.8888888888888888,
             "#fdca26"
            ],
            [
             1,
             "#f0f921"
            ]
           ]
          },
          "colorway": [
           "#636efa",
           "#EF553B",
           "#00cc96",
           "#ab63fa",
           "#FFA15A",
           "#19d3f3",
           "#FF6692",
           "#B6E880",
           "#FF97FF",
           "#FECB52"
          ],
          "font": {
           "color": "#2a3f5f"
          },
          "geo": {
           "bgcolor": "white",
           "lakecolor": "white",
           "landcolor": "#E5ECF6",
           "showlakes": true,
           "showland": true,
           "subunitcolor": "white"
          },
          "hoverlabel": {
           "align": "left"
          },
          "hovermode": "closest",
          "mapbox": {
           "style": "light"
          },
          "paper_bgcolor": "white",
          "plot_bgcolor": "#E5ECF6",
          "polar": {
           "angularaxis": {
            "gridcolor": "white",
            "linecolor": "white",
            "ticks": ""
           },
           "bgcolor": "#E5ECF6",
           "radialaxis": {
            "gridcolor": "white",
            "linecolor": "white",
            "ticks": ""
           }
          },
          "scene": {
           "xaxis": {
            "backgroundcolor": "#E5ECF6",
            "gridcolor": "white",
            "gridwidth": 2,
            "linecolor": "white",
            "showbackground": true,
            "ticks": "",
            "zerolinecolor": "white"
           },
           "yaxis": {
            "backgroundcolor": "#E5ECF6",
            "gridcolor": "white",
            "gridwidth": 2,
            "linecolor": "white",
            "showbackground": true,
            "ticks": "",
            "zerolinecolor": "white"
           },
           "zaxis": {
            "backgroundcolor": "#E5ECF6",
            "gridcolor": "white",
            "gridwidth": 2,
            "linecolor": "white",
            "showbackground": true,
            "ticks": "",
            "zerolinecolor": "white"
           }
          },
          "shapedefaults": {
           "line": {
            "color": "#2a3f5f"
           }
          },
          "ternary": {
           "aaxis": {
            "gridcolor": "white",
            "linecolor": "white",
            "ticks": ""
           },
           "baxis": {
            "gridcolor": "white",
            "linecolor": "white",
            "ticks": ""
           },
           "bgcolor": "#E5ECF6",
           "caxis": {
            "gridcolor": "white",
            "linecolor": "white",
            "ticks": ""
           }
          },
          "title": {
           "x": 0.05
          },
          "xaxis": {
           "automargin": true,
           "gridcolor": "white",
           "linecolor": "white",
           "ticks": "",
           "title": {
            "standoff": 15
           },
           "zerolinecolor": "white",
           "zerolinewidth": 2
          },
          "yaxis": {
           "automargin": true,
           "gridcolor": "white",
           "linecolor": "white",
           "ticks": "",
           "title": {
            "standoff": 15
           },
           "zerolinecolor": "white",
           "zerolinewidth": 2
          }
         }
        },
        "xaxis": {
         "autorange": true,
         "range": [
          -0.5,
          9.5
         ],
         "type": "category"
        },
        "yaxis": {
         "autorange": true,
         "range": [
          0,
          94.91538916435427
         ],
         "type": "linear"
        }
       }
      },
      "image/png": "[encoded data removed]",
      "text/html": [
       "<div>\n",
       "        \n",
       "        \n",
       "            <div id=\"80aefc90-e547-44af-92da-62ae45819d50\" class=\"plotly-graph-div\" style=\"height:525px; width:100%;\"></div>\n",
       "            <script type=\"text/javascript\">\n",
       "                require([\"plotly\"], function(Plotly) {\n",
       "                    window.PLOTLYENV=window.PLOTLYENV || {};\n",
       "                    \n",
       "                if (document.getElementById(\"80aefc90-e547-44af-92da-62ae45819d50\")) {\n",
       "                    Plotly.newPlot(\n",
       "                        '80aefc90-e547-44af-92da-62ae45819d50',\n",
       "                        [{\"type\": \"bar\", \"x\": [\"ANO\", \"STAN\", \"KS\\u010cM\", \"Pir\\u00e1ti\", \"Neza\\u0159az\", \"SPD\", \"\\u010cSSD\", \"KDU-\\u010cSL\", \"ODS\", \"TOP09\"], \"y\": [70.94073418841221, 71.11120976692564, 73.6393497013935, 75.84551306323362, 81.15492957746478, 81.92863791498604, 84.36980927904774, 86.48546910755148, 87.6186025589764, 90.16961970613656]}],\n",
       "                        {\"template\": {\"data\": {\"bar\": [{\"error_x\": {\"color\": \"#2a3f5f\"}, \"error_y\": {\"color\": \"#2a3f5f\"}, \"marker\": {\"line\": {\"color\": \"#E5ECF6\", \"width\": 0.5}}, \"type\": \"bar\"}], \"barpolar\": [{\"marker\": {\"line\": {\"color\": \"#E5ECF6\", \"width\": 0.5}}, \"type\": \"barpolar\"}], \"carpet\": [{\"aaxis\": {\"endlinecolor\": \"#2a3f5f\", \"gridcolor\": \"white\", \"linecolor\": \"white\", \"minorgridcolor\": \"white\", \"startlinecolor\": \"#2a3f5f\"}, \"baxis\": {\"endlinecolor\": \"#2a3f5f\", \"gridcolor\": \"white\", \"linecolor\": \"white\", \"minorgridcolor\": \"white\", \"startlinecolor\": \"#2a3f5f\"}, \"type\": \"carpet\"}], \"choropleth\": [{\"colorbar\": {\"outlinewidth\": 0, \"ticks\": \"\"}, \"type\": \"choropleth\"}], \"contour\": [{\"colorbar\": {\"outlinewidth\": 0, \"ticks\": \"\"}, \"colorscale\": [[0.0, \"#0d0887\"], [0.1111111111111111, \"#46039f\"], [0.2222222222222222, \"#7201a8\"], [0.3333333333333333, \"#9c179e\"], [0.4444444444444444, \"#bd3786\"], [0.5555555555555556, \"#d8576b\"], [0.6666666666666666, \"#ed7953\"], [0.7777777777777778, \"#fb9f3a\"], [0.8888888888888888, \"#fdca26\"], [1.0, \"#f0f921\"]], \"type\": \"contour\"}], \"contourcarpet\": [{\"colorbar\": {\"outlinewidth\": 0, \"ticks\": \"\"}, \"type\": \"contourcarpet\"}], \"heatmap\": [{\"colorbar\": {\"outlinewidth\": 0, \"ticks\": \"\"}, \"colorscale\": [[0.0, \"#0d0887\"], [0.1111111111111111, \"#46039f\"], [0.2222222222222222, \"#7201a8\"], [0.3333333333333333, \"#9c179e\"], [0.4444444444444444, \"#bd3786\"], [0.5555555555555556, \"#d8576b\"], [0.6666666666666666, \"#ed7953\"], [0.7777777777777778, \"#fb9f3a\"], [0.8888888888888888, \"#fdca26\"], [1.0, \"#f0f921\"]], \"type\": \"heatmap\"}], \"heatmapgl\": [{\"colorbar\": {\"outlinewidth\": 0, \"ticks\": \"\"}, \"colorscale\": [[0.0, \"#0d0887\"], [0.1111111111111111, \"#46039f\"], [0.2222222222222222, \"#7201a8\"], [0.3333333333333333, \"#9c179e\"], [0.4444444444444444, \"#bd3786\"], [0.5555555555555556, \"#d8576b\"], [0.6666666666666666, \"#ed7953\"], [0.7777777777777778, \"#fb9f3a\"], [0.8888888888888888, \"#fdca26\"], [1.0, \"#f0f921\"]], \"type\": \"heatmapgl\"}], \"histogram\": [{\"marker\": {\"colorbar\": {\"outlinewidth\": 0, \"ticks\": \"\"}}, \"type\": \"histogram\"}], \"histogram2d\": [{\"colorbar\": {\"outlinewidth\": 0, \"ticks\": \"\"}, \"colorscale\": [[0.0, \"#0d0887\"], [0.1111111111111111, \"#46039f\"], [0.2222222222222222, \"#7201a8\"], [0.3333333333333333, \"#9c179e\"], [0.4444444444444444, \"#bd3786\"], [0.5555555555555556, \"#d8576b\"], [0.6666666666666666, \"#ed7953\"], [0.7777777777777778, \"#fb9f3a\"], [0.8888888888888888, \"#fdca26\"], [1.0, \"#f0f921\"]], \"type\": \"histogram2d\"}], \"histogram2dcontour\": [{\"colorbar\": {\"outlinewidth\": 0, \"ticks\": \"\"}, \"colorscale\": [[0.0, \"#0d0887\"], [0.1111111111111111, \"#46039f\"], [0.2222222222222222, \"#7201a8\"], [0.3333333333333333, \"#9c179e\"], [0.4444444444444444, \"#bd3786\"], [0.5555555555555556, \"#d8576b\"], [0.6666666666666666, \"#ed7953\"], [0.7777777777777778, \"#fb9f3a\"], [0.8888888888888888, \"#fdca26\"], [1.0, \"#f0f921\"]], \"type\": \"histogram2dcontour\"}], \"mesh3d\": [{\"colorbar\": {\"outlinewidth\": 0, \"ticks\": \"\"}, \"type\": \"mesh3d\"}], \"parcoords\": [{\"line\": {\"colorbar\": {\"outlinewidth\": 0, \"ticks\": \"\"}}, \"type\": \"parcoords\"}], \"pie\": [{\"automargin\": true, \"type\": \"pie\"}], \"scatter\": [{\"marker\": {\"colorbar\": {\"outlinewidth\": 0, \"ticks\": \"\"}}, \"type\": \"scatter\"}], \"scatter3d\": [{\"line\": {\"colorbar\": {\"outlinewidth\": 0, \"ticks\": \"\"}}, \"marker\": {\"colorbar\": {\"outlinewidth\": 0, \"ticks\": \"\"}}, \"type\": \"scatter3d\"}], \"scattercarpet\": [{\"marker\": {\"colorbar\": {\"outlinewidth\": 0, \"ticks\": \"\"}}, \"type\": \"scattercarpet\"}], \"scattergeo\": [{\"marker\": {\"colorbar\": {\"outlinewidth\": 0, \"ticks\": \"\"}}, \"type\": \"scattergeo\"}], \"scattergl\": [{\"marker\": {\"colorbar\": {\"outlinewidth\": 0, \"ticks\": \"\"}}, \"type\": \"scattergl\"}], \"scattermapbox\": [{\"marker\": {\"colorbar\": {\"outlinewidth\": 0, \"ticks\": \"\"}}, \"type\": \"scattermapbox\"}], \"scatterpolar\": [{\"marker\": {\"colorbar\": {\"outlinewidth\": 0, \"ticks\": \"\"}}, \"type\": \"scatterpolar\"}], \"scatterpolargl\": [{\"marker\": {\"colorbar\": {\"outlinewidth\": 0, \"ticks\": \"\"}}, \"type\": \"scatterpolargl\"}], \"scatterternary\": [{\"marker\": {\"colorbar\": {\"outlinewidth\": 0, \"ticks\": \"\"}}, \"type\": \"scatterternary\"}], \"surface\": [{\"colorbar\": {\"outlinewidth\": 0, \"ticks\": \"\"}, \"colorscale\": [[0.0, \"#0d0887\"], [0.1111111111111111, \"#46039f\"], [0.2222222222222222, \"#7201a8\"], [0.3333333333333333, \"#9c179e\"], [0.4444444444444444, \"#bd3786\"], [0.5555555555555556, \"#d8576b\"], [0.6666666666666666, \"#ed7953\"], [0.7777777777777778, \"#fb9f3a\"], [0.8888888888888888, \"#fdca26\"], [1.0, \"#f0f921\"]], \"type\": \"surface\"}], \"table\": [{\"cells\": {\"fill\": {\"color\": \"#EBF0F8\"}, \"line\": {\"color\": \"white\"}}, \"header\": {\"fill\": {\"color\": \"#C8D4E3\"}, \"line\": {\"color\": \"white\"}}, \"type\": \"table\"}]}, \"layout\": {\"annotationdefaults\": {\"arrowcolor\": \"#2a3f5f\", \"arrowhead\": 0, \"arrowwidth\": 1}, \"coloraxis\": {\"colorbar\": {\"outlinewidth\": 0, \"ticks\": \"\"}}, \"colorscale\": {\"diverging\": [[0, \"#8e0152\"], [0.1, \"#c51b7d\"], [0.2, \"#de77ae\"], [0.3, \"#f1b6da\"], [0.4, \"#fde0ef\"], [0.5, \"#f7f7f7\"], [0.6, \"#e6f5d0\"], [0.7, \"#b8e186\"], [0.8, \"#7fbc41\"], [0.9, \"#4d9221\"], [1, \"#276419\"]], \"sequential\": [[0.0, \"#0d0887\"], [0.1111111111111111, \"#46039f\"], [0.2222222222222222, \"#7201a8\"], [0.3333333333333333, \"#9c179e\"], [0.4444444444444444, \"#bd3786\"], [0.5555555555555556, \"#d8576b\"], [0.6666666666666666, \"#ed7953\"], [0.7777777777777778, \"#fb9f3a\"], [0.8888888888888888, \"#fdca26\"], [1.0, \"#f0f921\"]], \"sequentialminus\": [[0.0, \"#0d0887\"], [0.1111111111111111, \"#46039f\"], [0.2222222222222222, \"#7201a8\"], [0.3333333333333333, \"#9c179e\"], [0.4444444444444444, \"#bd3786\"], [0.5555555555555556, \"#d8576b\"], [0.6666666666666666, \"#ed7953\"], [0.7777777777777778, \"#fb9f3a\"], [0.8888888888888888, \"#fdca26\"], [1.0, \"#f0f921\"]]}, \"colorway\": [\"#636efa\", \"#EF553B\", \"#00cc96\", \"#ab63fa\", \"#FFA15A\", \"#19d3f3\", \"#FF6692\", \"#B6E880\", \"#FF97FF\", \"#FECB52\"], \"font\": {\"color\": \"#2a3f5f\"}, \"geo\": {\"bgcolor\": \"white\", \"lakecolor\": \"white\", \"landcolor\": \"#E5ECF6\", \"showlakes\": true, \"showland\": true, \"subunitcolor\": \"white\"}, \"hoverlabel\": {\"align\": \"left\"}, \"hovermode\": \"closest\", \"mapbox\": {\"style\": \"light\"}, \"paper_bgcolor\": \"white\", \"plot_bgcolor\": \"#E5ECF6\", \"polar\": {\"angularaxis\": {\"gridcolor\": \"white\", \"linecolor\": \"white\", \"ticks\": \"\"}, \"bgcolor\": \"#E5ECF6\", \"radialaxis\": {\"gridcolor\": \"white\", \"linecolor\": \"white\", \"ticks\": \"\"}}, \"scene\": {\"xaxis\": {\"backgroundcolor\": \"#E5ECF6\", \"gridcolor\": \"white\", \"gridwidth\": 2, \"linecolor\": \"white\", \"showbackground\": true, \"ticks\": \"\", \"zerolinecolor\": \"white\"}, \"yaxis\": {\"backgroundcolor\": \"#E5ECF6\", \"gridcolor\": \"white\", \"gridwidth\": 2, \"linecolor\": \"white\", \"showbackground\": true, \"ticks\": \"\", \"zerolinecolor\": \"white\"}, \"zaxis\": {\"backgroundcolor\": \"#E5ECF6\", \"gridcolor\": \"white\", \"gridwidth\": 2, \"linecolor\": \"white\", \"showbackground\": true, \"ticks\": \"\", \"zerolinecolor\": \"white\"}}, \"shapedefaults\": {\"line\": {\"color\": \"#2a3f5f\"}}, \"ternary\": {\"aaxis\": {\"gridcolor\": \"white\", \"linecolor\": \"white\", \"ticks\": \"\"}, \"baxis\": {\"gridcolor\": \"white\", \"linecolor\": \"white\", \"ticks\": \"\"}, \"bgcolor\": \"#E5ECF6\", \"caxis\": {\"gridcolor\": \"white\", \"linecolor\": \"white\", \"ticks\": \"\"}}, \"title\": {\"x\": 0.05}, \"xaxis\": {\"automargin\": true, \"gridcolor\": \"white\", \"linecolor\": \"white\", \"ticks\": \"\", \"title\": {\"standoff\": 15}, \"zerolinecolor\": \"white\", \"zerolinewidth\": 2}, \"yaxis\": {\"automargin\": true, \"gridcolor\": \"white\", \"linecolor\": \"white\", \"ticks\": \"\", \"title\": {\"standoff\": 15}, \"zerolinecolor\": \"white\", \"zerolinewidth\": 2}}}},\n",
       "                        {\"responsive\": true}\n",
       "                    ).then(function(){\n",
       "                            \n",
       "var gd = document.getElementById('80aefc90-e547-44af-92da-62ae45819d50');\n",
       "var x = new MutationObserver(function (mutations, observer) {{\n",
       "        var display = window.getComputedStyle(gd).display;\n",
       "        if (!display || display === 'none') {{\n",
       "            console.log([gd, 'removed!']);\n",
       "            Plotly.purge(gd);\n",
       "            observer.disconnect();\n",
       "        }}\n",
       "}});\n",
       "\n",
       "// Listen for the removal of the full notebook cells\n",
       "var notebookContainer = gd.closest('#notebook-container');\n",
       "if (notebookContainer) {{\n",
       "    x.observe(notebookContainer, {childList: true});\n",
       "}}\n",
       "\n",
       "// Listen for the clearing of the current output cell\n",
       "var outputEl = gd.closest('.output');\n",
       "if (outputEl) {{\n",
       "    x.observe(outputEl, {childList: true});\n",
       "}}\n",
       "\n",
       "                        })\n",
       "                };\n",
       "                });\n",
       "            </script>\n",
       "        </div>"
      ]
     },
     "metadata": {},
     "output_type": "display_data"
    }
   ],
   "source": [
    "data = promluvy.text.str.split(' ').apply(len).groupby(promluvy.zkratka).mean().sort_values()\n",
    "x = data.index\n",
    "y = data.values\n",
    "go.Figure(go.Bar(x=x, y=y))"
   ]
  },
  {
   "cell_type": "code",
   "execution_count": 16,
   "metadata": {},
   "outputs": [
    {
     "data": {
      "text/plain": [
       "id_osoba\n",
       "4       1436\n",
       "100       27\n",
       "211        4\n",
       "237        4\n",
       "252      868\n",
       "        ... \n",
       "6659      26\n",
       "6660       9\n",
       "6662     159\n",
       "6683     573\n",
       "6687       7\n",
       "Length: 290, dtype: int64"
      ]
     },
     "execution_count": 16,
     "metadata": {},
     "output_type": "execute_result"
    }
   ],
   "source": [
    "promluvy.groupby('id_osoba').size()"
   ]
  },
  {
   "cell_type": "code",
   "execution_count": null,
   "metadata": {},
   "outputs": [],
   "source": []
  }
 ],
 "metadata": {
  "kernelspec": {
   "display_name": "finance",
   "language": "python",
   "name": "finance"
  },
  "language_info": {
   "codemirror_mode": {
    "name": "ipython",
    "version": 3
   },
   "file_extension": ".py",
   "mimetype": "text/x-python",
   "name": "python",
   "nbconvert_exporter": "python",
   "pygments_lexer": "ipython3",
   "version": "3.7.7"
  }
 },
 "nbformat": 4,
 "nbformat_minor": 4
}
